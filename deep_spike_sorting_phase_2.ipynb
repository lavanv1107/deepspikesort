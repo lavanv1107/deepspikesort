{
 "cells": [
  {
   "cell_type": "markdown",
   "metadata": {},
   "source": [
    "# Phase 2: Implementing DeepCluster"
   ]
  },
  {
   "cell_type": "markdown",
   "metadata": {},
   "source": [
    "---"
   ]
  },
  {
   "cell_type": "markdown",
   "metadata": {},
   "source": [
    "## 1. Extract the data in an NWB file"
   ]
  },
  {
   "cell_type": "markdown",
   "metadata": {},
   "source": [
    "### Import required modules"
   ]
  },
  {
   "cell_type": "code",
   "execution_count": 1,
   "metadata": {
    "tags": []
   },
   "outputs": [],
   "source": [
    "import matplotlib.pyplot as plt\n",
    "\n",
    "import numpy as np\n",
    "import pandas as pd\n",
    "\n",
    "from pathlib import Path\n",
    "import os\n",
    "import re\n",
    "import pickle\n",
    "\n",
    "import torch\n",
    "import torch.nn as nn\n",
    "from torchinfo import summary\n",
    "\n",
    "from torch.utils.data import DataLoader\n",
    "from collections import Counter\n",
    "\n",
    "from pycave.bayes import GaussianMixture\n",
    "import warnings\n",
    "warnings.simplefilter(\"ignore\")\n",
    "\n",
    "%matplotlib widget"
   ]
  },
  {
   "cell_type": "code",
   "execution_count": 2,
   "metadata": {
    "tags": []
   },
   "outputs": [],
   "source": [
    "import spikeinterface.full as si\n",
    "from spikeinterface.sortingcomponents.peak_detection import detect_peaks"
   ]
  },
  {
   "cell_type": "code",
   "execution_count": 3,
   "metadata": {
    "tags": []
   },
   "outputs": [
    {
     "name": "stdout",
     "output_type": "stream",
     "text": [
      "SpikeInterface version: 0.98.2\n"
     ]
    }
   ],
   "source": [
    "print(f\"SpikeInterface version: {si.__version__}\")"
   ]
  },
  {
   "cell_type": "code",
   "execution_count": 4,
   "metadata": {
    "tags": []
   },
   "outputs": [],
   "source": [
    "import preprocessing\n",
    "import process_peaks\n",
    "import dataset\n",
    "import model\n",
    "import deepcluster"
   ]
  },
  {
   "cell_type": "markdown",
   "metadata": {},
   "source": [
    "### Read the NWB file"
   ]
  },
  {
   "cell_type": "code",
   "execution_count": 5,
   "metadata": {
    "tags": []
   },
   "outputs": [],
   "source": [
    "base_folder = Path(\".\")\n",
    "nwb_file = \"sub-CSHL049_ses-c99d53e6-c317-4c53-99ba-070b26673ac4_behavior+ecephys+image.nwb\""
   ]
  },
  {
   "cell_type": "code",
   "execution_count": 6,
   "metadata": {
    "tags": []
   },
   "outputs": [
    {
     "data": {
      "text/plain": [
       "NwbRecordingExtractor: 384 channels - 30.0kHz - 1 segments - 125,189,472 samples \n",
       "                       4,172.98s (1.16 hours) - int16 dtype - 89.54 GiB\n",
       "  file_path: /pscratch/sd/v/vlavan/sub-CSHL049_ses-c99d53e6-c317-4c53-99ba-070b26673ac4_behavior+ecephys+image.nwb"
      ]
     },
     "execution_count": 6,
     "metadata": {},
     "output_type": "execute_result"
    }
   ],
   "source": [
    "recording_nwb = si.read_nwb(nwb_file, electrical_series_name='ElectricalSeriesAp')\n",
    "recording_nwb"
   ]
  },
  {
   "cell_type": "code",
   "execution_count": 7,
   "metadata": {
    "tags": []
   },
   "outputs": [],
   "source": [
    "recording_nwb.annotate(is_filtered=False)"
   ]
  },
  {
   "cell_type": "markdown",
   "metadata": {},
   "source": [
    "### Preprocess the recording"
   ]
  },
  {
   "cell_type": "code",
   "execution_count": 8,
   "metadata": {
    "tags": []
   },
   "outputs": [
    {
     "data": {
      "text/plain": [
       "BandpassFilterRecording: 384 channels - 30.0kHz - 1 segments - 125,189,472 samples \n",
       "                         4,172.98s (1.16 hours) - int16 dtype - 89.54 GiB"
      ]
     },
     "execution_count": 8,
     "metadata": {},
     "output_type": "execute_result"
    }
   ],
   "source": [
    "recording_f = si.bandpass_filter(recording_nwb, freq_min=300, freq_max=6000)\n",
    "recording_f"
   ]
  },
  {
   "cell_type": "code",
   "execution_count": 9,
   "metadata": {
    "tags": []
   },
   "outputs": [
    {
     "data": {
      "text/plain": [
       "CommonReferenceRecording: 384 channels - 30.0kHz - 1 segments - 125,189,472 samples \n",
       "                          4,172.98s (1.16 hours) - int16 dtype - 89.54 GiB"
      ]
     },
     "execution_count": 9,
     "metadata": {},
     "output_type": "execute_result"
    }
   ],
   "source": [
    "recording_cmr = si.common_reference(recording_f, reference='global', operator='median')\n",
    "recording_cmr"
   ]
  },
  {
   "cell_type": "markdown",
   "metadata": {},
   "source": [
    "### Extract channels and spikes information"
   ]
  },
  {
   "cell_type": "code",
   "execution_count": 10,
   "metadata": {
    "tags": []
   },
   "outputs": [
    {
     "data": {
      "text/plain": [
       "ChannelSliceRecording: 384 channels - 30.0kHz - 1 segments - 125,189,472 samples \n",
       "                       4,172.98s (1.16 hours) - int16 dtype - 89.54 GiB"
      ]
     },
     "execution_count": 10,
     "metadata": {},
     "output_type": "execute_result"
    }
   ],
   "source": [
    "recording_slice = preprocessing.channel_slice_electricalseriesap(recording_cmr)\n",
    "recording_slice"
   ]
  },
  {
   "cell_type": "code",
   "execution_count": 11,
   "metadata": {
    "tags": []
   },
   "outputs": [
    {
     "data": {
      "text/html": [
       "<div>\n",
       "<style scoped>\n",
       "    .dataframe tbody tr th:only-of-type {\n",
       "        vertical-align: middle;\n",
       "    }\n",
       "\n",
       "    .dataframe tbody tr th {\n",
       "        vertical-align: top;\n",
       "    }\n",
       "\n",
       "    .dataframe thead th {\n",
       "        text-align: right;\n",
       "    }\n",
       "</style>\n",
       "<table border=\"1\" class=\"dataframe\">\n",
       "  <thead>\n",
       "    <tr style=\"text-align: right;\">\n",
       "      <th></th>\n",
       "      <th>channel_id</th>\n",
       "      <th>channel_loc_x</th>\n",
       "      <th>channel_loc_y</th>\n",
       "    </tr>\n",
       "  </thead>\n",
       "  <tbody>\n",
       "    <tr>\n",
       "      <th>0</th>\n",
       "      <td>AP0</td>\n",
       "      <td>16.0</td>\n",
       "      <td>0.0</td>\n",
       "    </tr>\n",
       "    <tr>\n",
       "      <th>1</th>\n",
       "      <td>AP1</td>\n",
       "      <td>48.0</td>\n",
       "      <td>0.0</td>\n",
       "    </tr>\n",
       "    <tr>\n",
       "      <th>2</th>\n",
       "      <td>AP2</td>\n",
       "      <td>0.0</td>\n",
       "      <td>20.0</td>\n",
       "    </tr>\n",
       "    <tr>\n",
       "      <th>3</th>\n",
       "      <td>AP3</td>\n",
       "      <td>32.0</td>\n",
       "      <td>20.0</td>\n",
       "    </tr>\n",
       "    <tr>\n",
       "      <th>4</th>\n",
       "      <td>AP4</td>\n",
       "      <td>16.0</td>\n",
       "      <td>40.0</td>\n",
       "    </tr>\n",
       "    <tr>\n",
       "      <th>...</th>\n",
       "      <td>...</td>\n",
       "      <td>...</td>\n",
       "      <td>...</td>\n",
       "    </tr>\n",
       "    <tr>\n",
       "      <th>379</th>\n",
       "      <td>AP379</td>\n",
       "      <td>32.0</td>\n",
       "      <td>3780.0</td>\n",
       "    </tr>\n",
       "    <tr>\n",
       "      <th>380</th>\n",
       "      <td>AP380</td>\n",
       "      <td>16.0</td>\n",
       "      <td>3800.0</td>\n",
       "    </tr>\n",
       "    <tr>\n",
       "      <th>381</th>\n",
       "      <td>AP381</td>\n",
       "      <td>48.0</td>\n",
       "      <td>3800.0</td>\n",
       "    </tr>\n",
       "    <tr>\n",
       "      <th>382</th>\n",
       "      <td>AP382</td>\n",
       "      <td>0.0</td>\n",
       "      <td>3820.0</td>\n",
       "    </tr>\n",
       "    <tr>\n",
       "      <th>383</th>\n",
       "      <td>AP383</td>\n",
       "      <td>32.0</td>\n",
       "      <td>3820.0</td>\n",
       "    </tr>\n",
       "  </tbody>\n",
       "</table>\n",
       "<p>384 rows × 3 columns</p>\n",
       "</div>"
      ],
      "text/plain": [
       "    channel_id  channel_loc_x  channel_loc_y\n",
       "0          AP0           16.0            0.0\n",
       "1          AP1           48.0            0.0\n",
       "2          AP2            0.0           20.0\n",
       "3          AP3           32.0           20.0\n",
       "4          AP4           16.0           40.0\n",
       "..         ...            ...            ...\n",
       "379      AP379           32.0         3780.0\n",
       "380      AP380           16.0         3800.0\n",
       "381      AP381           48.0         3800.0\n",
       "382      AP382            0.0         3820.0\n",
       "383      AP383           32.0         3820.0\n",
       "\n",
       "[384 rows x 3 columns]"
      ]
     },
     "metadata": {},
     "output_type": "display_data"
    }
   ],
   "source": [
    "channels_table = preprocessing.extract_channels(recording_slice)\n",
    "display(channels_table)"
   ]
  },
  {
   "cell_type": "code",
   "execution_count": 12,
   "metadata": {},
   "outputs": [
    {
     "data": {
      "text/plain": [
       "array([16., 48.,  0., 32.])"
      ]
     },
     "execution_count": 12,
     "metadata": {},
     "output_type": "execute_result"
    }
   ],
   "source": [
    "channels_table['channel_loc_x'].unique()"
   ]
  },
  {
   "cell_type": "code",
   "execution_count": 13,
   "metadata": {
    "tags": []
   },
   "outputs": [
    {
     "data": {
      "text/plain": [
       "NwbSortingExtractor: 423 units - 1 segments - 30.0kHz\n",
       "  file_path: /pscratch/sd/v/vlavan/sub-CSHL049_ses-c99d53e6-c317-4c53-99ba-070b26673ac4_behavior+ecephys+image.nwb"
      ]
     },
     "execution_count": 13,
     "metadata": {},
     "output_type": "execute_result"
    }
   ],
   "source": [
    "sorting_nwb = si.read_nwb_sorting(file_path=nwb_file, electrical_series_name='ElectricalSeriesAp')\n",
    "sorting_nwb"
   ]
  },
  {
   "cell_type": "code",
   "execution_count": 14,
   "metadata": {
    "tags": []
   },
   "outputs": [],
   "source": [
    "waveform_folder = 'waveform'\n",
    "\n",
    "job_kwargs = dict(n_jobs=10, chunk_duration=\"1s\", progress_bar=True)"
   ]
  },
  {
   "cell_type": "code",
   "execution_count": 15,
   "metadata": {
    "scrolled": true,
    "tags": []
   },
   "outputs": [],
   "source": [
    "if (base_folder / waveform_folder).is_dir():\n",
    "    waveform_nwb = si.load_waveforms(base_folder / waveform_folder, with_recording=False)\n",
    "else:\n",
    "    waveform_nwb = si.extract_waveforms(\n",
    "        recording_slice,\n",
    "        sorting_nwb,\n",
    "        waveform_folder,\n",
    "        ms_before=1.5,\n",
    "        ms_after=2.,\n",
    "        max_spikes_per_unit=None,\n",
    "        overwrite=True,\n",
    "        **job_kwargs\n",
    "    )"
   ]
  },
  {
   "cell_type": "code",
   "execution_count": 16,
   "metadata": {
    "tags": []
   },
   "outputs": [
    {
     "data": {
      "text/plain": [
       "WaveformExtractor: 384 channels - 423 units - 1 segments\n",
       "  before:45 after:60 n_per_units:None"
      ]
     },
     "execution_count": 16,
     "metadata": {},
     "output_type": "execute_result"
    }
   ],
   "source": [
    "waveform_nwb"
   ]
  },
  {
   "cell_type": "code",
   "execution_count": 17,
   "metadata": {
    "tags": []
   },
   "outputs": [
    {
     "data": {
      "text/html": [
       "<div>\n",
       "<style scoped>\n",
       "    .dataframe tbody tr th:only-of-type {\n",
       "        vertical-align: middle;\n",
       "    }\n",
       "\n",
       "    .dataframe tbody tr th {\n",
       "        vertical-align: top;\n",
       "    }\n",
       "\n",
       "    .dataframe thead th {\n",
       "        text-align: right;\n",
       "    }\n",
       "</style>\n",
       "<table border=\"1\" class=\"dataframe\">\n",
       "  <thead>\n",
       "    <tr style=\"text-align: right;\">\n",
       "      <th></th>\n",
       "      <th>unit_id</th>\n",
       "      <th>peak_frame</th>\n",
       "      <th>peak_channel</th>\n",
       "    </tr>\n",
       "  </thead>\n",
       "  <tbody>\n",
       "    <tr>\n",
       "      <th>0</th>\n",
       "      <td>0</td>\n",
       "      <td>471</td>\n",
       "      <td>341</td>\n",
       "    </tr>\n",
       "    <tr>\n",
       "      <th>1</th>\n",
       "      <td>1</td>\n",
       "      <td>511</td>\n",
       "      <td>361</td>\n",
       "    </tr>\n",
       "    <tr>\n",
       "      <th>2</th>\n",
       "      <td>2</td>\n",
       "      <td>606</td>\n",
       "      <td>354</td>\n",
       "    </tr>\n",
       "    <tr>\n",
       "      <th>3</th>\n",
       "      <td>1</td>\n",
       "      <td>680</td>\n",
       "      <td>361</td>\n",
       "    </tr>\n",
       "    <tr>\n",
       "      <th>4</th>\n",
       "      <td>3</td>\n",
       "      <td>715</td>\n",
       "      <td>325</td>\n",
       "    </tr>\n",
       "    <tr>\n",
       "      <th>...</th>\n",
       "      <td>...</td>\n",
       "      <td>...</td>\n",
       "      <td>...</td>\n",
       "    </tr>\n",
       "    <tr>\n",
       "      <th>4604408</th>\n",
       "      <td>372</td>\n",
       "      <td>125188815</td>\n",
       "      <td>21</td>\n",
       "    </tr>\n",
       "    <tr>\n",
       "      <th>4604409</th>\n",
       "      <td>41</td>\n",
       "      <td>125188837</td>\n",
       "      <td>155</td>\n",
       "    </tr>\n",
       "    <tr>\n",
       "      <th>4604410</th>\n",
       "      <td>102</td>\n",
       "      <td>125188911</td>\n",
       "      <td>325</td>\n",
       "    </tr>\n",
       "    <tr>\n",
       "      <th>4604411</th>\n",
       "      <td>316</td>\n",
       "      <td>125188967</td>\n",
       "      <td>326</td>\n",
       "    </tr>\n",
       "    <tr>\n",
       "      <th>4604412</th>\n",
       "      <td>69</td>\n",
       "      <td>125189063</td>\n",
       "      <td>157</td>\n",
       "    </tr>\n",
       "  </tbody>\n",
       "</table>\n",
       "<p>4604413 rows × 3 columns</p>\n",
       "</div>"
      ],
      "text/plain": [
       "         unit_id  peak_frame  peak_channel\n",
       "0              0         471           341\n",
       "1              1         511           361\n",
       "2              2         606           354\n",
       "3              1         680           361\n",
       "4              3         715           325\n",
       "...          ...         ...           ...\n",
       "4604408      372   125188815            21\n",
       "4604409       41   125188837           155\n",
       "4604410      102   125188911           325\n",
       "4604411      316   125188967           326\n",
       "4604412       69   125189063           157\n",
       "\n",
       "[4604413 rows x 3 columns]"
      ]
     },
     "metadata": {},
     "output_type": "display_data"
    }
   ],
   "source": [
    "spikes_table = preprocessing.extract_spikes(sorting_nwb, waveform_nwb)\n",
    "display(spikes_table)"
   ]
  },
  {
   "cell_type": "code",
   "execution_count": 18,
   "metadata": {
    "tags": []
   },
   "outputs": [],
   "source": [
    "peaks_folder = 'peaks'\n",
    "\n",
    "job_kwargs = dict(chunk_duration='1s', n_jobs=8, progress_bar=True)"
   ]
  },
  {
   "cell_type": "code",
   "execution_count": 19,
   "metadata": {
    "scrolled": true,
    "tags": []
   },
   "outputs": [],
   "source": [
    "if (base_folder / peaks_folder).is_dir():\n",
    "    peaks = process_peaks.load_peaks(base_folder / peaks_folder)\n",
    "else:\n",
    "    peaks = detect_peaks(\n",
    "        recording_slice,\n",
    "        method='locally_exclusive',\n",
    "        peak_sign='neg',\n",
    "        detect_threshold=6,\n",
    "        **job_kwargs\n",
    "    )\n",
    "    \n",
    "    process_peaks.save_peaks(peaks, base_folder / peaks_folder)"
   ]
  },
  {
   "cell_type": "code",
   "execution_count": 20,
   "metadata": {
    "tags": []
   },
   "outputs": [
    {
     "data": {
      "text/html": [
       "<div>\n",
       "<style scoped>\n",
       "    .dataframe tbody tr th:only-of-type {\n",
       "        vertical-align: middle;\n",
       "    }\n",
       "\n",
       "    .dataframe tbody tr th {\n",
       "        vertical-align: top;\n",
       "    }\n",
       "\n",
       "    .dataframe thead th {\n",
       "        text-align: right;\n",
       "    }\n",
       "</style>\n",
       "<table border=\"1\" class=\"dataframe\">\n",
       "  <thead>\n",
       "    <tr style=\"text-align: right;\">\n",
       "      <th></th>\n",
       "      <th>peak_frame</th>\n",
       "      <th>peak_channel</th>\n",
       "    </tr>\n",
       "  </thead>\n",
       "  <tbody>\n",
       "    <tr>\n",
       "      <th>0</th>\n",
       "      <td>92</td>\n",
       "      <td>326</td>\n",
       "    </tr>\n",
       "    <tr>\n",
       "      <th>1</th>\n",
       "      <td>134</td>\n",
       "      <td>186</td>\n",
       "    </tr>\n",
       "    <tr>\n",
       "      <th>2</th>\n",
       "      <td>147</td>\n",
       "      <td>348</td>\n",
       "    </tr>\n",
       "    <tr>\n",
       "      <th>3</th>\n",
       "      <td>177</td>\n",
       "      <td>337</td>\n",
       "    </tr>\n",
       "    <tr>\n",
       "      <th>4</th>\n",
       "      <td>269</td>\n",
       "      <td>330</td>\n",
       "    </tr>\n",
       "    <tr>\n",
       "      <th>...</th>\n",
       "      <td>...</td>\n",
       "      <td>...</td>\n",
       "    </tr>\n",
       "    <tr>\n",
       "      <th>4062000</th>\n",
       "      <td>125189400</td>\n",
       "      <td>155</td>\n",
       "    </tr>\n",
       "    <tr>\n",
       "      <th>4062001</th>\n",
       "      <td>125189402</td>\n",
       "      <td>89</td>\n",
       "    </tr>\n",
       "    <tr>\n",
       "      <th>4062002</th>\n",
       "      <td>125189402</td>\n",
       "      <td>269</td>\n",
       "    </tr>\n",
       "    <tr>\n",
       "      <th>4062003</th>\n",
       "      <td>125189408</td>\n",
       "      <td>287</td>\n",
       "    </tr>\n",
       "    <tr>\n",
       "      <th>4062004</th>\n",
       "      <td>125189433</td>\n",
       "      <td>338</td>\n",
       "    </tr>\n",
       "  </tbody>\n",
       "</table>\n",
       "<p>4062005 rows × 2 columns</p>\n",
       "</div>"
      ],
      "text/plain": [
       "         peak_frame  peak_channel\n",
       "0                92           326\n",
       "1               134           186\n",
       "2               147           348\n",
       "3               177           337\n",
       "4               269           330\n",
       "...             ...           ...\n",
       "4062000   125189400           155\n",
       "4062001   125189402            89\n",
       "4062002   125189402           269\n",
       "4062003   125189408           287\n",
       "4062004   125189433           338\n",
       "\n",
       "[4062005 rows x 2 columns]"
      ]
     },
     "metadata": {},
     "output_type": "display_data"
    }
   ],
   "source": [
    "peaks_table = process_peaks.extract_peaks(recording_slice, peaks)\n",
    "display(peaks_table)"
   ]
  },
  {
   "cell_type": "markdown",
   "metadata": {},
   "source": [
    "---"
   ]
  },
  {
   "cell_type": "markdown",
   "metadata": {},
   "source": [
    "## 2. Match peaks to spikes"
   ]
  },
  {
   "cell_type": "code",
   "execution_count": 21,
   "metadata": {
    "tags": []
   },
   "outputs": [
    {
     "data": {
      "text/html": [
       "<div>\n",
       "<style scoped>\n",
       "    .dataframe tbody tr th:only-of-type {\n",
       "        vertical-align: middle;\n",
       "    }\n",
       "\n",
       "    .dataframe tbody tr th {\n",
       "        vertical-align: top;\n",
       "    }\n",
       "\n",
       "    .dataframe thead th {\n",
       "        text-align: right;\n",
       "    }\n",
       "</style>\n",
       "<table border=\"1\" class=\"dataframe\">\n",
       "  <thead>\n",
       "    <tr style=\"text-align: right;\">\n",
       "      <th></th>\n",
       "      <th>unit_id</th>\n",
       "      <th>peak_frame</th>\n",
       "      <th>peak_channel</th>\n",
       "    </tr>\n",
       "  </thead>\n",
       "  <tbody>\n",
       "    <tr>\n",
       "      <th>0</th>\n",
       "      <td>-1</td>\n",
       "      <td>92</td>\n",
       "      <td>326</td>\n",
       "    </tr>\n",
       "    <tr>\n",
       "      <th>1</th>\n",
       "      <td>-1</td>\n",
       "      <td>134</td>\n",
       "      <td>186</td>\n",
       "    </tr>\n",
       "    <tr>\n",
       "      <th>2</th>\n",
       "      <td>-1</td>\n",
       "      <td>147</td>\n",
       "      <td>348</td>\n",
       "    </tr>\n",
       "    <tr>\n",
       "      <th>3</th>\n",
       "      <td>-1</td>\n",
       "      <td>177</td>\n",
       "      <td>337</td>\n",
       "    </tr>\n",
       "    <tr>\n",
       "      <th>4</th>\n",
       "      <td>-1</td>\n",
       "      <td>269</td>\n",
       "      <td>330</td>\n",
       "    </tr>\n",
       "    <tr>\n",
       "      <th>...</th>\n",
       "      <td>...</td>\n",
       "      <td>...</td>\n",
       "      <td>...</td>\n",
       "    </tr>\n",
       "    <tr>\n",
       "      <th>4062000</th>\n",
       "      <td>-1</td>\n",
       "      <td>125189400</td>\n",
       "      <td>155</td>\n",
       "    </tr>\n",
       "    <tr>\n",
       "      <th>4062001</th>\n",
       "      <td>-1</td>\n",
       "      <td>125189402</td>\n",
       "      <td>89</td>\n",
       "    </tr>\n",
       "    <tr>\n",
       "      <th>4062002</th>\n",
       "      <td>-1</td>\n",
       "      <td>125189402</td>\n",
       "      <td>269</td>\n",
       "    </tr>\n",
       "    <tr>\n",
       "      <th>4062003</th>\n",
       "      <td>-1</td>\n",
       "      <td>125189408</td>\n",
       "      <td>287</td>\n",
       "    </tr>\n",
       "    <tr>\n",
       "      <th>4062004</th>\n",
       "      <td>-1</td>\n",
       "      <td>125189433</td>\n",
       "      <td>338</td>\n",
       "    </tr>\n",
       "  </tbody>\n",
       "</table>\n",
       "<p>4062005 rows × 3 columns</p>\n",
       "</div>"
      ],
      "text/plain": [
       "         unit_id  peak_frame  peak_channel\n",
       "0             -1          92           326\n",
       "1             -1         134           186\n",
       "2             -1         147           348\n",
       "3             -1         177           337\n",
       "4             -1         269           330\n",
       "...          ...         ...           ...\n",
       "4062000       -1   125189400           155\n",
       "4062001       -1   125189402            89\n",
       "4062002       -1   125189402           269\n",
       "4062003       -1   125189408           287\n",
       "4062004       -1   125189433           338\n",
       "\n",
       "[4062005 rows x 3 columns]"
      ]
     },
     "metadata": {},
     "output_type": "display_data"
    }
   ],
   "source": [
    "peaks_matched_table_file = os.path.join(peaks_folder, \"peaks_matched_table.pkl\")\n",
    "\n",
    "if os.path.exists(peaks_matched_table_file):\n",
    "    peaks_matched_table = pd.read_pickle(peaks_matched_table_file)\n",
    "else:\n",
    "    peaks_matched_table = process_peaks.match_peaks(peaks_table, spikes_table, channels_table)\n",
    "    peaks_matched_table.to_pickle(peaks_matched_table_file)\n",
    "    \n",
    "display(peaks_matched_table)"
   ]
  },
  {
   "cell_type": "markdown",
   "metadata": {},
   "source": [
    "## 3. Create a dataset from matched peaks"
   ]
  },
  {
   "cell_type": "code",
   "execution_count": 22,
   "metadata": {
    "tags": []
   },
   "outputs": [],
   "source": [
    "peaks_dataset_folder = os.path.join(peaks_folder, 'peaks_dataset')\n",
    "\n",
    "if not os.path.exists(peaks_dataset_folder):\n",
    "    os.mkdir(peaks_dataset_folder)"
   ]
  },
  {
   "cell_type": "code",
   "execution_count": 23,
   "metadata": {
    "tags": []
   },
   "outputs": [
    {
     "name": "stdout",
     "output_type": "stream",
     "text": [
      "[305, 116, 310]\n"
     ]
    }
   ],
   "source": [
    "unit_counts = peaks_matched_table['unit_id'].value_counts()\n",
    "filtered_units = unit_counts[(unit_counts >= 3000) & (unit_counts <= 4000)]\n",
    "selected_units = filtered_units.sample(n=3, random_state=1).index.to_list()\n",
    "\n",
    "print(selected_units)"
   ]
  },
  {
   "cell_type": "code",
   "execution_count": 24,
   "metadata": {
    "tags": []
   },
   "outputs": [
    {
     "name": "stdout",
     "output_type": "stream",
     "text": [
      "Dataset: 10233\n"
     ]
    }
   ],
   "source": [
    "peaks_dataset = dataset.UnsupervisedDataset(peaks_dataset_folder, selected_units, shuffle=True, seed=0)\n",
    "print('Dataset:', len(peaks_dataset))"
   ]
  },
  {
   "cell_type": "code",
   "execution_count": 25,
   "metadata": {
    "tags": []
   },
   "outputs": [
    {
     "name": "stdout",
     "output_type": "stream",
     "text": [
      "Counter({310: 3797, 116: 3336, 305: 3100})\n"
     ]
    }
   ],
   "source": [
    "classes = peaks_dataset.get_labels()\n",
    "print(Counter(classes))"
   ]
  },
  {
   "cell_type": "code",
   "execution_count": 26,
   "metadata": {},
   "outputs": [],
   "source": [
    "peaks_dataloader = DataLoader(\n",
    "        peaks_dataset,\n",
    "        batch_size=64\n",
    ")"
   ]
  },
  {
   "cell_type": "markdown",
   "metadata": {},
   "source": [
    "---"
   ]
  },
  {
   "cell_type": "markdown",
   "metadata": {},
   "source": [
    "## 4. Implementing DeepCluster"
   ]
  },
  {
   "cell_type": "code",
   "execution_count": 45,
   "metadata": {
    "tags": []
   },
   "outputs": [],
   "source": [
    "import importlib\n",
    "\n",
    "preprocessing = importlib.reload(preprocessing)\n",
    "process_peaks = importlib.reload(process_peaks)\n",
    "dataset = importlib.reload(dataset)\n",
    "model = importlib.reload(model)\n",
    "deepcluster = importlib.reload(deepcluster)"
   ]
  },
  {
   "cell_type": "code",
   "execution_count": 27,
   "metadata": {
    "tags": []
   },
   "outputs": [
    {
     "name": "stdout",
     "output_type": "stream",
     "text": [
      "Thu Nov 23 00:26:02 2023       \n",
      "+-----------------------------------------------------------------------------+\n",
      "| NVIDIA-SMI 525.105.17   Driver Version: 525.105.17   CUDA Version: 12.0     |\n",
      "|-------------------------------+----------------------+----------------------+\n",
      "| GPU  Name        Persistence-M| Bus-Id        Disp.A | Volatile Uncorr. ECC |\n",
      "| Fan  Temp  Perf  Pwr:Usage/Cap|         Memory-Usage | GPU-Util  Compute M. |\n",
      "|                               |                      |               MIG M. |\n",
      "|===============================+======================+======================|\n",
      "|   0  NVIDIA A100-PCI...  On   | 00000000:C3:00.0 Off |                    0 |\n",
      "| N/A   33C    P0    35W / 250W |   3804MiB / 40960MiB |      0%      Default |\n",
      "|                               |                      |             Disabled |\n",
      "+-------------------------------+----------------------+----------------------+\n",
      "                                                                               \n",
      "+-----------------------------------------------------------------------------+\n",
      "| Processes:                                                                  |\n",
      "|  GPU   GI   CI        PID   Type   Process name                  GPU Memory |\n",
      "|        ID   ID                                                   Usage      |\n",
      "|=============================================================================|\n",
      "|    0   N/A  N/A    614398      C   python                           3800MiB |\n",
      "+-----------------------------------------------------------------------------+\n"
     ]
    }
   ],
   "source": [
    "!nvidia-smi"
   ]
  },
  {
   "cell_type": "code",
   "execution_count": 28,
   "metadata": {
    "tags": []
   },
   "outputs": [],
   "source": [
    "num_classes=3\n",
    "deepcluster_model = model.DeepCluster(num_classes)\n",
    "gmm = GaussianMixture(num_classes, covariance_type=\"full\", init_strategy='kmeans', trainer_params=dict(gpus=[0]))"
   ]
  },
  {
   "cell_type": "code",
   "execution_count": 29,
   "metadata": {
    "tags": []
   },
   "outputs": [],
   "source": [
    "device=torch.device(\"cuda:0\")\n",
    "device_ids=[0]"
   ]
  },
  {
   "cell_type": "code",
   "execution_count": 30,
   "metadata": {
    "tags": []
   },
   "outputs": [],
   "source": [
    "deepcluster_kwargs = dict(\n",
    "    device=torch.device(\"cuda:0\"), \n",
    "    device_ids=[0], \n",
    "    loss_fn=nn.CrossEntropyLoss(), \n",
    "    optimizer=torch.optim.Adam(deepcluster_model.parameters(), lr=0.0001),\n",
    "    sampling_frequency = 30000,\n",
    "    epochs=200\n",
    ")"
   ]
  },
  {
   "cell_type": "code",
   "execution_count": 31,
   "metadata": {
    "collapsed": true,
    "jupyter": {
     "outputs_hidden": true
    },
    "tags": []
   },
   "outputs": [
    {
     "name": "stdout",
     "output_type": "stream",
     "text": [
      "Epoch 1\n",
      "Feature Extraction\n"
     ]
    },
    {
     "name": "stderr",
     "output_type": "stream",
     "text": [
      "Extracting Features: 100%|██████████| 160/160 [00:03<00:00, 44.10it/s]\n",
      "Fitting K-means estimator...\n",
      "Running initialization...\n"
     ]
    },
    {
     "name": "stdout",
     "output_type": "stream",
     "text": [
      "Clustering\n"
     ]
    },
    {
     "data": {
      "application/vnd.jupyter.widget-view+json": {
       "model_id": "341a66173fa74df0b9e626bd4eb6bcf9",
       "version_major": 2,
       "version_minor": 0
      },
      "text/plain": [
       "Training: -1it [00:00, ?it/s]"
      ]
     },
     "metadata": {},
     "output_type": "display_data"
    },
    {
     "data": {
      "application/vnd.jupyter.widget-view+json": {
       "model_id": "d62ea4e2b138493687d7053f8e12ae2e",
       "version_major": 2,
       "version_minor": 0
      },
      "text/plain": [
       "Training: -1it [00:00, ?it/s]"
      ]
     },
     "metadata": {},
     "output_type": "display_data"
    },
    {
     "name": "stderr",
     "output_type": "stream",
     "text": [
      "Fitting K-Means...\n"
     ]
    },
    {
     "data": {
      "application/vnd.jupyter.widget-view+json": {
       "model_id": "052e2eb1eab24fd4b68a136b534f6ab2",
       "version_major": 2,
       "version_minor": 0
      },
      "text/plain": [
       "Training: -1it [00:00, ?it/s]"
      ]
     },
     "metadata": {},
     "output_type": "display_data"
    },
    {
     "name": "stderr",
     "output_type": "stream",
     "text": [
      "Running initialization...\n"
     ]
    },
    {
     "data": {
      "application/vnd.jupyter.widget-view+json": {
       "model_id": "4338feedb9ed4d2288b409d947e92790",
       "version_major": 2,
       "version_minor": 0
      },
      "text/plain": [
       "Training: -1it [00:00, ?it/s]"
      ]
     },
     "metadata": {},
     "output_type": "display_data"
    },
    {
     "name": "stderr",
     "output_type": "stream",
     "text": [
      "Fitting Gaussian mixture...\n"
     ]
    },
    {
     "data": {
      "application/vnd.jupyter.widget-view+json": {
       "model_id": "2acb76be56e9408eb23902293e5e1df2",
       "version_major": 2,
       "version_minor": 0
      },
      "text/plain": [
       "Training: -1it [00:00, ?it/s]"
      ]
     },
     "metadata": {},
     "output_type": "display_data"
    },
    {
     "data": {
      "application/vnd.jupyter.widget-view+json": {
       "model_id": "cefd40de405c414bb6b7613740531ead",
       "version_major": 2,
       "version_minor": 0
      },
      "text/plain": [
       "Predicting: 0it [00:00, ?it/s]"
      ]
     },
     "metadata": {},
     "output_type": "display_data"
    },
    {
     "name": "stdout",
     "output_type": "stream",
     "text": [
      "Classification\n",
      "- Epoch: [1][0/160]\tTime: 0.224 (0.224)\tData: 0.031 (0.031)\tLoss: 1.3197 (1.3197)\n",
      "- Epoch: [1][50/160]\tTime: 0.025 (0.035)\tData: 0.017 (0.022)\tLoss: 0.5264 (0.8965)\n",
      "- Epoch: [1][100/160]\tTime: 0.022 (0.029)\tData: 0.014 (0.019)\tLoss: 0.5301 (0.6835)\n",
      "- Epoch: [1][150/160]\tTime: 0.030 (0.027)\tData: 0.022 (0.018)\tLoss: 0.2964 (0.5823)\n",
      "\n",
      "\n",
      "Epoch 2\n",
      "Feature Extraction\n"
     ]
    },
    {
     "name": "stderr",
     "output_type": "stream",
     "text": [
      "Extracting Features: 100%|██████████| 160/160 [00:03<00:00, 52.49it/s]\n",
      "Fitting K-means estimator...\n",
      "Running initialization...\n"
     ]
    },
    {
     "name": "stdout",
     "output_type": "stream",
     "text": [
      "Clustering\n"
     ]
    },
    {
     "data": {
      "application/vnd.jupyter.widget-view+json": {
       "model_id": "f82d4fac7ef24e868d26cd6a4f4a4a79",
       "version_major": 2,
       "version_minor": 0
      },
      "text/plain": [
       "Training: -1it [00:00, ?it/s]"
      ]
     },
     "metadata": {},
     "output_type": "display_data"
    },
    {
     "data": {
      "application/vnd.jupyter.widget-view+json": {
       "model_id": "e43f41f0734c4994ae4bbaebb56a47cc",
       "version_major": 2,
       "version_minor": 0
      },
      "text/plain": [
       "Training: -1it [00:00, ?it/s]"
      ]
     },
     "metadata": {},
     "output_type": "display_data"
    },
    {
     "name": "stderr",
     "output_type": "stream",
     "text": [
      "Fitting K-Means...\n"
     ]
    },
    {
     "data": {
      "application/vnd.jupyter.widget-view+json": {
       "model_id": "79d287689224445891e6a64ba0abecd9",
       "version_major": 2,
       "version_minor": 0
      },
      "text/plain": [
       "Training: -1it [00:00, ?it/s]"
      ]
     },
     "metadata": {},
     "output_type": "display_data"
    },
    {
     "name": "stderr",
     "output_type": "stream",
     "text": [
      "Running initialization...\n"
     ]
    },
    {
     "data": {
      "application/vnd.jupyter.widget-view+json": {
       "model_id": "e82f9ac4cee24c99974cc269664a955e",
       "version_major": 2,
       "version_minor": 0
      },
      "text/plain": [
       "Training: -1it [00:00, ?it/s]"
      ]
     },
     "metadata": {},
     "output_type": "display_data"
    },
    {
     "name": "stderr",
     "output_type": "stream",
     "text": [
      "Fitting Gaussian mixture...\n"
     ]
    },
    {
     "data": {
      "application/vnd.jupyter.widget-view+json": {
       "model_id": "5aa06488a04a47cd9c0b65b5f2d2f299",
       "version_major": 2,
       "version_minor": 0
      },
      "text/plain": [
       "Training: -1it [00:00, ?it/s]"
      ]
     },
     "metadata": {},
     "output_type": "display_data"
    },
    {
     "data": {
      "application/vnd.jupyter.widget-view+json": {
       "model_id": "43ec34375459432d9120694da5cd953b",
       "version_major": 2,
       "version_minor": 0
      },
      "text/plain": [
       "Predicting: 0it [00:00, ?it/s]"
      ]
     },
     "metadata": {},
     "output_type": "display_data"
    },
    {
     "name": "stdout",
     "output_type": "stream",
     "text": [
      "Cluster Comparison\n",
      "\n",
      "- Match Events:\n",
      "      0     1     2\n",
      "0  3349   256    57\n",
      "1    41   167  2809\n",
      "2   422  2856   226 \n",
      "\n",
      "- Agreement Scores:\n",
      "          0         1         2\n",
      "0  0.799857  0.038118  0.008452\n",
      "1  0.005998  0.027172  0.842784\n",
      "2  0.060895  0.726348  0.035362 \n",
      "\n",
      "- Cluster Change: 1169\n",
      "- Least Change: 1169\n",
      "- Convergence Epochs: [0/5]\n",
      "- Time: 73.4916 seconds\n",
      "\n",
      "Classification\n",
      "- Epoch: [2][0/160]\tTime: 0.049 (0.049)\tData: 0.032 (0.032)\tLoss: 2.5687 (2.5687)\n",
      "- Epoch: [2][50/160]\tTime: 0.029 (0.032)\tData: 0.020 (0.020)\tLoss: 0.4587 (0.7805)\n",
      "- Epoch: [2][100/160]\tTime: 0.033 (0.032)\tData: 0.024 (0.021)\tLoss: 0.2658 (0.5301)\n",
      "- Epoch: [2][150/160]\tTime: 0.024 (0.032)\tData: 0.015 (0.021)\tLoss: 0.1736 (0.4180)\n",
      "\n",
      "\n",
      "Epoch 3\n",
      "Feature Extraction\n"
     ]
    },
    {
     "name": "stderr",
     "output_type": "stream",
     "text": [
      "Extracting Features: 100%|██████████| 160/160 [00:03<00:00, 41.05it/s]\n",
      "Fitting K-means estimator...\n",
      "Running initialization...\n"
     ]
    },
    {
     "name": "stdout",
     "output_type": "stream",
     "text": [
      "Clustering\n"
     ]
    },
    {
     "data": {
      "application/vnd.jupyter.widget-view+json": {
       "model_id": "45622f45b2674c889f179d1d39959790",
       "version_major": 2,
       "version_minor": 0
      },
      "text/plain": [
       "Training: -1it [00:00, ?it/s]"
      ]
     },
     "metadata": {},
     "output_type": "display_data"
    },
    {
     "data": {
      "application/vnd.jupyter.widget-view+json": {
       "model_id": "f763f00c1b98445e822c5f2c12aadf64",
       "version_major": 2,
       "version_minor": 0
      },
      "text/plain": [
       "Training: -1it [00:00, ?it/s]"
      ]
     },
     "metadata": {},
     "output_type": "display_data"
    },
    {
     "name": "stderr",
     "output_type": "stream",
     "text": [
      "Fitting K-Means...\n"
     ]
    },
    {
     "data": {
      "application/vnd.jupyter.widget-view+json": {
       "model_id": "59f884ab5674464986dbff922e861f43",
       "version_major": 2,
       "version_minor": 0
      },
      "text/plain": [
       "Training: -1it [00:00, ?it/s]"
      ]
     },
     "metadata": {},
     "output_type": "display_data"
    },
    {
     "name": "stderr",
     "output_type": "stream",
     "text": [
      "Running initialization...\n"
     ]
    },
    {
     "data": {
      "application/vnd.jupyter.widget-view+json": {
       "model_id": "ef7098b09eef4c18ac52dcd5dc1dc61a",
       "version_major": 2,
       "version_minor": 0
      },
      "text/plain": [
       "Training: -1it [00:00, ?it/s]"
      ]
     },
     "metadata": {},
     "output_type": "display_data"
    },
    {
     "name": "stderr",
     "output_type": "stream",
     "text": [
      "Fitting Gaussian mixture...\n"
     ]
    },
    {
     "data": {
      "application/vnd.jupyter.widget-view+json": {
       "model_id": "ca5bf652b7ce491e86217876ee41364d",
       "version_major": 2,
       "version_minor": 0
      },
      "text/plain": [
       "Training: -1it [00:00, ?it/s]"
      ]
     },
     "metadata": {},
     "output_type": "display_data"
    },
    {
     "data": {
      "application/vnd.jupyter.widget-view+json": {
       "model_id": "2c7d7ec3e9864a409931a5673c907fc2",
       "version_major": 2,
       "version_minor": 0
      },
      "text/plain": [
       "Predicting: 0it [00:00, ?it/s]"
      ]
     },
     "metadata": {},
     "output_type": "display_data"
    },
    {
     "name": "stdout",
     "output_type": "stream",
     "text": [
      "Cluster Comparison\n",
      "\n",
      "- Match Events:\n",
      "      0     1     2\n",
      "0  3725    32    57\n",
      "1    97    86  3099\n",
      "2     6  3059    33 \n",
      "\n",
      "- Agreement Scores:\n",
      "          0         1         2\n",
      "0  0.936636  0.004571  0.008173\n",
      "1  0.013776  0.013475  0.920131\n",
      "2  0.000862  0.944719  0.005269 \n",
      "\n",
      "- Cluster Change: 311\n",
      "- Least Change: 311\n",
      "- Convergence Epochs: [0/5]\n",
      "- Time: 4.3042 seconds\n",
      "\n",
      "Classification\n",
      "- Epoch: [3][0/160]\tTime: 0.035 (0.035)\tData: 0.021 (0.021)\tLoss: 3.2498 (3.2498)\n",
      "- Epoch: [3][50/160]\tTime: 0.031 (0.033)\tData: 0.023 (0.020)\tLoss: 0.2503 (0.6167)\n",
      "- Epoch: [3][100/160]\tTime: 0.027 (0.030)\tData: 0.015 (0.018)\tLoss: 0.1184 (0.3891)\n",
      "- Epoch: [3][150/160]\tTime: 0.028 (0.029)\tData: 0.015 (0.017)\tLoss: 0.0697 (0.2958)\n",
      "\n",
      "\n",
      "Epoch 4\n",
      "Feature Extraction\n"
     ]
    },
    {
     "name": "stderr",
     "output_type": "stream",
     "text": [
      "Extracting Features: 100%|██████████| 160/160 [00:02<00:00, 56.46it/s]\n",
      "Fitting K-means estimator...\n",
      "Running initialization...\n"
     ]
    },
    {
     "name": "stdout",
     "output_type": "stream",
     "text": [
      "Clustering\n"
     ]
    },
    {
     "data": {
      "application/vnd.jupyter.widget-view+json": {
       "model_id": "acf324c2c6d240eab5f8f72cc9e7e880",
       "version_major": 2,
       "version_minor": 0
      },
      "text/plain": [
       "Training: -1it [00:00, ?it/s]"
      ]
     },
     "metadata": {},
     "output_type": "display_data"
    },
    {
     "data": {
      "application/vnd.jupyter.widget-view+json": {
       "model_id": "1956d20cdc3f4a7397f4d327d47e07ea",
       "version_major": 2,
       "version_minor": 0
      },
      "text/plain": [
       "Training: -1it [00:00, ?it/s]"
      ]
     },
     "metadata": {},
     "output_type": "display_data"
    },
    {
     "name": "stderr",
     "output_type": "stream",
     "text": [
      "Fitting K-Means...\n"
     ]
    },
    {
     "data": {
      "application/vnd.jupyter.widget-view+json": {
       "model_id": "d99e9a2148f640079e100c1a9077a626",
       "version_major": 2,
       "version_minor": 0
      },
      "text/plain": [
       "Training: -1it [00:00, ?it/s]"
      ]
     },
     "metadata": {},
     "output_type": "display_data"
    },
    {
     "name": "stderr",
     "output_type": "stream",
     "text": [
      "Running initialization...\n"
     ]
    },
    {
     "data": {
      "application/vnd.jupyter.widget-view+json": {
       "model_id": "a08d465b27b74f34874ddf929eae47f0",
       "version_major": 2,
       "version_minor": 0
      },
      "text/plain": [
       "Training: -1it [00:00, ?it/s]"
      ]
     },
     "metadata": {},
     "output_type": "display_data"
    },
    {
     "name": "stderr",
     "output_type": "stream",
     "text": [
      "Fitting Gaussian mixture...\n"
     ]
    },
    {
     "data": {
      "application/vnd.jupyter.widget-view+json": {
       "model_id": "5acdc6ef8d6a468798c8f16b97536a5a",
       "version_major": 2,
       "version_minor": 0
      },
      "text/plain": [
       "Training: -1it [00:00, ?it/s]"
      ]
     },
     "metadata": {},
     "output_type": "display_data"
    },
    {
     "data": {
      "application/vnd.jupyter.widget-view+json": {
       "model_id": "7395fb09c2fc4f81a6db8038edb0662a",
       "version_major": 2,
       "version_minor": 0
      },
      "text/plain": [
       "Predicting: 0it [00:00, ?it/s]"
      ]
     },
     "metadata": {},
     "output_type": "display_data"
    },
    {
     "name": "stdout",
     "output_type": "stream",
     "text": [
      "Cluster Comparison\n",
      "\n",
      "- Match Events:\n",
      "      0     1     2\n",
      "0    13     8  3802\n",
      "1    17  3142    11\n",
      "2  3145    21    22 \n",
      "\n",
      "- Agreement Scores:\n",
      "          0         1         2\n",
      "0  0.001852  0.001137  0.968416\n",
      "1  0.002679  0.971252  0.001561\n",
      "2  0.977923  0.003304  0.003127 \n",
      "\n",
      "- Cluster Change: 92\n",
      "- Least Change: 92\n",
      "- Convergence Epochs: [0/5]\n",
      "- Time: 3.5365 seconds\n",
      "\n",
      "Classification\n",
      "- Epoch: [4][0/160]\tTime: 0.049 (0.049)\tData: 0.030 (0.030)\tLoss: 3.8483 (3.8483)\n",
      "- Epoch: [4][50/160]\tTime: 0.034 (0.036)\tData: 0.022 (0.025)\tLoss: 0.2314 (0.9126)\n",
      "- Epoch: [4][100/160]\tTime: 0.033 (0.036)\tData: 0.024 (0.024)\tLoss: 0.1611 (0.5477)\n",
      "- Epoch: [4][150/160]\tTime: 0.037 (0.035)\tData: 0.025 (0.024)\tLoss: 0.0576 (0.4061)\n",
      "\n",
      "\n",
      "Epoch 5\n",
      "Feature Extraction\n"
     ]
    },
    {
     "name": "stderr",
     "output_type": "stream",
     "text": [
      "Extracting Features: 100%|██████████| 160/160 [00:03<00:00, 44.14it/s]\n",
      "Fitting K-means estimator...\n",
      "Running initialization...\n"
     ]
    },
    {
     "name": "stdout",
     "output_type": "stream",
     "text": [
      "Clustering\n"
     ]
    },
    {
     "data": {
      "application/vnd.jupyter.widget-view+json": {
       "model_id": "e53bcfb4854f438d938ad2130a3eeb81",
       "version_major": 2,
       "version_minor": 0
      },
      "text/plain": [
       "Training: -1it [00:00, ?it/s]"
      ]
     },
     "metadata": {},
     "output_type": "display_data"
    },
    {
     "data": {
      "application/vnd.jupyter.widget-view+json": {
       "model_id": "f985958dc4244ecb9ab2793e728abef0",
       "version_major": 2,
       "version_minor": 0
      },
      "text/plain": [
       "Training: -1it [00:00, ?it/s]"
      ]
     },
     "metadata": {},
     "output_type": "display_data"
    },
    {
     "name": "stderr",
     "output_type": "stream",
     "text": [
      "Fitting K-Means...\n"
     ]
    },
    {
     "data": {
      "application/vnd.jupyter.widget-view+json": {
       "model_id": "578446ee999f4d88969ce5fbbce05ded",
       "version_major": 2,
       "version_minor": 0
      },
      "text/plain": [
       "Training: -1it [00:00, ?it/s]"
      ]
     },
     "metadata": {},
     "output_type": "display_data"
    },
    {
     "name": "stderr",
     "output_type": "stream",
     "text": [
      "Running initialization...\n"
     ]
    },
    {
     "data": {
      "application/vnd.jupyter.widget-view+json": {
       "model_id": "f2b5830d8b2e45cd9285725593bd66fe",
       "version_major": 2,
       "version_minor": 0
      },
      "text/plain": [
       "Training: -1it [00:00, ?it/s]"
      ]
     },
     "metadata": {},
     "output_type": "display_data"
    },
    {
     "name": "stderr",
     "output_type": "stream",
     "text": [
      "Fitting Gaussian mixture...\n"
     ]
    },
    {
     "data": {
      "application/vnd.jupyter.widget-view+json": {
       "model_id": "c4d5c47446ec45c0917c3d1d290a0c78",
       "version_major": 2,
       "version_minor": 0
      },
      "text/plain": [
       "Training: -1it [00:00, ?it/s]"
      ]
     },
     "metadata": {},
     "output_type": "display_data"
    },
    {
     "data": {
      "application/vnd.jupyter.widget-view+json": {
       "model_id": "c9ceec265eb04a86b9d7eaf4a7b4780d",
       "version_major": 2,
       "version_minor": 0
      },
      "text/plain": [
       "Predicting: 0it [00:00, ?it/s]"
      ]
     },
     "metadata": {},
     "output_type": "display_data"
    },
    {
     "name": "stdout",
     "output_type": "stream",
     "text": [
      "Cluster Comparison\n",
      "\n",
      "- Match Events:\n",
      "      0     1     2\n",
      "0   105    22  3047\n",
      "1     5  3172     4\n",
      "2  3778    22    29 \n",
      "\n",
      "- Agreement Scores:\n",
      "          0         1         2\n",
      "0  0.014998  0.003450  0.950999\n",
      "1  0.000703  0.978710  0.000639\n",
      "2  0.938867  0.003111  0.004192 \n",
      "\n",
      "- Cluster Change: 187\n",
      "- Least Change: 92\n",
      "- Convergence Epochs: [0/5]\n",
      "- Time: 3.9902 seconds\n",
      "\n",
      "Classification\n",
      "- Epoch: [5][0/160]\tTime: 0.039 (0.039)\tData: 0.027 (0.027)\tLoss: 2.6678 (2.6678)\n",
      "- Epoch: [5][50/160]\tTime: 0.034 (0.037)\tData: 0.021 (0.025)\tLoss: 0.2668 (0.7694)\n",
      "- Epoch: [5][100/160]\tTime: 0.027 (0.033)\tData: 0.015 (0.021)\tLoss: 0.0941 (0.4749)\n",
      "- Epoch: [5][150/160]\tTime: 0.028 (0.031)\tData: 0.015 (0.019)\tLoss: 0.0894 (0.3572)\n",
      "\n",
      "\n",
      "Epoch 6\n",
      "Feature Extraction\n"
     ]
    },
    {
     "name": "stderr",
     "output_type": "stream",
     "text": [
      "Extracting Features: 100%|██████████| 160/160 [00:02<00:00, 59.06it/s]\n",
      "Fitting K-means estimator...\n",
      "Running initialization...\n"
     ]
    },
    {
     "name": "stdout",
     "output_type": "stream",
     "text": [
      "Clustering\n"
     ]
    },
    {
     "data": {
      "application/vnd.jupyter.widget-view+json": {
       "model_id": "0efc67a46e9d4164aa3d88c9bccf1fa1",
       "version_major": 2,
       "version_minor": 0
      },
      "text/plain": [
       "Training: -1it [00:00, ?it/s]"
      ]
     },
     "metadata": {},
     "output_type": "display_data"
    },
    {
     "data": {
      "application/vnd.jupyter.widget-view+json": {
       "model_id": "652e97a011e647b09121adf44ce085e0",
       "version_major": 2,
       "version_minor": 0
      },
      "text/plain": [
       "Training: -1it [00:00, ?it/s]"
      ]
     },
     "metadata": {},
     "output_type": "display_data"
    },
    {
     "name": "stderr",
     "output_type": "stream",
     "text": [
      "Fitting K-Means...\n"
     ]
    },
    {
     "data": {
      "application/vnd.jupyter.widget-view+json": {
       "model_id": "c4f7046eeb974b83bc21bcc56703b1ab",
       "version_major": 2,
       "version_minor": 0
      },
      "text/plain": [
       "Training: -1it [00:00, ?it/s]"
      ]
     },
     "metadata": {},
     "output_type": "display_data"
    },
    {
     "name": "stderr",
     "output_type": "stream",
     "text": [
      "Running initialization...\n"
     ]
    },
    {
     "data": {
      "application/vnd.jupyter.widget-view+json": {
       "model_id": "17b03e9fe2ce4d54a9a0d9d560e5806d",
       "version_major": 2,
       "version_minor": 0
      },
      "text/plain": [
       "Training: -1it [00:00, ?it/s]"
      ]
     },
     "metadata": {},
     "output_type": "display_data"
    },
    {
     "name": "stderr",
     "output_type": "stream",
     "text": [
      "Fitting Gaussian mixture...\n"
     ]
    },
    {
     "data": {
      "application/vnd.jupyter.widget-view+json": {
       "model_id": "a65c265629e54d4480e5c2b714551c02",
       "version_major": 2,
       "version_minor": 0
      },
      "text/plain": [
       "Training: -1it [00:00, ?it/s]"
      ]
     },
     "metadata": {},
     "output_type": "display_data"
    },
    {
     "data": {
      "application/vnd.jupyter.widget-view+json": {
       "model_id": "662af33149da4777b958af340b315059",
       "version_major": 2,
       "version_minor": 0
      },
      "text/plain": [
       "Predicting: 0it [00:00, ?it/s]"
      ]
     },
     "metadata": {},
     "output_type": "display_data"
    },
    {
     "name": "stdout",
     "output_type": "stream",
     "text": [
      "Cluster Comparison\n",
      "\n",
      "- Match Events:\n",
      "      0     1     2\n",
      "0  3782    51    52\n",
      "1     4     8  3193\n",
      "2    31  3033    15 \n",
      "\n",
      "- Agreement Scores:\n",
      "          0         1         2\n",
      "0  0.942202  0.007316  0.007264\n",
      "1  0.000565  0.001269  0.964653\n",
      "2  0.004486  0.967773  0.002366 \n",
      "\n",
      "- Cluster Change: 161\n",
      "- Least Change: 92\n",
      "- Convergence Epochs: [0/5]\n",
      "- Time: 4.2537 seconds\n",
      "\n",
      "Classification\n",
      "- Epoch: [6][0/160]\tTime: 0.034 (0.034)\tData: 0.024 (0.024)\tLoss: 5.6348 (5.6348)\n",
      "- Epoch: [6][50/160]\tTime: 0.038 (0.035)\tData: 0.026 (0.023)\tLoss: 0.2444 (0.8776)\n",
      "- Epoch: [6][100/160]\tTime: 0.027 (0.033)\tData: 0.015 (0.022)\tLoss: 0.0546 (0.5309)\n",
      "- Epoch: [6][150/160]\tTime: 0.039 (0.033)\tData: 0.026 (0.022)\tLoss: 0.0541 (0.3940)\n",
      "\n",
      "\n",
      "Epoch 7\n",
      "Feature Extraction\n"
     ]
    },
    {
     "name": "stderr",
     "output_type": "stream",
     "text": [
      "Extracting Features: 100%|██████████| 160/160 [00:02<00:00, 56.75it/s]\n",
      "Fitting K-means estimator...\n",
      "Running initialization...\n"
     ]
    },
    {
     "name": "stdout",
     "output_type": "stream",
     "text": [
      "Clustering\n"
     ]
    },
    {
     "data": {
      "application/vnd.jupyter.widget-view+json": {
       "model_id": "d0f5a78e2e674edcbbeebd0f8b61b7fe",
       "version_major": 2,
       "version_minor": 0
      },
      "text/plain": [
       "Training: -1it [00:00, ?it/s]"
      ]
     },
     "metadata": {},
     "output_type": "display_data"
    },
    {
     "data": {
      "application/vnd.jupyter.widget-view+json": {
       "model_id": "faf6bc7332664548abe9963d05b64618",
       "version_major": 2,
       "version_minor": 0
      },
      "text/plain": [
       "Training: -1it [00:00, ?it/s]"
      ]
     },
     "metadata": {},
     "output_type": "display_data"
    },
    {
     "name": "stderr",
     "output_type": "stream",
     "text": [
      "Fitting K-Means...\n"
     ]
    },
    {
     "data": {
      "application/vnd.jupyter.widget-view+json": {
       "model_id": "b271cc3ce75b45ff83a97c42946b8fea",
       "version_major": 2,
       "version_minor": 0
      },
      "text/plain": [
       "Training: -1it [00:00, ?it/s]"
      ]
     },
     "metadata": {},
     "output_type": "display_data"
    },
    {
     "name": "stderr",
     "output_type": "stream",
     "text": [
      "Running initialization...\n"
     ]
    },
    {
     "data": {
      "application/vnd.jupyter.widget-view+json": {
       "model_id": "8783100b18034752a3947c61941b79ab",
       "version_major": 2,
       "version_minor": 0
      },
      "text/plain": [
       "Training: -1it [00:00, ?it/s]"
      ]
     },
     "metadata": {},
     "output_type": "display_data"
    },
    {
     "name": "stderr",
     "output_type": "stream",
     "text": [
      "Fitting Gaussian mixture...\n"
     ]
    },
    {
     "data": {
      "application/vnd.jupyter.widget-view+json": {
       "model_id": "9404bd7d8e9545819f692598efebb18f",
       "version_major": 2,
       "version_minor": 0
      },
      "text/plain": [
       "Training: -1it [00:00, ?it/s]"
      ]
     },
     "metadata": {},
     "output_type": "display_data"
    },
    {
     "data": {
      "application/vnd.jupyter.widget-view+json": {
       "model_id": "ff6c5304c44647128595fbcac5eef7b2",
       "version_major": 2,
       "version_minor": 0
      },
      "text/plain": [
       "Predicting: 0it [00:00, ?it/s]"
      ]
     },
     "metadata": {},
     "output_type": "display_data"
    },
    {
     "name": "stdout",
     "output_type": "stream",
     "text": [
      "Cluster Comparison\n",
      "\n",
      "- Match Events:\n",
      "      0     1     2\n",
      "0  3788    27    17\n",
      "1    13  3061    18\n",
      "2     9    14  3236 \n",
      "\n",
      "- Agreement Scores:\n",
      "          0         1         2\n",
      "0  0.966820  0.003892  0.002382\n",
      "1  0.001879  0.978268  0.002829\n",
      "2  0.001265  0.002200  0.970606 \n",
      "\n",
      "- Cluster Change: 98\n",
      "- Least Change: 92\n",
      "- Convergence Epochs: [0/5]\n",
      "- Time: 4.0227 seconds\n",
      "\n",
      "Classification\n",
      "- Epoch: [7][0/160]\tTime: 0.046 (0.046)\tData: 0.031 (0.031)\tLoss: 0.0330 (0.0330)\n",
      "- Epoch: [7][50/160]\tTime: 0.031 (0.035)\tData: 0.022 (0.026)\tLoss: 0.0503 (0.0662)\n",
      "- Epoch: [7][100/160]\tTime: 0.024 (0.031)\tData: 0.015 (0.022)\tLoss: 0.0275 (0.0623)\n",
      "- Epoch: [7][150/160]\tTime: 0.025 (0.030)\tData: 0.015 (0.020)\tLoss: 0.0360 (0.0618)\n",
      "\n",
      "\n",
      "Epoch 8\n",
      "Feature Extraction\n"
     ]
    },
    {
     "name": "stderr",
     "output_type": "stream",
     "text": [
      "Extracting Features: 100%|██████████| 160/160 [00:02<00:00, 57.40it/s]\n",
      "Fitting K-means estimator...\n",
      "Running initialization...\n"
     ]
    },
    {
     "name": "stdout",
     "output_type": "stream",
     "text": [
      "Clustering\n"
     ]
    },
    {
     "data": {
      "application/vnd.jupyter.widget-view+json": {
       "model_id": "385a376be2734d42bac30e457fe8ddbb",
       "version_major": 2,
       "version_minor": 0
      },
      "text/plain": [
       "Training: -1it [00:00, ?it/s]"
      ]
     },
     "metadata": {},
     "output_type": "display_data"
    },
    {
     "data": {
      "application/vnd.jupyter.widget-view+json": {
       "model_id": "99e44b4011d141019a4ac359298f99e8",
       "version_major": 2,
       "version_minor": 0
      },
      "text/plain": [
       "Training: -1it [00:00, ?it/s]"
      ]
     },
     "metadata": {},
     "output_type": "display_data"
    },
    {
     "name": "stderr",
     "output_type": "stream",
     "text": [
      "Fitting K-Means...\n"
     ]
    },
    {
     "data": {
      "application/vnd.jupyter.widget-view+json": {
       "model_id": "c0b0a2e49aba480b8197516a422e9fa5",
       "version_major": 2,
       "version_minor": 0
      },
      "text/plain": [
       "Training: -1it [00:00, ?it/s]"
      ]
     },
     "metadata": {},
     "output_type": "display_data"
    },
    {
     "name": "stderr",
     "output_type": "stream",
     "text": [
      "Running initialization...\n"
     ]
    },
    {
     "data": {
      "application/vnd.jupyter.widget-view+json": {
       "model_id": "5925d85d28a74b22bb42a78c64f84de5",
       "version_major": 2,
       "version_minor": 0
      },
      "text/plain": [
       "Training: -1it [00:00, ?it/s]"
      ]
     },
     "metadata": {},
     "output_type": "display_data"
    },
    {
     "name": "stderr",
     "output_type": "stream",
     "text": [
      "Fitting Gaussian mixture...\n"
     ]
    },
    {
     "data": {
      "application/vnd.jupyter.widget-view+json": {
       "model_id": "27a55e4c423a4e67841d0a906e6859cd",
       "version_major": 2,
       "version_minor": 0
      },
      "text/plain": [
       "Training: -1it [00:00, ?it/s]"
      ]
     },
     "metadata": {},
     "output_type": "display_data"
    },
    {
     "data": {
      "application/vnd.jupyter.widget-view+json": {
       "model_id": "a8bc74bd67cb48609597708e8947839c",
       "version_major": 2,
       "version_minor": 0
      },
      "text/plain": [
       "Predicting: 0it [00:00, ?it/s]"
      ]
     },
     "metadata": {},
     "output_type": "display_data"
    },
    {
     "name": "stdout",
     "output_type": "stream",
     "text": [
      "Cluster Comparison\n",
      "\n",
      "- Match Events:\n",
      "      0     1     2\n",
      "0     8  3774    23\n",
      "1  3091     1    10\n",
      "2     3     4  3266 \n",
      "\n",
      "- Agreement Scores:\n",
      "          0         1         2\n",
      "0  0.001154  0.971679  0.003223\n",
      "1  0.994210  0.000145  0.001561\n",
      "2  0.000470  0.000563  0.977259 \n",
      "\n",
      "- Cluster Change: 49\n",
      "- Least Change: 49\n",
      "- Convergence Epochs: [1/5]\n",
      "- Time: 4.3628 seconds\n",
      "\n",
      "Classification\n",
      "- Epoch: [8][0/160]\tTime: 0.037 (0.037)\tData: 0.026 (0.026)\tLoss: 5.0999 (5.0999)\n",
      "- Epoch: [8][50/160]\tTime: 0.035 (0.036)\tData: 0.022 (0.025)\tLoss: 0.3504 (1.0454)\n",
      "- Epoch: [8][100/160]\tTime: 0.024 (0.032)\tData: 0.015 (0.021)\tLoss: 0.0567 (0.6384)\n",
      "- Epoch: [8][150/160]\tTime: 0.028 (0.029)\tData: 0.015 (0.019)\tLoss: 0.0518 (0.4698)\n",
      "\n",
      "\n",
      "Epoch 9\n",
      "Feature Extraction\n"
     ]
    },
    {
     "name": "stderr",
     "output_type": "stream",
     "text": [
      "Extracting Features: 100%|██████████| 160/160 [00:02<00:00, 58.55it/s]\n",
      "Fitting K-means estimator...\n",
      "Running initialization...\n"
     ]
    },
    {
     "name": "stdout",
     "output_type": "stream",
     "text": [
      "Clustering\n"
     ]
    },
    {
     "data": {
      "application/vnd.jupyter.widget-view+json": {
       "model_id": "e3663db6e5f143f3b614578bc5073773",
       "version_major": 2,
       "version_minor": 0
      },
      "text/plain": [
       "Training: -1it [00:00, ?it/s]"
      ]
     },
     "metadata": {},
     "output_type": "display_data"
    },
    {
     "data": {
      "application/vnd.jupyter.widget-view+json": {
       "model_id": "5ae36408a3644138b784286b9e1f9297",
       "version_major": 2,
       "version_minor": 0
      },
      "text/plain": [
       "Training: -1it [00:00, ?it/s]"
      ]
     },
     "metadata": {},
     "output_type": "display_data"
    },
    {
     "name": "stderr",
     "output_type": "stream",
     "text": [
      "Fitting K-Means...\n"
     ]
    },
    {
     "data": {
      "application/vnd.jupyter.widget-view+json": {
       "model_id": "c16ab6cae11c419b92159e997a070eca",
       "version_major": 2,
       "version_minor": 0
      },
      "text/plain": [
       "Training: -1it [00:00, ?it/s]"
      ]
     },
     "metadata": {},
     "output_type": "display_data"
    },
    {
     "name": "stderr",
     "output_type": "stream",
     "text": [
      "Running initialization...\n"
     ]
    },
    {
     "data": {
      "application/vnd.jupyter.widget-view+json": {
       "model_id": "85eb35c4de2d4ec49e52add24398e202",
       "version_major": 2,
       "version_minor": 0
      },
      "text/plain": [
       "Training: -1it [00:00, ?it/s]"
      ]
     },
     "metadata": {},
     "output_type": "display_data"
    },
    {
     "name": "stderr",
     "output_type": "stream",
     "text": [
      "Fitting Gaussian mixture...\n"
     ]
    },
    {
     "data": {
      "application/vnd.jupyter.widget-view+json": {
       "model_id": "6736c57270be48bb8282a20fc6c25dc6",
       "version_major": 2,
       "version_minor": 0
      },
      "text/plain": [
       "Training: -1it [00:00, ?it/s]"
      ]
     },
     "metadata": {},
     "output_type": "display_data"
    },
    {
     "data": {
      "application/vnd.jupyter.widget-view+json": {
       "model_id": "683e37039d86419f8ba577640b7c77dc",
       "version_major": 2,
       "version_minor": 0
      },
      "text/plain": [
       "Predicting: 0it [00:00, ?it/s]"
      ]
     },
     "metadata": {},
     "output_type": "display_data"
    },
    {
     "name": "stdout",
     "output_type": "stream",
     "text": [
      "Cluster Comparison\n",
      "\n",
      "- Match Events:\n",
      "     0     1     2\n",
      "0    2  3092     3\n",
      "1  616   110  3057\n",
      "2  962  2335     5 \n",
      "\n",
      "- Agreement Scores:\n",
      "          0         1         2\n",
      "0  0.000427  0.555815  0.000485\n",
      "1  0.128682  0.011878  0.794026\n",
      "2  0.244039  0.357197  0.000781 \n",
      "\n",
      "- Cluster Change: 4028\n",
      "- Least Change: 49\n",
      "- Convergence Epochs: [1/5]\n",
      "- Time: 3.9670 seconds\n",
      "\n",
      "Classification\n",
      "- Epoch: [9][0/160]\tTime: 0.041 (0.041)\tData: 0.026 (0.026)\tLoss: 10.0717 (10.0717)\n",
      "- Epoch: [9][50/160]\tTime: 0.031 (0.035)\tData: 0.022 (0.025)\tLoss: 0.7985 (1.6522)\n",
      "- Epoch: [9][100/160]\tTime: 0.027 (0.031)\tData: 0.015 (0.021)\tLoss: 0.7391 (1.1607)\n",
      "- Epoch: [9][150/160]\tTime: 0.023 (0.030)\tData: 0.015 (0.019)\tLoss: 0.3958 (0.9400)\n",
      "\n",
      "\n",
      "Epoch 10\n",
      "Feature Extraction\n"
     ]
    },
    {
     "name": "stderr",
     "output_type": "stream",
     "text": [
      "Extracting Features: 100%|██████████| 160/160 [00:02<00:00, 60.32it/s]\n",
      "Fitting K-means estimator...\n",
      "Running initialization...\n"
     ]
    },
    {
     "name": "stdout",
     "output_type": "stream",
     "text": [
      "Clustering\n"
     ]
    },
    {
     "data": {
      "application/vnd.jupyter.widget-view+json": {
       "model_id": "a153892d88044ed7a57b728095892289",
       "version_major": 2,
       "version_minor": 0
      },
      "text/plain": [
       "Training: -1it [00:00, ?it/s]"
      ]
     },
     "metadata": {},
     "output_type": "display_data"
    },
    {
     "data": {
      "application/vnd.jupyter.widget-view+json": {
       "model_id": "4de57804ded34c28829aa171ec082f0c",
       "version_major": 2,
       "version_minor": 0
      },
      "text/plain": [
       "Training: -1it [00:00, ?it/s]"
      ]
     },
     "metadata": {},
     "output_type": "display_data"
    },
    {
     "name": "stderr",
     "output_type": "stream",
     "text": [
      "Fitting K-Means...\n"
     ]
    },
    {
     "data": {
      "application/vnd.jupyter.widget-view+json": {
       "model_id": "c26afd1101894e2bb453c163ed3d02e6",
       "version_major": 2,
       "version_minor": 0
      },
      "text/plain": [
       "Training: -1it [00:00, ?it/s]"
      ]
     },
     "metadata": {},
     "output_type": "display_data"
    },
    {
     "name": "stderr",
     "output_type": "stream",
     "text": [
      "Running initialization...\n"
     ]
    },
    {
     "data": {
      "application/vnd.jupyter.widget-view+json": {
       "model_id": "17fcbfcf808b4223a9c30b3104770e44",
       "version_major": 2,
       "version_minor": 0
      },
      "text/plain": [
       "Training: -1it [00:00, ?it/s]"
      ]
     },
     "metadata": {},
     "output_type": "display_data"
    },
    {
     "name": "stderr",
     "output_type": "stream",
     "text": [
      "Fitting Gaussian mixture...\n"
     ]
    },
    {
     "data": {
      "application/vnd.jupyter.widget-view+json": {
       "model_id": "c4cfd80074954e2c98f1f474f7392cfb",
       "version_major": 2,
       "version_minor": 0
      },
      "text/plain": [
       "Training: -1it [00:00, ?it/s]"
      ]
     },
     "metadata": {},
     "output_type": "display_data"
    },
    {
     "data": {
      "application/vnd.jupyter.widget-view+json": {
       "model_id": "ee63be47523b4d328628f2a8401c52a9",
       "version_major": 2,
       "version_minor": 0
      },
      "text/plain": [
       "Predicting: 0it [00:00, ?it/s]"
      ]
     },
     "metadata": {},
     "output_type": "display_data"
    },
    {
     "name": "stdout",
     "output_type": "stream",
     "text": [
      "Cluster Comparison\n",
      "\n",
      "- Match Events:\n",
      "      0     1     2\n",
      "0   615     7   962\n",
      "1    79  3441  2020\n",
      "2  3043    12     3 \n",
      "\n",
      "- Agreement Scores:\n",
      "          0         1         2\n",
      "0  0.129583  0.001388  0.265599\n",
      "1  0.008541  0.617109  0.309247\n",
      "2  0.796180  0.001835  0.000493 \n",
      "\n",
      "- Cluster Change: 2736\n",
      "- Least Change: 49\n",
      "- Convergence Epochs: [1/5]\n",
      "- Time: 3.5681 seconds\n",
      "\n",
      "Classification\n",
      "- Epoch: [10][0/160]\tTime: 0.042 (0.042)\tData: 0.028 (0.028)\tLoss: 3.1977 (3.1977)\n",
      "- Epoch: [10][50/160]\tTime: 0.035 (0.038)\tData: 0.025 (0.026)\tLoss: 0.3488 (0.8528)\n",
      "- Epoch: [10][100/160]\tTime: 0.034 (0.035)\tData: 0.025 (0.024)\tLoss: 0.1111 (0.5346)\n",
      "- Epoch: [10][150/160]\tTime: 0.028 (0.035)\tData: 0.019 (0.023)\tLoss: 0.1163 (0.3961)\n",
      "\n",
      "\n",
      "Epoch 11\n",
      "Feature Extraction\n"
     ]
    },
    {
     "name": "stderr",
     "output_type": "stream",
     "text": [
      "Extracting Features: 100%|██████████| 160/160 [00:02<00:00, 53.59it/s]\n",
      "Fitting K-means estimator...\n",
      "Running initialization...\n"
     ]
    },
    {
     "name": "stdout",
     "output_type": "stream",
     "text": [
      "Clustering\n"
     ]
    },
    {
     "data": {
      "application/vnd.jupyter.widget-view+json": {
       "model_id": "7e51cadf7df64ecdb2e1e6926847eefd",
       "version_major": 2,
       "version_minor": 0
      },
      "text/plain": [
       "Training: -1it [00:00, ?it/s]"
      ]
     },
     "metadata": {},
     "output_type": "display_data"
    },
    {
     "data": {
      "application/vnd.jupyter.widget-view+json": {
       "model_id": "696e97bfcabc44729a7c0f05693307f4",
       "version_major": 2,
       "version_minor": 0
      },
      "text/plain": [
       "Training: -1it [00:00, ?it/s]"
      ]
     },
     "metadata": {},
     "output_type": "display_data"
    },
    {
     "name": "stderr",
     "output_type": "stream",
     "text": [
      "Fitting K-Means...\n"
     ]
    },
    {
     "data": {
      "application/vnd.jupyter.widget-view+json": {
       "model_id": "e4b74b2fb17844dd957329aedb9f5228",
       "version_major": 2,
       "version_minor": 0
      },
      "text/plain": [
       "Training: -1it [00:00, ?it/s]"
      ]
     },
     "metadata": {},
     "output_type": "display_data"
    },
    {
     "name": "stderr",
     "output_type": "stream",
     "text": [
      "Running initialization...\n"
     ]
    },
    {
     "data": {
      "application/vnd.jupyter.widget-view+json": {
       "model_id": "8a56cc239aa94768a683c65e6a46e3d9",
       "version_major": 2,
       "version_minor": 0
      },
      "text/plain": [
       "Training: -1it [00:00, ?it/s]"
      ]
     },
     "metadata": {},
     "output_type": "display_data"
    },
    {
     "name": "stderr",
     "output_type": "stream",
     "text": [
      "Fitting Gaussian mixture...\n"
     ]
    },
    {
     "data": {
      "application/vnd.jupyter.widget-view+json": {
       "model_id": "69cd6bfe962b4c1db39044bc8639b711",
       "version_major": 2,
       "version_minor": 0
      },
      "text/plain": [
       "Training: -1it [00:00, ?it/s]"
      ]
     },
     "metadata": {},
     "output_type": "display_data"
    },
    {
     "data": {
      "application/vnd.jupyter.widget-view+json": {
       "model_id": "d517cfff1d5e4b8884f9b9e2dd28b4b1",
       "version_major": 2,
       "version_minor": 0
      },
      "text/plain": [
       "Predicting: 0it [00:00, ?it/s]"
      ]
     },
     "metadata": {},
     "output_type": "display_data"
    },
    {
     "name": "stdout",
     "output_type": "stream",
     "text": [
      "Cluster Comparison\n",
      "\n",
      "- Match Events:\n",
      "      0     1     2\n",
      "0  3716     4     6\n",
      "1     7  3325   130\n",
      "2    12    32  2943 \n",
      "\n",
      "- Agreement Scores:\n",
      "          0         1         2\n",
      "0  0.967456  0.000561  0.000875\n",
      "1  0.000967  0.950543  0.020246\n",
      "2  0.001773  0.005058  0.936367 \n",
      "\n",
      "- Cluster Change: 191\n",
      "- Least Change: 49\n",
      "- Convergence Epochs: [1/5]\n",
      "- Time: 4.1975 seconds\n",
      "\n",
      "Classification\n",
      "- Epoch: [11][0/160]\tTime: 0.032 (0.032)\tData: 0.022 (0.022)\tLoss: 0.0958 (0.0958)\n",
      "- Epoch: [11][50/160]\tTime: 0.034 (0.031)\tData: 0.019 (0.019)\tLoss: 0.0627 (0.0611)\n",
      "- Epoch: [11][100/160]\tTime: 0.034 (0.031)\tData: 0.024 (0.020)\tLoss: 0.0475 (0.0511)\n",
      "- Epoch: [11][150/160]\tTime: 0.025 (0.031)\tData: 0.016 (0.021)\tLoss: 0.0208 (0.0472)\n",
      "\n",
      "\n",
      "Epoch 12\n",
      "Feature Extraction\n"
     ]
    },
    {
     "name": "stderr",
     "output_type": "stream",
     "text": [
      "Extracting Features: 100%|██████████| 160/160 [00:03<00:00, 49.33it/s]\n",
      "Fitting K-means estimator...\n",
      "Running initialization...\n"
     ]
    },
    {
     "name": "stdout",
     "output_type": "stream",
     "text": [
      "Clustering\n"
     ]
    },
    {
     "data": {
      "application/vnd.jupyter.widget-view+json": {
       "model_id": "190eeb31b8324b7eb563da102b437ce8",
       "version_major": 2,
       "version_minor": 0
      },
      "text/plain": [
       "Training: -1it [00:00, ?it/s]"
      ]
     },
     "metadata": {},
     "output_type": "display_data"
    },
    {
     "data": {
      "application/vnd.jupyter.widget-view+json": {
       "model_id": "f00376085dc948a5bff81f0177c50c4f",
       "version_major": 2,
       "version_minor": 0
      },
      "text/plain": [
       "Training: -1it [00:00, ?it/s]"
      ]
     },
     "metadata": {},
     "output_type": "display_data"
    },
    {
     "name": "stderr",
     "output_type": "stream",
     "text": [
      "Fitting K-Means...\n"
     ]
    },
    {
     "data": {
      "application/vnd.jupyter.widget-view+json": {
       "model_id": "b99da0b53a1c4e1e86bc7feb9ad4170d",
       "version_major": 2,
       "version_minor": 0
      },
      "text/plain": [
       "Training: -1it [00:00, ?it/s]"
      ]
     },
     "metadata": {},
     "output_type": "display_data"
    },
    {
     "name": "stderr",
     "output_type": "stream",
     "text": [
      "Running initialization...\n"
     ]
    },
    {
     "data": {
      "application/vnd.jupyter.widget-view+json": {
       "model_id": "3ba9ca1cda1044c9845c48b2f36d0a78",
       "version_major": 2,
       "version_minor": 0
      },
      "text/plain": [
       "Training: -1it [00:00, ?it/s]"
      ]
     },
     "metadata": {},
     "output_type": "display_data"
    },
    {
     "name": "stderr",
     "output_type": "stream",
     "text": [
      "Fitting Gaussian mixture...\n"
     ]
    },
    {
     "data": {
      "application/vnd.jupyter.widget-view+json": {
       "model_id": "3fbaa433b27f4311a5c66bd093a8d20f",
       "version_major": 2,
       "version_minor": 0
      },
      "text/plain": [
       "Training: -1it [00:00, ?it/s]"
      ]
     },
     "metadata": {},
     "output_type": "display_data"
    },
    {
     "data": {
      "application/vnd.jupyter.widget-view+json": {
       "model_id": "d3163134940c42b59c88ca1afc9cf7ba",
       "version_major": 2,
       "version_minor": 0
      },
      "text/plain": [
       "Predicting: 0it [00:00, ?it/s]"
      ]
     },
     "metadata": {},
     "output_type": "display_data"
    },
    {
     "name": "stdout",
     "output_type": "stream",
     "text": [
      "Cluster Comparison\n",
      "\n",
      "- Match Events:\n",
      "      0     1     2\n",
      "0     3  3723     3\n",
      "1    27     2  3332\n",
      "2  3063     4     3 \n",
      "\n",
      "- Agreement Scores:\n",
      "          0         1         2\n",
      "0  0.000435  0.968774  0.000421\n",
      "1  0.004189  0.000280  0.989605\n",
      "2  0.976099  0.000582  0.000467 \n",
      "\n",
      "- Cluster Change: 42\n",
      "- Least Change: 42\n",
      "- Convergence Epochs: [2/5]\n",
      "- Time: 4.0913 seconds\n",
      "\n",
      "Classification\n",
      "- Epoch: [12][0/160]\tTime: 0.037 (0.037)\tData: 0.024 (0.024)\tLoss: 9.4185 (9.4185)\n",
      "- Epoch: [12][50/160]\tTime: 0.035 (0.033)\tData: 0.022 (0.022)\tLoss: 0.7156 (1.6958)\n",
      "- Epoch: [12][100/160]\tTime: 0.033 (0.032)\tData: 0.024 (0.021)\tLoss: 0.2305 (1.0805)\n",
      "- Epoch: [12][150/160]\tTime: 0.027 (0.033)\tData: 0.019 (0.022)\tLoss: 0.1048 (0.7750)\n",
      "\n",
      "\n",
      "Epoch 13\n",
      "Feature Extraction\n"
     ]
    },
    {
     "name": "stderr",
     "output_type": "stream",
     "text": [
      "Extracting Features: 100%|██████████| 160/160 [00:03<00:00, 47.12it/s]\n",
      "Fitting K-means estimator...\n",
      "Running initialization...\n"
     ]
    },
    {
     "name": "stdout",
     "output_type": "stream",
     "text": [
      "Clustering\n"
     ]
    },
    {
     "data": {
      "application/vnd.jupyter.widget-view+json": {
       "model_id": "553d3679475b4bdc95bb376d25bc5bad",
       "version_major": 2,
       "version_minor": 0
      },
      "text/plain": [
       "Training: -1it [00:00, ?it/s]"
      ]
     },
     "metadata": {},
     "output_type": "display_data"
    },
    {
     "data": {
      "application/vnd.jupyter.widget-view+json": {
       "model_id": "5ae27a4bb13d43809618f328a166e023",
       "version_major": 2,
       "version_minor": 0
      },
      "text/plain": [
       "Training: -1it [00:00, ?it/s]"
      ]
     },
     "metadata": {},
     "output_type": "display_data"
    },
    {
     "name": "stderr",
     "output_type": "stream",
     "text": [
      "Fitting K-Means...\n"
     ]
    },
    {
     "data": {
      "application/vnd.jupyter.widget-view+json": {
       "model_id": "b852eb2bbc5542e1b086891183374f13",
       "version_major": 2,
       "version_minor": 0
      },
      "text/plain": [
       "Training: -1it [00:00, ?it/s]"
      ]
     },
     "metadata": {},
     "output_type": "display_data"
    },
    {
     "name": "stderr",
     "output_type": "stream",
     "text": [
      "Running initialization...\n"
     ]
    },
    {
     "data": {
      "application/vnd.jupyter.widget-view+json": {
       "model_id": "169e9190a4ad463d80e3cba7fa058619",
       "version_major": 2,
       "version_minor": 0
      },
      "text/plain": [
       "Training: -1it [00:00, ?it/s]"
      ]
     },
     "metadata": {},
     "output_type": "display_data"
    },
    {
     "name": "stderr",
     "output_type": "stream",
     "text": [
      "Fitting Gaussian mixture...\n"
     ]
    },
    {
     "data": {
      "application/vnd.jupyter.widget-view+json": {
       "model_id": "47f96026d16f4bd6a5dfad328115c388",
       "version_major": 2,
       "version_minor": 0
      },
      "text/plain": [
       "Training: -1it [00:00, ?it/s]"
      ]
     },
     "metadata": {},
     "output_type": "display_data"
    },
    {
     "data": {
      "application/vnd.jupyter.widget-view+json": {
       "model_id": "63b17b847f3a436b93b3612a9fa5031d",
       "version_major": 2,
       "version_minor": 0
      },
      "text/plain": [
       "Predicting: 0it [00:00, ?it/s]"
      ]
     },
     "metadata": {},
     "output_type": "display_data"
    },
    {
     "name": "stdout",
     "output_type": "stream",
     "text": [
      "Cluster Comparison\n",
      "\n",
      "- Match Events:\n",
      "      0     1     2\n",
      "0    14     9  3076\n",
      "1     7  3717     5\n",
      "2  3293     6    41 \n",
      "\n",
      "- Agreement Scores:\n",
      "          0         1         2\n",
      "0  0.002184  0.001306  0.970041\n",
      "1  0.000988  0.964953  0.000723\n",
      "2  0.980935  0.000843  0.006374 \n",
      "\n",
      "- Cluster Change: 82\n",
      "- Least Change: 42\n",
      "- Convergence Epochs: [2/5]\n",
      "- Time: 4.0954 seconds\n",
      "\n",
      "Classification\n",
      "- Epoch: [13][0/160]\tTime: 0.037 (0.037)\tData: 0.023 (0.023)\tLoss: 3.8360 (3.8360)\n",
      "- Epoch: [13][50/160]\tTime: 0.035 (0.036)\tData: 0.022 (0.023)\tLoss: 0.2046 (0.7258)\n",
      "- Epoch: [13][100/160]\tTime: 0.027 (0.032)\tData: 0.016 (0.020)\tLoss: 0.0962 (0.4453)\n",
      "- Epoch: [13][150/160]\tTime: 0.024 (0.030)\tData: 0.014 (0.018)\tLoss: 0.0908 (0.3275)\n",
      "\n",
      "\n",
      "Epoch 14\n",
      "Feature Extraction\n"
     ]
    },
    {
     "name": "stderr",
     "output_type": "stream",
     "text": [
      "Extracting Features: 100%|██████████| 160/160 [00:03<00:00, 47.22it/s]\n",
      "Fitting K-means estimator...\n",
      "Running initialization...\n"
     ]
    },
    {
     "name": "stdout",
     "output_type": "stream",
     "text": [
      "Clustering\n"
     ]
    },
    {
     "data": {
      "application/vnd.jupyter.widget-view+json": {
       "model_id": "e0ef0f94e3e147ba9cf29591d86dc206",
       "version_major": 2,
       "version_minor": 0
      },
      "text/plain": [
       "Training: -1it [00:00, ?it/s]"
      ]
     },
     "metadata": {},
     "output_type": "display_data"
    },
    {
     "data": {
      "application/vnd.jupyter.widget-view+json": {
       "model_id": "8c80afc464a442fc841512d3209e0dc9",
       "version_major": 2,
       "version_minor": 0
      },
      "text/plain": [
       "Training: -1it [00:00, ?it/s]"
      ]
     },
     "metadata": {},
     "output_type": "display_data"
    },
    {
     "name": "stderr",
     "output_type": "stream",
     "text": [
      "Fitting K-Means...\n"
     ]
    },
    {
     "data": {
      "application/vnd.jupyter.widget-view+json": {
       "model_id": "b928e33e8a594c8ca96d668ae90f0827",
       "version_major": 2,
       "version_minor": 0
      },
      "text/plain": [
       "Training: -1it [00:00, ?it/s]"
      ]
     },
     "metadata": {},
     "output_type": "display_data"
    },
    {
     "name": "stderr",
     "output_type": "stream",
     "text": [
      "Running initialization...\n"
     ]
    },
    {
     "data": {
      "application/vnd.jupyter.widget-view+json": {
       "model_id": "ccdffeee98494a0b9db7fc5150a5c77f",
       "version_major": 2,
       "version_minor": 0
      },
      "text/plain": [
       "Training: -1it [00:00, ?it/s]"
      ]
     },
     "metadata": {},
     "output_type": "display_data"
    },
    {
     "name": "stderr",
     "output_type": "stream",
     "text": [
      "Fitting Gaussian mixture...\n"
     ]
    },
    {
     "data": {
      "application/vnd.jupyter.widget-view+json": {
       "model_id": "c499752d9f2d435ca70e8e84ae025a4c",
       "version_major": 2,
       "version_minor": 0
      },
      "text/plain": [
       "Training: -1it [00:00, ?it/s]"
      ]
     },
     "metadata": {},
     "output_type": "display_data"
    },
    {
     "data": {
      "application/vnd.jupyter.widget-view+json": {
       "model_id": "db07cb5d9f8d424f9c66a32baccc27c7",
       "version_major": 2,
       "version_minor": 0
      },
      "text/plain": [
       "Predicting: 0it [00:00, ?it/s]"
      ]
     },
     "metadata": {},
     "output_type": "display_data"
    },
    {
     "name": "stdout",
     "output_type": "stream",
     "text": [
      "Cluster Comparison\n",
      "\n",
      "- Match Events:\n",
      "      0     1     2\n",
      "0     4  3277    31\n",
      "1  3728     2     6\n",
      "2     4     3  3107 \n",
      "\n",
      "- Agreement Scores:\n",
      "          0         1         2\n",
      "0  0.000564  0.987941  0.004809\n",
      "1  0.969823  0.000283  0.000864\n",
      "2  0.000578  0.000468  0.973066 \n",
      "\n",
      "- Cluster Change: 50\n",
      "- Least Change: 42\n",
      "- Convergence Epochs: [2/5]\n",
      "- Time: 4.0694 seconds\n",
      "\n",
      "Classification\n",
      "- Epoch: [14][0/160]\tTime: 0.037 (0.037)\tData: 0.023 (0.023)\tLoss: 4.2526 (4.2526)\n",
      "- Epoch: [14][50/160]\tTime: 0.033 (0.036)\tData: 0.023 (0.023)\tLoss: 0.2971 (0.9641)\n",
      "- Epoch: [14][100/160]\tTime: 0.026 (0.032)\tData: 0.014 (0.020)\tLoss: 0.0803 (0.5678)\n",
      "- Epoch: [14][150/160]\tTime: 0.029 (0.030)\tData: 0.016 (0.018)\tLoss: 0.0127 (0.4066)\n",
      "\n",
      "\n",
      "Epoch 15\n",
      "Feature Extraction\n"
     ]
    },
    {
     "name": "stderr",
     "output_type": "stream",
     "text": [
      "Extracting Features: 100%|██████████| 160/160 [00:02<00:00, 62.40it/s]\n",
      "Fitting K-means estimator...\n",
      "Running initialization...\n"
     ]
    },
    {
     "name": "stdout",
     "output_type": "stream",
     "text": [
      "Clustering\n"
     ]
    },
    {
     "data": {
      "application/vnd.jupyter.widget-view+json": {
       "model_id": "84f89ac430964e15b1112b63e546e7b7",
       "version_major": 2,
       "version_minor": 0
      },
      "text/plain": [
       "Training: -1it [00:00, ?it/s]"
      ]
     },
     "metadata": {},
     "output_type": "display_data"
    },
    {
     "data": {
      "application/vnd.jupyter.widget-view+json": {
       "model_id": "1315d4f4fcec49e690789ddb0cecc186",
       "version_major": 2,
       "version_minor": 0
      },
      "text/plain": [
       "Training: -1it [00:00, ?it/s]"
      ]
     },
     "metadata": {},
     "output_type": "display_data"
    },
    {
     "name": "stderr",
     "output_type": "stream",
     "text": [
      "Fitting K-Means...\n"
     ]
    },
    {
     "data": {
      "application/vnd.jupyter.widget-view+json": {
       "model_id": "1117d98ee4f44f09b7c9a23e360a4ef2",
       "version_major": 2,
       "version_minor": 0
      },
      "text/plain": [
       "Training: -1it [00:00, ?it/s]"
      ]
     },
     "metadata": {},
     "output_type": "display_data"
    },
    {
     "name": "stderr",
     "output_type": "stream",
     "text": [
      "Running initialization...\n"
     ]
    },
    {
     "data": {
      "application/vnd.jupyter.widget-view+json": {
       "model_id": "4ae1448d350f4670928377fd06300605",
       "version_major": 2,
       "version_minor": 0
      },
      "text/plain": [
       "Training: -1it [00:00, ?it/s]"
      ]
     },
     "metadata": {},
     "output_type": "display_data"
    },
    {
     "name": "stderr",
     "output_type": "stream",
     "text": [
      "Fitting Gaussian mixture...\n"
     ]
    },
    {
     "data": {
      "application/vnd.jupyter.widget-view+json": {
       "model_id": "6a24a05a4f674bed87e6f3eb360fa592",
       "version_major": 2,
       "version_minor": 0
      },
      "text/plain": [
       "Training: -1it [00:00, ?it/s]"
      ]
     },
     "metadata": {},
     "output_type": "display_data"
    },
    {
     "data": {
      "application/vnd.jupyter.widget-view+json": {
       "model_id": "1e01a3defdf44280b29990a9e9edca73",
       "version_major": 2,
       "version_minor": 0
      },
      "text/plain": [
       "Predicting: 0it [00:00, ?it/s]"
      ]
     },
     "metadata": {},
     "output_type": "display_data"
    },
    {
     "name": "stdout",
     "output_type": "stream",
     "text": [
      "Cluster Comparison\n",
      "\n",
      "- Match Events:\n",
      "      0     1     2\n",
      "0    25  3713     3\n",
      "1    17     1  3266\n",
      "2  3146     3     6 \n",
      "\n",
      "- Agreement Scores:\n",
      "          0         1         2\n",
      "0  0.003592  0.968188  0.000425\n",
      "1  0.002630  0.000142  0.993007\n",
      "2  0.977930  0.000433  0.000933 \n",
      "\n",
      "- Cluster Change: 55\n",
      "- Least Change: 42\n",
      "- Convergence Epochs: [2/5]\n",
      "- Time: 5.8637 seconds\n",
      "\n",
      "Classification\n",
      "- Epoch: [15][0/160]\tTime: 0.043 (0.043)\tData: 0.019 (0.019)\tLoss: 8.2442 (8.2442)\n",
      "- Epoch: [15][50/160]\tTime: 0.031 (0.031)\tData: 0.019 (0.019)\tLoss: 0.4520 (1.4231)\n",
      "- Epoch: [15][100/160]\tTime: 0.034 (0.030)\tData: 0.015 (0.018)\tLoss: 0.1184 (0.8743)\n",
      "- Epoch: [15][150/160]\tTime: 0.023 (0.029)\tData: 0.015 (0.017)\tLoss: 0.0325 (0.6217)\n",
      "\n",
      "\n",
      "Epoch 16\n",
      "Feature Extraction\n"
     ]
    },
    {
     "name": "stderr",
     "output_type": "stream",
     "text": [
      "Extracting Features: 100%|██████████| 160/160 [00:02<00:00, 62.56it/s]\n",
      "Fitting K-means estimator...\n",
      "Running initialization...\n"
     ]
    },
    {
     "name": "stdout",
     "output_type": "stream",
     "text": [
      "Clustering\n"
     ]
    },
    {
     "data": {
      "application/vnd.jupyter.widget-view+json": {
       "model_id": "ebacfe8152c14594a896695aa3e7fc69",
       "version_major": 2,
       "version_minor": 0
      },
      "text/plain": [
       "Training: -1it [00:00, ?it/s]"
      ]
     },
     "metadata": {},
     "output_type": "display_data"
    },
    {
     "data": {
      "application/vnd.jupyter.widget-view+json": {
       "model_id": "1259f136c5e94941947928e737db1024",
       "version_major": 2,
       "version_minor": 0
      },
      "text/plain": [
       "Training: -1it [00:00, ?it/s]"
      ]
     },
     "metadata": {},
     "output_type": "display_data"
    },
    {
     "name": "stderr",
     "output_type": "stream",
     "text": [
      "Fitting K-Means...\n"
     ]
    },
    {
     "data": {
      "application/vnd.jupyter.widget-view+json": {
       "model_id": "47c438cca961445fbd0094604b5e8435",
       "version_major": 2,
       "version_minor": 0
      },
      "text/plain": [
       "Training: -1it [00:00, ?it/s]"
      ]
     },
     "metadata": {},
     "output_type": "display_data"
    },
    {
     "name": "stderr",
     "output_type": "stream",
     "text": [
      "Running initialization...\n"
     ]
    },
    {
     "data": {
      "application/vnd.jupyter.widget-view+json": {
       "model_id": "85be9d9c2ebb45269dff8ff562e69d14",
       "version_major": 2,
       "version_minor": 0
      },
      "text/plain": [
       "Training: -1it [00:00, ?it/s]"
      ]
     },
     "metadata": {},
     "output_type": "display_data"
    },
    {
     "name": "stderr",
     "output_type": "stream",
     "text": [
      "Fitting Gaussian mixture...\n"
     ]
    },
    {
     "data": {
      "application/vnd.jupyter.widget-view+json": {
       "model_id": "287cdb82ca5b430f89dd3389fb81e795",
       "version_major": 2,
       "version_minor": 0
      },
      "text/plain": [
       "Training: -1it [00:00, ?it/s]"
      ]
     },
     "metadata": {},
     "output_type": "display_data"
    },
    {
     "data": {
      "application/vnd.jupyter.widget-view+json": {
       "model_id": "4742b479342a43f09d24a2285c6c2af9",
       "version_major": 2,
       "version_minor": 0
      },
      "text/plain": [
       "Predicting: 0it [00:00, ?it/s]"
      ]
     },
     "metadata": {},
     "output_type": "display_data"
    },
    {
     "name": "stdout",
     "output_type": "stream",
     "text": [
      "Cluster Comparison\n",
      "\n",
      "- Match Events:\n",
      "      0     1     2\n",
      "0  3166     3    10\n",
      "1    44  3671     4\n",
      "2    24     3  3247 \n",
      "\n",
      "- Agreement Scores:\n",
      "          0         1         2\n",
      "0  0.963775  0.000434  0.001551\n",
      "1  0.006312  0.963264  0.000570\n",
      "2  0.003691  0.000429  0.988131 \n",
      "\n",
      "- Cluster Change: 88\n",
      "- Least Change: 42\n",
      "- Convergence Epochs: [2/5]\n",
      "- Time: 3.8301 seconds\n",
      "\n",
      "Classification\n",
      "- Epoch: [16][0/160]\tTime: 0.035 (0.035)\tData: 0.024 (0.024)\tLoss: 0.0588 (0.0588)\n",
      "- Epoch: [16][50/160]\tTime: 0.031 (0.036)\tData: 0.022 (0.025)\tLoss: 0.0348 (0.0738)\n",
      "- Epoch: [16][100/160]\tTime: 0.034 (0.036)\tData: 0.024 (0.025)\tLoss: 0.0260 (0.0674)\n",
      "- Epoch: [16][150/160]\tTime: 0.028 (0.034)\tData: 0.014 (0.023)\tLoss: 0.0292 (0.0625)\n",
      "\n",
      "\n",
      "Epoch 17\n",
      "Feature Extraction\n"
     ]
    },
    {
     "name": "stderr",
     "output_type": "stream",
     "text": [
      "Extracting Features: 100%|██████████| 160/160 [00:03<00:00, 47.75it/s]\n",
      "Fitting K-means estimator...\n",
      "Running initialization...\n"
     ]
    },
    {
     "name": "stdout",
     "output_type": "stream",
     "text": [
      "Clustering\n"
     ]
    },
    {
     "data": {
      "application/vnd.jupyter.widget-view+json": {
       "model_id": "851b310081fc454ba5a1c6d4d6597acd",
       "version_major": 2,
       "version_minor": 0
      },
      "text/plain": [
       "Training: -1it [00:00, ?it/s]"
      ]
     },
     "metadata": {},
     "output_type": "display_data"
    },
    {
     "data": {
      "application/vnd.jupyter.widget-view+json": {
       "model_id": "aac4cd4f850a4bf4bafd1f58902f5732",
       "version_major": 2,
       "version_minor": 0
      },
      "text/plain": [
       "Training: -1it [00:00, ?it/s]"
      ]
     },
     "metadata": {},
     "output_type": "display_data"
    },
    {
     "name": "stderr",
     "output_type": "stream",
     "text": [
      "Fitting K-Means...\n"
     ]
    },
    {
     "data": {
      "application/vnd.jupyter.widget-view+json": {
       "model_id": "dec6587238d84a8b99bfe23c0139ef51",
       "version_major": 2,
       "version_minor": 0
      },
      "text/plain": [
       "Training: -1it [00:00, ?it/s]"
      ]
     },
     "metadata": {},
     "output_type": "display_data"
    },
    {
     "name": "stderr",
     "output_type": "stream",
     "text": [
      "Running initialization...\n"
     ]
    },
    {
     "data": {
      "application/vnd.jupyter.widget-view+json": {
       "model_id": "f40b0e37b65b44859bba9be553cd591f",
       "version_major": 2,
       "version_minor": 0
      },
      "text/plain": [
       "Training: -1it [00:00, ?it/s]"
      ]
     },
     "metadata": {},
     "output_type": "display_data"
    },
    {
     "name": "stderr",
     "output_type": "stream",
     "text": [
      "Fitting Gaussian mixture...\n"
     ]
    },
    {
     "data": {
      "application/vnd.jupyter.widget-view+json": {
       "model_id": "cf4e8a41adb5405cbdee81ef9a57c842",
       "version_major": 2,
       "version_minor": 0
      },
      "text/plain": [
       "Training: -1it [00:00, ?it/s]"
      ]
     },
     "metadata": {},
     "output_type": "display_data"
    },
    {
     "data": {
      "application/vnd.jupyter.widget-view+json": {
       "model_id": "3dfd324c47664597bea155f53486d425",
       "version_major": 2,
       "version_minor": 0
      },
      "text/plain": [
       "Predicting: 0it [00:00, ?it/s]"
      ]
     },
     "metadata": {},
     "output_type": "display_data"
    },
    {
     "name": "stdout",
     "output_type": "stream",
     "text": [
      "Cluster Comparison\n",
      "\n",
      "- Match Events:\n",
      "      0     1     2\n",
      "0     6    10  3215\n",
      "1  3673     2     8\n",
      "2     1  3249    10 \n",
      "\n",
      "- Agreement Scores:\n",
      "          0         1         2\n",
      "0  0.000862  0.001538  0.976313\n",
      "1  0.975824  0.000287  0.001148\n",
      "2  0.000143  0.992971  0.001537 \n",
      "\n",
      "- Cluster Change: 37\n",
      "- Least Change: 37\n",
      "- Convergence Epochs: [3/5]\n",
      "- Time: 3.9095 seconds\n",
      "\n",
      "Classification\n",
      "- Epoch: [17][0/160]\tTime: 0.036 (0.036)\tData: 0.026 (0.026)\tLoss: 11.2480 (11.2480)\n",
      "- Epoch: [17][50/160]\tTime: 0.033 (0.033)\tData: 0.025 (0.025)\tLoss: 0.2679 (1.4728)\n",
      "- Epoch: [17][100/160]\tTime: 0.023 (0.030)\tData: 0.014 (0.021)\tLoss: 0.1513 (0.8519)\n",
      "- Epoch: [17][150/160]\tTime: 0.025 (0.027)\tData: 0.015 (0.019)\tLoss: 0.0524 (0.6100)\n",
      "\n",
      "\n",
      "Epoch 18\n",
      "Feature Extraction\n"
     ]
    },
    {
     "name": "stderr",
     "output_type": "stream",
     "text": [
      "Extracting Features: 100%|██████████| 160/160 [00:02<00:00, 64.07it/s]\n",
      "Fitting K-means estimator...\n",
      "Running initialization...\n"
     ]
    },
    {
     "name": "stdout",
     "output_type": "stream",
     "text": [
      "Clustering\n"
     ]
    },
    {
     "data": {
      "application/vnd.jupyter.widget-view+json": {
       "model_id": "d9e349aea6a349f3aafd217dcf789352",
       "version_major": 2,
       "version_minor": 0
      },
      "text/plain": [
       "Training: -1it [00:00, ?it/s]"
      ]
     },
     "metadata": {},
     "output_type": "display_data"
    },
    {
     "data": {
      "application/vnd.jupyter.widget-view+json": {
       "model_id": "f0d2727a76fd4ebe89f1c27183534a85",
       "version_major": 2,
       "version_minor": 0
      },
      "text/plain": [
       "Training: -1it [00:00, ?it/s]"
      ]
     },
     "metadata": {},
     "output_type": "display_data"
    },
    {
     "name": "stderr",
     "output_type": "stream",
     "text": [
      "Fitting K-Means...\n"
     ]
    },
    {
     "data": {
      "application/vnd.jupyter.widget-view+json": {
       "model_id": "2a38285683f440ebbc9ba461a4ddecea",
       "version_major": 2,
       "version_minor": 0
      },
      "text/plain": [
       "Training: -1it [00:00, ?it/s]"
      ]
     },
     "metadata": {},
     "output_type": "display_data"
    },
    {
     "name": "stderr",
     "output_type": "stream",
     "text": [
      "Running initialization...\n"
     ]
    },
    {
     "data": {
      "application/vnd.jupyter.widget-view+json": {
       "model_id": "ab7e1e6fbd344e5ea9b0be340f22b38a",
       "version_major": 2,
       "version_minor": 0
      },
      "text/plain": [
       "Training: -1it [00:00, ?it/s]"
      ]
     },
     "metadata": {},
     "output_type": "display_data"
    },
    {
     "name": "stderr",
     "output_type": "stream",
     "text": [
      "Fitting Gaussian mixture...\n"
     ]
    },
    {
     "data": {
      "application/vnd.jupyter.widget-view+json": {
       "model_id": "68f9f49e43204033afb11f7979763396",
       "version_major": 2,
       "version_minor": 0
      },
      "text/plain": [
       "Training: -1it [00:00, ?it/s]"
      ]
     },
     "metadata": {},
     "output_type": "display_data"
    },
    {
     "data": {
      "application/vnd.jupyter.widget-view+json": {
       "model_id": "6ea122c227094caaa1c1374809ebfdac",
       "version_major": 2,
       "version_minor": 0
      },
      "text/plain": [
       "Predicting: 0it [00:00, ?it/s]"
      ]
     },
     "metadata": {},
     "output_type": "display_data"
    },
    {
     "name": "stdout",
     "output_type": "stream",
     "text": [
      "Cluster Comparison\n",
      "\n",
      "- Match Events:\n",
      "      0     1     2\n",
      "0    38  3633     3\n",
      "1    35     1  3227\n",
      "2  3220    12     8 \n",
      "\n",
      "- Agreement Scores:\n",
      "          0         1         2\n",
      "0  0.005439  0.962894  0.000432\n",
      "1  0.005357  0.000144  0.986850\n",
      "2  0.963207  0.001731  0.001234 \n",
      "\n",
      "- Cluster Change: 97\n",
      "- Least Change: 37\n",
      "- Convergence Epochs: [3/5]\n",
      "- Time: 4.3143 seconds\n",
      "\n",
      "Classification\n",
      "- Epoch: [18][0/160]\tTime: 0.037 (0.037)\tData: 0.027 (0.027)\tLoss: 5.8538 (5.8538)\n",
      "- Epoch: [18][50/160]\tTime: 0.032 (0.033)\tData: 0.024 (0.024)\tLoss: 0.5319 (1.2264)\n",
      "- Epoch: [18][100/160]\tTime: 0.022 (0.029)\tData: 0.014 (0.021)\tLoss: 0.1709 (0.7818)\n",
      "- Epoch: [18][150/160]\tTime: 0.022 (0.027)\tData: 0.014 (0.019)\tLoss: 0.0287 (0.5630)\n",
      "\n",
      "\n",
      "Epoch 19\n",
      "Feature Extraction\n"
     ]
    },
    {
     "name": "stderr",
     "output_type": "stream",
     "text": [
      "Extracting Features: 100%|██████████| 160/160 [00:02<00:00, 65.23it/s]\n",
      "Fitting K-means estimator...\n",
      "Running initialization...\n"
     ]
    },
    {
     "name": "stdout",
     "output_type": "stream",
     "text": [
      "Clustering\n"
     ]
    },
    {
     "data": {
      "application/vnd.jupyter.widget-view+json": {
       "model_id": "1c58738ba2584e989d2e73af2e08bff0",
       "version_major": 2,
       "version_minor": 0
      },
      "text/plain": [
       "Training: -1it [00:00, ?it/s]"
      ]
     },
     "metadata": {},
     "output_type": "display_data"
    },
    {
     "data": {
      "application/vnd.jupyter.widget-view+json": {
       "model_id": "54736eb9e2ba45cb8590b53614b765b2",
       "version_major": 2,
       "version_minor": 0
      },
      "text/plain": [
       "Training: -1it [00:00, ?it/s]"
      ]
     },
     "metadata": {},
     "output_type": "display_data"
    },
    {
     "name": "stderr",
     "output_type": "stream",
     "text": [
      "Fitting K-Means...\n"
     ]
    },
    {
     "data": {
      "application/vnd.jupyter.widget-view+json": {
       "model_id": "6810b99f71cf481f9a853d67a5b5f713",
       "version_major": 2,
       "version_minor": 0
      },
      "text/plain": [
       "Training: -1it [00:00, ?it/s]"
      ]
     },
     "metadata": {},
     "output_type": "display_data"
    },
    {
     "name": "stderr",
     "output_type": "stream",
     "text": [
      "Running initialization...\n"
     ]
    },
    {
     "data": {
      "application/vnd.jupyter.widget-view+json": {
       "model_id": "3d143a32e9af4193a758105ae970765e",
       "version_major": 2,
       "version_minor": 0
      },
      "text/plain": [
       "Training: -1it [00:00, ?it/s]"
      ]
     },
     "metadata": {},
     "output_type": "display_data"
    },
    {
     "name": "stderr",
     "output_type": "stream",
     "text": [
      "Fitting Gaussian mixture...\n"
     ]
    },
    {
     "data": {
      "application/vnd.jupyter.widget-view+json": {
       "model_id": "ab3a4adda0c24edf9e5bf9a12679e39a",
       "version_major": 2,
       "version_minor": 0
      },
      "text/plain": [
       "Training: -1it [00:00, ?it/s]"
      ]
     },
     "metadata": {},
     "output_type": "display_data"
    },
    {
     "data": {
      "application/vnd.jupyter.widget-view+json": {
       "model_id": "40a4bea4b1f14c38ac141a9fad6829d5",
       "version_major": 2,
       "version_minor": 0
      },
      "text/plain": [
       "Predicting: 0it [00:00, ?it/s]"
      ]
     },
     "metadata": {},
     "output_type": "display_data"
    },
    {
     "name": "stdout",
     "output_type": "stream",
     "text": [
      "Cluster Comparison\n",
      "\n",
      "- Match Events:\n",
      "      0     1     2\n",
      "0    30    49  3208\n",
      "1     2  3641     9\n",
      "2  3224     2    12 \n",
      "\n",
      "- Agreement Scores:\n",
      "          0         1         2\n",
      "0  0.004593  0.007012  0.957612\n",
      "1  0.000288  0.963993  0.001299\n",
      "2  0.987140  0.000287  0.001854 \n",
      "\n",
      "- Cluster Change: 104\n",
      "- Least Change: 37\n",
      "- Convergence Epochs: [3/5]\n",
      "- Time: 3.5678 seconds\n",
      "\n",
      "Classification\n",
      "- Epoch: [19][0/160]\tTime: 0.029 (0.029)\tData: 0.020 (0.020)\tLoss: 5.4844 (5.4844)\n",
      "- Epoch: [19][50/160]\tTime: 0.033 (0.032)\tData: 0.025 (0.024)\tLoss: 0.3462 (0.9911)\n",
      "- Epoch: [19][100/160]\tTime: 0.032 (0.033)\tData: 0.022 (0.024)\tLoss: 0.0677 (0.5985)\n",
      "- Epoch: [19][150/160]\tTime: 0.022 (0.030)\tData: 0.013 (0.021)\tLoss: 0.0671 (0.4359)\n",
      "\n",
      "\n",
      "Epoch 20\n",
      "Feature Extraction\n"
     ]
    },
    {
     "name": "stderr",
     "output_type": "stream",
     "text": [
      "Extracting Features: 100%|██████████| 160/160 [00:03<00:00, 50.37it/s]\n",
      "Fitting K-means estimator...\n",
      "Running initialization...\n"
     ]
    },
    {
     "name": "stdout",
     "output_type": "stream",
     "text": [
      "Clustering\n"
     ]
    },
    {
     "data": {
      "application/vnd.jupyter.widget-view+json": {
       "model_id": "f52f9b68174e4b17b46fac37ecae2888",
       "version_major": 2,
       "version_minor": 0
      },
      "text/plain": [
       "Training: -1it [00:00, ?it/s]"
      ]
     },
     "metadata": {},
     "output_type": "display_data"
    },
    {
     "data": {
      "application/vnd.jupyter.widget-view+json": {
       "model_id": "74c257259b3a481c99b3fc9455be2ef4",
       "version_major": 2,
       "version_minor": 0
      },
      "text/plain": [
       "Training: -1it [00:00, ?it/s]"
      ]
     },
     "metadata": {},
     "output_type": "display_data"
    },
    {
     "name": "stderr",
     "output_type": "stream",
     "text": [
      "Fitting K-Means...\n"
     ]
    },
    {
     "data": {
      "application/vnd.jupyter.widget-view+json": {
       "model_id": "ae84467f67c740008f8abbe9dfeee408",
       "version_major": 2,
       "version_minor": 0
      },
      "text/plain": [
       "Training: -1it [00:00, ?it/s]"
      ]
     },
     "metadata": {},
     "output_type": "display_data"
    },
    {
     "name": "stderr",
     "output_type": "stream",
     "text": [
      "Running initialization...\n"
     ]
    },
    {
     "data": {
      "application/vnd.jupyter.widget-view+json": {
       "model_id": "c01410b925484f4fbd94b3875573d9c9",
       "version_major": 2,
       "version_minor": 0
      },
      "text/plain": [
       "Training: -1it [00:00, ?it/s]"
      ]
     },
     "metadata": {},
     "output_type": "display_data"
    },
    {
     "name": "stderr",
     "output_type": "stream",
     "text": [
      "Fitting Gaussian mixture...\n"
     ]
    },
    {
     "data": {
      "application/vnd.jupyter.widget-view+json": {
       "model_id": "5841b99988524dbfa2a6e1e38f659b00",
       "version_major": 2,
       "version_minor": 0
      },
      "text/plain": [
       "Training: -1it [00:00, ?it/s]"
      ]
     },
     "metadata": {},
     "output_type": "display_data"
    },
    {
     "data": {
      "application/vnd.jupyter.widget-view+json": {
       "model_id": "c634daa62cf249b9b83a30c6634116bf",
       "version_major": 2,
       "version_minor": 0
      },
      "text/plain": [
       "Predicting: 0it [00:00, ?it/s]"
      ]
     },
     "metadata": {},
     "output_type": "display_data"
    },
    {
     "name": "stdout",
     "output_type": "stream",
     "text": [
      "Cluster Comparison\n",
      "\n",
      "- Match Events:\n",
      "      0     1     2\n",
      "0    26     2  3227\n",
      "1    14  3670     1\n",
      "2  3201    19    14 \n",
      "\n",
      "- Agreement Scores:\n",
      "          0         1         2\n",
      "0  0.004009  0.000286  0.987454\n",
      "1  0.002008  0.967317  0.000143\n",
      "2  0.968240  0.002728  0.002161 \n",
      "\n",
      "- Cluster Change: 76\n",
      "- Least Change: 37\n",
      "- Convergence Epochs: [3/5]\n",
      "- Time: 4.3076 seconds\n",
      "\n",
      "Classification\n",
      "- Epoch: [20][0/160]\tTime: 0.048 (0.048)\tData: 0.025 (0.025)\tLoss: 3.5331 (3.5331)\n",
      "- Epoch: [20][50/160]\tTime: 0.032 (0.034)\tData: 0.024 (0.025)\tLoss: 0.3815 (0.8062)\n",
      "- Epoch: [20][100/160]\tTime: 0.023 (0.030)\tData: 0.015 (0.021)\tLoss: 0.1212 (0.5259)\n",
      "- Epoch: [20][150/160]\tTime: 0.024 (0.028)\tData: 0.015 (0.019)\tLoss: 0.0571 (0.3929)\n",
      "\n",
      "\n",
      "Epoch 21\n",
      "Feature Extraction\n"
     ]
    },
    {
     "name": "stderr",
     "output_type": "stream",
     "text": [
      "Extracting Features: 100%|██████████| 160/160 [00:02<00:00, 64.22it/s]\n",
      "Fitting K-means estimator...\n",
      "Running initialization...\n"
     ]
    },
    {
     "name": "stdout",
     "output_type": "stream",
     "text": [
      "Clustering\n"
     ]
    },
    {
     "data": {
      "application/vnd.jupyter.widget-view+json": {
       "model_id": "b6a7edac6e8c43ebbf7dc16760dc809c",
       "version_major": 2,
       "version_minor": 0
      },
      "text/plain": [
       "Training: -1it [00:00, ?it/s]"
      ]
     },
     "metadata": {},
     "output_type": "display_data"
    },
    {
     "data": {
      "application/vnd.jupyter.widget-view+json": {
       "model_id": "04220ac0778840bfa2de64c0763d622b",
       "version_major": 2,
       "version_minor": 0
      },
      "text/plain": [
       "Training: -1it [00:00, ?it/s]"
      ]
     },
     "metadata": {},
     "output_type": "display_data"
    },
    {
     "name": "stderr",
     "output_type": "stream",
     "text": [
      "Fitting K-Means...\n"
     ]
    },
    {
     "data": {
      "application/vnd.jupyter.widget-view+json": {
       "model_id": "79fdc332e98948179a79b8b267e0ada5",
       "version_major": 2,
       "version_minor": 0
      },
      "text/plain": [
       "Training: -1it [00:00, ?it/s]"
      ]
     },
     "metadata": {},
     "output_type": "display_data"
    },
    {
     "name": "stderr",
     "output_type": "stream",
     "text": [
      "Running initialization...\n"
     ]
    },
    {
     "data": {
      "application/vnd.jupyter.widget-view+json": {
       "model_id": "fea0ab2457a74ce5972da923b5cbba62",
       "version_major": 2,
       "version_minor": 0
      },
      "text/plain": [
       "Training: -1it [00:00, ?it/s]"
      ]
     },
     "metadata": {},
     "output_type": "display_data"
    },
    {
     "name": "stderr",
     "output_type": "stream",
     "text": [
      "Fitting Gaussian mixture...\n"
     ]
    },
    {
     "data": {
      "application/vnd.jupyter.widget-view+json": {
       "model_id": "4a896abe11804b76bb7a2ce52107c564",
       "version_major": 2,
       "version_minor": 0
      },
      "text/plain": [
       "Training: -1it [00:00, ?it/s]"
      ]
     },
     "metadata": {},
     "output_type": "display_data"
    },
    {
     "data": {
      "application/vnd.jupyter.widget-view+json": {
       "model_id": "44603e78f0db43d8acf0ccf73f3edbfe",
       "version_major": 2,
       "version_minor": 0
      },
      "text/plain": [
       "Predicting: 0it [00:00, ?it/s]"
      ]
     },
     "metadata": {},
     "output_type": "display_data"
    },
    {
     "name": "stdout",
     "output_type": "stream",
     "text": [
      "Cluster Comparison\n",
      "\n",
      "- Match Events:\n",
      "      0     1     2\n",
      "0  3173    45    24\n",
      "1     5     3  3685\n",
      "2     3  3237     3 \n",
      "\n",
      "- Agreement Scores:\n",
      "          0         1         2\n",
      "0  0.967378  0.006928  0.003435\n",
      "1  0.000722  0.000428  0.968717\n",
      "2  0.000466  0.984789  0.000429 \n",
      "\n",
      "- Cluster Change: 83\n",
      "- Least Change: 37\n",
      "- Convergence Epochs: [3/5]\n",
      "- Time: 4.0401 seconds\n",
      "\n",
      "Classification\n",
      "- Epoch: [21][0/160]\tTime: 0.028 (0.028)\tData: 0.018 (0.018)\tLoss: 4.3373 (4.3373)\n",
      "- Epoch: [21][50/160]\tTime: 0.033 (0.033)\tData: 0.025 (0.024)\tLoss: 0.6607 (1.4265)\n",
      "- Epoch: [21][100/160]\tTime: 0.022 (0.030)\tData: 0.014 (0.022)\tLoss: 0.1928 (0.9229)\n",
      "- Epoch: [21][150/160]\tTime: 0.022 (0.028)\tData: 0.014 (0.019)\tLoss: 0.0897 (0.6719)\n",
      "\n",
      "\n",
      "Epoch 22\n",
      "Feature Extraction\n"
     ]
    },
    {
     "name": "stderr",
     "output_type": "stream",
     "text": [
      "Extracting Features: 100%|██████████| 160/160 [00:02<00:00, 63.31it/s]\n",
      "Fitting K-means estimator...\n",
      "Running initialization...\n"
     ]
    },
    {
     "name": "stdout",
     "output_type": "stream",
     "text": [
      "Clustering\n"
     ]
    },
    {
     "data": {
      "application/vnd.jupyter.widget-view+json": {
       "model_id": "5f6a253022014788a35cd6f4d09b2bc2",
       "version_major": 2,
       "version_minor": 0
      },
      "text/plain": [
       "Training: -1it [00:00, ?it/s]"
      ]
     },
     "metadata": {},
     "output_type": "display_data"
    },
    {
     "data": {
      "application/vnd.jupyter.widget-view+json": {
       "model_id": "5e6ce5f366da410985babb31ff337fca",
       "version_major": 2,
       "version_minor": 0
      },
      "text/plain": [
       "Training: -1it [00:00, ?it/s]"
      ]
     },
     "metadata": {},
     "output_type": "display_data"
    },
    {
     "name": "stderr",
     "output_type": "stream",
     "text": [
      "Fitting K-Means...\n"
     ]
    },
    {
     "data": {
      "application/vnd.jupyter.widget-view+json": {
       "model_id": "ffd7c24f4ffc4deeb7172a20101034f5",
       "version_major": 2,
       "version_minor": 0
      },
      "text/plain": [
       "Training: -1it [00:00, ?it/s]"
      ]
     },
     "metadata": {},
     "output_type": "display_data"
    },
    {
     "name": "stderr",
     "output_type": "stream",
     "text": [
      "Running initialization...\n"
     ]
    },
    {
     "data": {
      "application/vnd.jupyter.widget-view+json": {
       "model_id": "57be225397ca49d394d124dc5034b108",
       "version_major": 2,
       "version_minor": 0
      },
      "text/plain": [
       "Training: -1it [00:00, ?it/s]"
      ]
     },
     "metadata": {},
     "output_type": "display_data"
    },
    {
     "name": "stderr",
     "output_type": "stream",
     "text": [
      "Fitting Gaussian mixture...\n"
     ]
    },
    {
     "data": {
      "application/vnd.jupyter.widget-view+json": {
       "model_id": "5d14a6883a2043acb8fc61653326cfa9",
       "version_major": 2,
       "version_minor": 0
      },
      "text/plain": [
       "Training: -1it [00:00, ?it/s]"
      ]
     },
     "metadata": {},
     "output_type": "display_data"
    },
    {
     "data": {
      "application/vnd.jupyter.widget-view+json": {
       "model_id": "e8a8ca7823cc463bbdf39cea3e42c651",
       "version_major": 2,
       "version_minor": 0
      },
      "text/plain": [
       "Predicting: 0it [00:00, ?it/s]"
      ]
     },
     "metadata": {},
     "output_type": "display_data"
    },
    {
     "name": "stdout",
     "output_type": "stream",
     "text": [
      "Cluster Comparison\n",
      "\n",
      "- Match Events:\n",
      "      0     1     2\n",
      "0    16    12  3152\n",
      "1  3250    12    21\n",
      "2     7  3677    24 \n",
      "\n",
      "- Agreement Scores:\n",
      "          0         1         2\n",
      "0  0.002479  0.001731  0.967762\n",
      "1  0.983061  0.001710  0.003243\n",
      "2  0.000997  0.961559  0.003457 \n",
      "\n",
      "- Cluster Change: 92\n",
      "- Least Change: 37\n",
      "- Convergence Epochs: [3/5]\n",
      "- Time: 4.0538 seconds\n",
      "\n",
      "Classification\n",
      "- Epoch: [22][0/160]\tTime: 0.036 (0.036)\tData: 0.025 (0.025)\tLoss: 7.5750 (7.5750)\n",
      "- Epoch: [22][50/160]\tTime: 0.030 (0.032)\tData: 0.022 (0.023)\tLoss: 0.8810 (1.8990)\n",
      "- Epoch: [22][100/160]\tTime: 0.023 (0.029)\tData: 0.015 (0.021)\tLoss: 0.1701 (1.2431)\n",
      "- Epoch: [22][150/160]\tTime: 0.023 (0.027)\tData: 0.015 (0.019)\tLoss: 0.1182 (0.8767)\n",
      "\n",
      "\n",
      "Epoch 23\n",
      "Feature Extraction\n"
     ]
    },
    {
     "name": "stderr",
     "output_type": "stream",
     "text": [
      "Extracting Features: 100%|██████████| 160/160 [00:02<00:00, 63.63it/s]\n",
      "Fitting K-means estimator...\n",
      "Running initialization...\n"
     ]
    },
    {
     "name": "stdout",
     "output_type": "stream",
     "text": [
      "Clustering\n"
     ]
    },
    {
     "data": {
      "application/vnd.jupyter.widget-view+json": {
       "model_id": "5f06876152e34edaa08f824b7c34c641",
       "version_major": 2,
       "version_minor": 0
      },
      "text/plain": [
       "Training: -1it [00:00, ?it/s]"
      ]
     },
     "metadata": {},
     "output_type": "display_data"
    },
    {
     "data": {
      "application/vnd.jupyter.widget-view+json": {
       "model_id": "7e59335f548e45408c041a6d522ab477",
       "version_major": 2,
       "version_minor": 0
      },
      "text/plain": [
       "Training: -1it [00:00, ?it/s]"
      ]
     },
     "metadata": {},
     "output_type": "display_data"
    },
    {
     "name": "stderr",
     "output_type": "stream",
     "text": [
      "Fitting K-Means...\n"
     ]
    },
    {
     "data": {
      "application/vnd.jupyter.widget-view+json": {
       "model_id": "03b58c835f3a4531aa5a9d5688916461",
       "version_major": 2,
       "version_minor": 0
      },
      "text/plain": [
       "Training: -1it [00:00, ?it/s]"
      ]
     },
     "metadata": {},
     "output_type": "display_data"
    },
    {
     "name": "stderr",
     "output_type": "stream",
     "text": [
      "Running initialization...\n"
     ]
    },
    {
     "data": {
      "application/vnd.jupyter.widget-view+json": {
       "model_id": "d41a260db24f4139b22d2787d3e1e27a",
       "version_major": 2,
       "version_minor": 0
      },
      "text/plain": [
       "Training: -1it [00:00, ?it/s]"
      ]
     },
     "metadata": {},
     "output_type": "display_data"
    },
    {
     "name": "stderr",
     "output_type": "stream",
     "text": [
      "Fitting Gaussian mixture...\n"
     ]
    },
    {
     "data": {
      "application/vnd.jupyter.widget-view+json": {
       "model_id": "2abf563149ec4846b0f7a8fc6a89c996",
       "version_major": 2,
       "version_minor": 0
      },
      "text/plain": [
       "Training: -1it [00:00, ?it/s]"
      ]
     },
     "metadata": {},
     "output_type": "display_data"
    },
    {
     "data": {
      "application/vnd.jupyter.widget-view+json": {
       "model_id": "efe2881f9ae44ca8ac2c4509a96c0896",
       "version_major": 2,
       "version_minor": 0
      },
      "text/plain": [
       "Predicting: 0it [00:00, ?it/s]"
      ]
     },
     "metadata": {},
     "output_type": "display_data"
    },
    {
     "name": "stdout",
     "output_type": "stream",
     "text": [
      "Cluster Comparison\n",
      "\n",
      "- Match Events:\n",
      "      0     1     2\n",
      "0     6  3261     7\n",
      "1     5    10  3683\n",
      "2  3137    26    29 \n",
      "\n",
      "- Agreement Scores:\n",
      "          0         1         2\n",
      "0  0.000932  0.985792  0.000995\n",
      "1  0.000723  0.001422  0.961117\n",
      "2  0.966718  0.004010  0.004171 \n",
      "\n",
      "- Cluster Change: 83\n",
      "- Least Change: 37\n",
      "- Convergence Epochs: [3/5]\n",
      "- Time: 4.2253 seconds\n",
      "\n",
      "Classification\n",
      "- Epoch: [23][0/160]\tTime: 0.030 (0.030)\tData: 0.020 (0.020)\tLoss: 8.8866 (8.8866)\n",
      "- Epoch: [23][50/160]\tTime: 0.030 (0.028)\tData: 0.020 (0.019)\tLoss: 0.7173 (1.6180)\n",
      "- Epoch: [23][100/160]\tTime: 0.025 (0.027)\tData: 0.015 (0.018)\tLoss: 0.3614 (1.0744)\n",
      "- Epoch: [23][150/160]\tTime: 0.023 (0.026)\tData: 0.014 (0.017)\tLoss: 0.0880 (0.7977)\n",
      "\n",
      "\n",
      "Epoch 24\n",
      "Feature Extraction\n"
     ]
    },
    {
     "name": "stderr",
     "output_type": "stream",
     "text": [
      "Extracting Features: 100%|██████████| 160/160 [00:02<00:00, 59.25it/s]\n",
      "Fitting K-means estimator...\n",
      "Running initialization...\n"
     ]
    },
    {
     "name": "stdout",
     "output_type": "stream",
     "text": [
      "Clustering\n"
     ]
    },
    {
     "data": {
      "application/vnd.jupyter.widget-view+json": {
       "model_id": "6963bf2756334453bd975e34f1a50e8f",
       "version_major": 2,
       "version_minor": 0
      },
      "text/plain": [
       "Training: -1it [00:00, ?it/s]"
      ]
     },
     "metadata": {},
     "output_type": "display_data"
    },
    {
     "data": {
      "application/vnd.jupyter.widget-view+json": {
       "model_id": "cb2678439588405e9f2a4abb10e9926f",
       "version_major": 2,
       "version_minor": 0
      },
      "text/plain": [
       "Training: -1it [00:00, ?it/s]"
      ]
     },
     "metadata": {},
     "output_type": "display_data"
    },
    {
     "name": "stderr",
     "output_type": "stream",
     "text": [
      "Fitting K-Means...\n"
     ]
    },
    {
     "data": {
      "application/vnd.jupyter.widget-view+json": {
       "model_id": "7bd7d6b3b9064cd5a6fb384d45cf5f73",
       "version_major": 2,
       "version_minor": 0
      },
      "text/plain": [
       "Training: -1it [00:00, ?it/s]"
      ]
     },
     "metadata": {},
     "output_type": "display_data"
    },
    {
     "name": "stderr",
     "output_type": "stream",
     "text": [
      "Running initialization...\n"
     ]
    },
    {
     "data": {
      "application/vnd.jupyter.widget-view+json": {
       "model_id": "7c9eccbb7cf94c50b7935ef94fc1a4ea",
       "version_major": 2,
       "version_minor": 0
      },
      "text/plain": [
       "Training: -1it [00:00, ?it/s]"
      ]
     },
     "metadata": {},
     "output_type": "display_data"
    },
    {
     "name": "stderr",
     "output_type": "stream",
     "text": [
      "Fitting Gaussian mixture...\n"
     ]
    },
    {
     "data": {
      "application/vnd.jupyter.widget-view+json": {
       "model_id": "c408a94fb2694361b593e0686cf7d5f0",
       "version_major": 2,
       "version_minor": 0
      },
      "text/plain": [
       "Training: -1it [00:00, ?it/s]"
      ]
     },
     "metadata": {},
     "output_type": "display_data"
    },
    {
     "data": {
      "application/vnd.jupyter.widget-view+json": {
       "model_id": "66b719f72dee4d64a27ab4efae4713b4",
       "version_major": 2,
       "version_minor": 0
      },
      "text/plain": [
       "Predicting: 0it [00:00, ?it/s]"
      ]
     },
     "metadata": {},
     "output_type": "display_data"
    },
    {
     "name": "stdout",
     "output_type": "stream",
     "text": [
      "Cluster Comparison\n",
      "\n",
      "- Match Events:\n",
      "      0     1     2\n",
      "0     6     9  3142\n",
      "1     8  3273    17\n",
      "2  3698    13    12 \n",
      "\n",
      "- Agreement Scores:\n",
      "          0         1         2\n",
      "0  0.000867  0.001395  0.978816\n",
      "1  0.001136  0.987033  0.002631\n",
      "2  0.966292  0.001844  0.001729 \n",
      "\n",
      "- Cluster Change: 65\n",
      "- Least Change: 37\n",
      "- Convergence Epochs: [3/5]\n",
      "- Time: 14.9827 seconds\n",
      "\n",
      "Classification\n",
      "- Epoch: [24][0/160]\tTime: 0.036 (0.036)\tData: 0.025 (0.025)\tLoss: 4.2005 (4.2005)\n",
      "- Epoch: [24][50/160]\tTime: 0.031 (0.030)\tData: 0.023 (0.022)\tLoss: 0.5202 (1.1783)\n",
      "- Epoch: [24][100/160]\tTime: 0.026 (0.031)\tData: 0.018 (0.022)\tLoss: 0.3960 (0.7928)\n",
      "- Epoch: [24][150/160]\tTime: 0.025 (0.028)\tData: 0.015 (0.020)\tLoss: 0.0569 (0.5990)\n",
      "\n",
      "\n",
      "Epoch 25\n",
      "Feature Extraction\n"
     ]
    },
    {
     "name": "stderr",
     "output_type": "stream",
     "text": [
      "Extracting Features: 100%|██████████| 160/160 [00:02<00:00, 60.49it/s]\n",
      "Fitting K-means estimator...\n",
      "Running initialization...\n"
     ]
    },
    {
     "name": "stdout",
     "output_type": "stream",
     "text": [
      "Clustering\n"
     ]
    },
    {
     "data": {
      "application/vnd.jupyter.widget-view+json": {
       "model_id": "c49816148e6542928b4ad49895a52497",
       "version_major": 2,
       "version_minor": 0
      },
      "text/plain": [
       "Training: -1it [00:00, ?it/s]"
      ]
     },
     "metadata": {},
     "output_type": "display_data"
    },
    {
     "data": {
      "application/vnd.jupyter.widget-view+json": {
       "model_id": "097e45cc309f4a889331b24250a84314",
       "version_major": 2,
       "version_minor": 0
      },
      "text/plain": [
       "Training: -1it [00:00, ?it/s]"
      ]
     },
     "metadata": {},
     "output_type": "display_data"
    },
    {
     "name": "stderr",
     "output_type": "stream",
     "text": [
      "Fitting K-Means...\n"
     ]
    },
    {
     "data": {
      "application/vnd.jupyter.widget-view+json": {
       "model_id": "ed596d89a1bf4ddb8b15d438e182e4e2",
       "version_major": 2,
       "version_minor": 0
      },
      "text/plain": [
       "Training: -1it [00:00, ?it/s]"
      ]
     },
     "metadata": {},
     "output_type": "display_data"
    },
    {
     "name": "stderr",
     "output_type": "stream",
     "text": [
      "Running initialization...\n"
     ]
    },
    {
     "data": {
      "application/vnd.jupyter.widget-view+json": {
       "model_id": "36c8380182aa42179825b5cafa0b46af",
       "version_major": 2,
       "version_minor": 0
      },
      "text/plain": [
       "Training: -1it [00:00, ?it/s]"
      ]
     },
     "metadata": {},
     "output_type": "display_data"
    },
    {
     "name": "stderr",
     "output_type": "stream",
     "text": [
      "Fitting Gaussian mixture...\n"
     ]
    },
    {
     "data": {
      "application/vnd.jupyter.widget-view+json": {
       "model_id": "91c699bb4843422181adabeb37442509",
       "version_major": 2,
       "version_minor": 0
      },
      "text/plain": [
       "Training: -1it [00:00, ?it/s]"
      ]
     },
     "metadata": {},
     "output_type": "display_data"
    },
    {
     "data": {
      "application/vnd.jupyter.widget-view+json": {
       "model_id": "c890f3a1b3f44e84b133058e8252e919",
       "version_major": 2,
       "version_minor": 0
      },
      "text/plain": [
       "Predicting: 0it [00:00, ?it/s]"
      ]
     },
     "metadata": {},
     "output_type": "display_data"
    },
    {
     "name": "stdout",
     "output_type": "stream",
     "text": [
      "Cluster Comparison\n",
      "\n",
      "- Match Events:\n",
      "      0     1     2\n",
      "0  3712     2     5\n",
      "1     3  3283     9\n",
      "2    12    15  3141 \n",
      "\n",
      "- Agreement Scores:\n",
      "          0         1         2\n",
      "0  0.974278  0.000284  0.000722\n",
      "1  0.000425  0.992443  0.001394\n",
      "2  0.001730  0.002320  0.977895 \n",
      "\n",
      "- Cluster Change: 46\n",
      "- Least Change: 37\n",
      "- Convergence Epochs: [3/5]\n",
      "- Time: 14.1368 seconds\n",
      "\n",
      "Classification\n",
      "- Epoch: [25][0/160]\tTime: 0.036 (0.036)\tData: 0.025 (0.025)\tLoss: 0.1587 (0.1587)\n",
      "- Epoch: [25][50/160]\tTime: 0.026 (0.027)\tData: 0.016 (0.018)\tLoss: 0.0666 (0.1130)\n",
      "- Epoch: [25][100/160]\tTime: 0.023 (0.026)\tData: 0.014 (0.017)\tLoss: 0.0902 (0.0974)\n",
      "- Epoch: [25][150/160]\tTime: 0.022 (0.025)\tData: 0.014 (0.016)\tLoss: 0.0408 (0.0879)\n",
      "\n",
      "\n",
      "Epoch 26\n",
      "Feature Extraction\n"
     ]
    },
    {
     "name": "stderr",
     "output_type": "stream",
     "text": [
      "Extracting Features: 100%|██████████| 160/160 [00:03<00:00, 48.96it/s]\n",
      "Fitting K-means estimator...\n",
      "Running initialization...\n"
     ]
    },
    {
     "name": "stdout",
     "output_type": "stream",
     "text": [
      "Clustering\n"
     ]
    },
    {
     "data": {
      "application/vnd.jupyter.widget-view+json": {
       "model_id": "19d770ab460d4d829beb46e2047c84fb",
       "version_major": 2,
       "version_minor": 0
      },
      "text/plain": [
       "Training: -1it [00:00, ?it/s]"
      ]
     },
     "metadata": {},
     "output_type": "display_data"
    },
    {
     "data": {
      "application/vnd.jupyter.widget-view+json": {
       "model_id": "211f1ddd797641f58cd719a7b6d1bf34",
       "version_major": 2,
       "version_minor": 0
      },
      "text/plain": [
       "Training: -1it [00:00, ?it/s]"
      ]
     },
     "metadata": {},
     "output_type": "display_data"
    },
    {
     "name": "stderr",
     "output_type": "stream",
     "text": [
      "Fitting K-Means...\n"
     ]
    },
    {
     "data": {
      "application/vnd.jupyter.widget-view+json": {
       "model_id": "332744290bf548cb8370fce055b07dbb",
       "version_major": 2,
       "version_minor": 0
      },
      "text/plain": [
       "Training: -1it [00:00, ?it/s]"
      ]
     },
     "metadata": {},
     "output_type": "display_data"
    },
    {
     "name": "stderr",
     "output_type": "stream",
     "text": [
      "Running initialization...\n"
     ]
    },
    {
     "data": {
      "application/vnd.jupyter.widget-view+json": {
       "model_id": "a44428f4ad8b4d97992673471172e413",
       "version_major": 2,
       "version_minor": 0
      },
      "text/plain": [
       "Training: -1it [00:00, ?it/s]"
      ]
     },
     "metadata": {},
     "output_type": "display_data"
    },
    {
     "name": "stderr",
     "output_type": "stream",
     "text": [
      "Fitting Gaussian mixture...\n"
     ]
    },
    {
     "data": {
      "application/vnd.jupyter.widget-view+json": {
       "model_id": "9de5fcee46e3451b8483cd97b27aa083",
       "version_major": 2,
       "version_minor": 0
      },
      "text/plain": [
       "Training: -1it [00:00, ?it/s]"
      ]
     },
     "metadata": {},
     "output_type": "display_data"
    },
    {
     "data": {
      "application/vnd.jupyter.widget-view+json": {
       "model_id": "3941d2814b1441c189afdf1ecc52c3a6",
       "version_major": 2,
       "version_minor": 0
      },
      "text/plain": [
       "Predicting: 0it [00:00, ?it/s]"
      ]
     },
     "metadata": {},
     "output_type": "display_data"
    },
    {
     "name": "stdout",
     "output_type": "stream",
     "text": [
      "Cluster Comparison\n",
      "\n",
      "- Match Events:\n",
      "      0     1     2\n",
      "0     8  3708     3\n",
      "1    11     1  3289\n",
      "2  3139     5     4 \n",
      "\n",
      "- Agreement Scores:\n",
      "          0         1         2\n",
      "0  0.001153  0.971444  0.000425\n",
      "1  0.001701  0.000142  0.996063\n",
      "2  0.977577  0.000722  0.000619 \n",
      "\n",
      "- Cluster Change: 32\n",
      "- Least Change: 32\n",
      "- Convergence Epochs: [4/5]\n",
      "- Time: 4.0936 seconds\n",
      "\n",
      "Classification\n",
      "- Epoch: [26][0/160]\tTime: 0.039 (0.039)\tData: 0.026 (0.026)\tLoss: 8.6095 (8.6095)\n",
      "- Epoch: [26][50/160]\tTime: 0.027 (0.028)\tData: 0.018 (0.020)\tLoss: 0.5712 (1.7352)\n",
      "- Epoch: [26][100/160]\tTime: 0.024 (0.027)\tData: 0.015 (0.019)\tLoss: 0.1290 (1.0260)\n",
      "- Epoch: [26][150/160]\tTime: 0.023 (0.026)\tData: 0.014 (0.018)\tLoss: 0.1267 (0.7361)\n",
      "\n",
      "\n",
      "Epoch 27\n",
      "Feature Extraction\n"
     ]
    },
    {
     "name": "stderr",
     "output_type": "stream",
     "text": [
      "Extracting Features: 100%|██████████| 160/160 [00:02<00:00, 59.09it/s]\n",
      "Fitting K-means estimator...\n",
      "Running initialization...\n"
     ]
    },
    {
     "name": "stdout",
     "output_type": "stream",
     "text": [
      "Clustering\n"
     ]
    },
    {
     "data": {
      "application/vnd.jupyter.widget-view+json": {
       "model_id": "803c0aee292a412a8e9c0575d245b10a",
       "version_major": 2,
       "version_minor": 0
      },
      "text/plain": [
       "Training: -1it [00:00, ?it/s]"
      ]
     },
     "metadata": {},
     "output_type": "display_data"
    },
    {
     "data": {
      "application/vnd.jupyter.widget-view+json": {
       "model_id": "c426fae7f2994c308a7da083fca94c84",
       "version_major": 2,
       "version_minor": 0
      },
      "text/plain": [
       "Training: -1it [00:00, ?it/s]"
      ]
     },
     "metadata": {},
     "output_type": "display_data"
    },
    {
     "name": "stderr",
     "output_type": "stream",
     "text": [
      "Fitting K-Means...\n"
     ]
    },
    {
     "data": {
      "application/vnd.jupyter.widget-view+json": {
       "model_id": "200ba675d40e4ff6b38d1ccc36b06e3c",
       "version_major": 2,
       "version_minor": 0
      },
      "text/plain": [
       "Training: -1it [00:00, ?it/s]"
      ]
     },
     "metadata": {},
     "output_type": "display_data"
    },
    {
     "name": "stderr",
     "output_type": "stream",
     "text": [
      "Running initialization...\n"
     ]
    },
    {
     "data": {
      "application/vnd.jupyter.widget-view+json": {
       "model_id": "da9105cd43074ade965886e7e53311b1",
       "version_major": 2,
       "version_minor": 0
      },
      "text/plain": [
       "Training: -1it [00:00, ?it/s]"
      ]
     },
     "metadata": {},
     "output_type": "display_data"
    },
    {
     "name": "stderr",
     "output_type": "stream",
     "text": [
      "Fitting Gaussian mixture...\n"
     ]
    },
    {
     "data": {
      "application/vnd.jupyter.widget-view+json": {
       "model_id": "1c0788c205e845769fa02bb1b99b4cd5",
       "version_major": 2,
       "version_minor": 0
      },
      "text/plain": [
       "Training: -1it [00:00, ?it/s]"
      ]
     },
     "metadata": {},
     "output_type": "display_data"
    },
    {
     "data": {
      "application/vnd.jupyter.widget-view+json": {
       "model_id": "c22b2b88c9524ba8b7c1d1aa5a69ae81",
       "version_major": 2,
       "version_minor": 0
      },
      "text/plain": [
       "Predicting: 0it [00:00, ?it/s]"
      ]
     },
     "metadata": {},
     "output_type": "display_data"
    },
    {
     "name": "stdout",
     "output_type": "stream",
     "text": [
      "Cluster Comparison\n",
      "\n",
      "- Match Events:\n",
      "      0     1     2\n",
      "0    15  3146     3\n",
      "1     5    37  3676\n",
      "2  3282    10     2 \n",
      "\n",
      "- Agreement Scores:\n",
      "          0         1         2\n",
      "0  0.002320  0.970089  0.000435\n",
      "1  0.000709  0.005338  0.965590\n",
      "2  0.990942  0.001540  0.000285 \n",
      "\n",
      "- Cluster Change: 72\n",
      "- Least Change: 32\n",
      "- Convergence Epochs: [4/5]\n",
      "- Time: 8.0817 seconds\n",
      "\n",
      "Classification\n",
      "- Epoch: [27][0/160]\tTime: 0.034 (0.034)\tData: 0.024 (0.024)\tLoss: 9.3695 (9.3695)\n",
      "- Epoch: [27][50/160]\tTime: 0.027 (0.030)\tData: 0.018 (0.021)\tLoss: 0.8971 (1.8115)\n",
      "- Epoch: [27][100/160]\tTime: 0.027 (0.030)\tData: 0.018 (0.021)\tLoss: 0.4329 (1.2646)\n",
      "- Epoch: [27][150/160]\tTime: 0.023 (0.029)\tData: 0.015 (0.020)\tLoss: 0.1673 (0.9612)\n",
      "\n",
      "\n",
      "Epoch 28\n",
      "Feature Extraction\n"
     ]
    },
    {
     "name": "stderr",
     "output_type": "stream",
     "text": [
      "Extracting Features: 100%|██████████| 160/160 [00:02<00:00, 57.39it/s]\n",
      "Fitting K-means estimator...\n",
      "Running initialization...\n"
     ]
    },
    {
     "name": "stdout",
     "output_type": "stream",
     "text": [
      "Clustering\n"
     ]
    },
    {
     "data": {
      "application/vnd.jupyter.widget-view+json": {
       "model_id": "852dda127def446394af1b45ef285713",
       "version_major": 2,
       "version_minor": 0
      },
      "text/plain": [
       "Training: -1it [00:00, ?it/s]"
      ]
     },
     "metadata": {},
     "output_type": "display_data"
    },
    {
     "data": {
      "application/vnd.jupyter.widget-view+json": {
       "model_id": "a737e93ea8534dad933245e7b2a0f69f",
       "version_major": 2,
       "version_minor": 0
      },
      "text/plain": [
       "Training: -1it [00:00, ?it/s]"
      ]
     },
     "metadata": {},
     "output_type": "display_data"
    },
    {
     "name": "stderr",
     "output_type": "stream",
     "text": [
      "Fitting K-Means...\n"
     ]
    },
    {
     "data": {
      "application/vnd.jupyter.widget-view+json": {
       "model_id": "18c4836b8b874ee7b303f6f3f48f7adb",
       "version_major": 2,
       "version_minor": 0
      },
      "text/plain": [
       "Training: -1it [00:00, ?it/s]"
      ]
     },
     "metadata": {},
     "output_type": "display_data"
    },
    {
     "name": "stderr",
     "output_type": "stream",
     "text": [
      "Running initialization...\n"
     ]
    },
    {
     "data": {
      "application/vnd.jupyter.widget-view+json": {
       "model_id": "a0d3210c9a3c442b98afa2e69bee8737",
       "version_major": 2,
       "version_minor": 0
      },
      "text/plain": [
       "Training: -1it [00:00, ?it/s]"
      ]
     },
     "metadata": {},
     "output_type": "display_data"
    },
    {
     "name": "stderr",
     "output_type": "stream",
     "text": [
      "Fitting Gaussian mixture...\n"
     ]
    },
    {
     "data": {
      "application/vnd.jupyter.widget-view+json": {
       "model_id": "3c16349d599346f282b0f3fe2daef82f",
       "version_major": 2,
       "version_minor": 0
      },
      "text/plain": [
       "Training: -1it [00:00, ?it/s]"
      ]
     },
     "metadata": {},
     "output_type": "display_data"
    },
    {
     "data": {
      "application/vnd.jupyter.widget-view+json": {
       "model_id": "8112430e2f7e487eaf93bb064ad67c08",
       "version_major": 2,
       "version_minor": 0
      },
      "text/plain": [
       "Predicting: 0it [00:00, ?it/s]"
      ]
     },
     "metadata": {},
     "output_type": "display_data"
    },
    {
     "name": "stdout",
     "output_type": "stream",
     "text": [
      "Cluster Comparison\n",
      "\n",
      "- Match Events:\n",
      "      0     1     2\n",
      "0    16     5  3279\n",
      "1  3148    33    10\n",
      "2     6  3673     4 \n",
      "\n",
      "- Agreement Scores:\n",
      "          0         1         2\n",
      "0  0.002472  0.000710  0.988842\n",
      "1  0.968914  0.004764  0.001540\n",
      "2  0.000869  0.966325  0.000570 \n",
      "\n",
      "- Cluster Change: 74\n",
      "- Least Change: 32\n",
      "- Convergence Epochs: [4/5]\n",
      "- Time: 0.4174 seconds\n",
      "\n",
      "Classification\n",
      "- Epoch: [28][0/160]\tTime: 0.042 (0.042)\tData: 0.029 (0.029)\tLoss: 4.5319 (4.5319)\n",
      "- Epoch: [28][50/160]\tTime: 0.023 (0.024)\tData: 0.015 (0.016)\tLoss: 0.7915 (1.3176)\n",
      "- Epoch: [28][100/160]\tTime: 0.023 (0.024)\tData: 0.014 (0.015)\tLoss: 0.5378 (0.9748)\n",
      "- Epoch: [28][150/160]\tTime: 0.026 (0.024)\tData: 0.016 (0.015)\tLoss: 0.2069 (0.7554)\n",
      "\n",
      "\n",
      "Epoch 29\n",
      "Feature Extraction\n"
     ]
    },
    {
     "name": "stderr",
     "output_type": "stream",
     "text": [
      "Extracting Features: 100%|██████████| 160/160 [00:03<00:00, 50.97it/s]\n",
      "Fitting K-means estimator...\n",
      "Running initialization...\n"
     ]
    },
    {
     "name": "stdout",
     "output_type": "stream",
     "text": [
      "Clustering\n"
     ]
    },
    {
     "data": {
      "application/vnd.jupyter.widget-view+json": {
       "model_id": "3d11e3f76c4440b9a54b615ab6314b77",
       "version_major": 2,
       "version_minor": 0
      },
      "text/plain": [
       "Training: -1it [00:00, ?it/s]"
      ]
     },
     "metadata": {},
     "output_type": "display_data"
    },
    {
     "data": {
      "application/vnd.jupyter.widget-view+json": {
       "model_id": "c0d168ae7ad04b529d97a211180eedde",
       "version_major": 2,
       "version_minor": 0
      },
      "text/plain": [
       "Training: -1it [00:00, ?it/s]"
      ]
     },
     "metadata": {},
     "output_type": "display_data"
    },
    {
     "name": "stderr",
     "output_type": "stream",
     "text": [
      "Fitting K-Means...\n"
     ]
    },
    {
     "data": {
      "application/vnd.jupyter.widget-view+json": {
       "model_id": "4857075d35c4485ca7fed8b8cbe2f8fc",
       "version_major": 2,
       "version_minor": 0
      },
      "text/plain": [
       "Training: -1it [00:00, ?it/s]"
      ]
     },
     "metadata": {},
     "output_type": "display_data"
    },
    {
     "name": "stderr",
     "output_type": "stream",
     "text": [
      "Running initialization...\n"
     ]
    },
    {
     "data": {
      "application/vnd.jupyter.widget-view+json": {
       "model_id": "96d245a440fc4ee9a32e8f47a5b2b3f8",
       "version_major": 2,
       "version_minor": 0
      },
      "text/plain": [
       "Training: -1it [00:00, ?it/s]"
      ]
     },
     "metadata": {},
     "output_type": "display_data"
    },
    {
     "name": "stderr",
     "output_type": "stream",
     "text": [
      "Fitting Gaussian mixture...\n"
     ]
    },
    {
     "data": {
      "application/vnd.jupyter.widget-view+json": {
       "model_id": "09e2149219c04f6eb015659e7f486899",
       "version_major": 2,
       "version_minor": 0
      },
      "text/plain": [
       "Training: -1it [00:00, ?it/s]"
      ]
     },
     "metadata": {},
     "output_type": "display_data"
    },
    {
     "data": {
      "application/vnd.jupyter.widget-view+json": {
       "model_id": "1c7f575f1f6a437ba25f75dfa0de701c",
       "version_major": 2,
       "version_minor": 0
      },
      "text/plain": [
       "Predicting: 0it [00:00, ?it/s]"
      ]
     },
     "metadata": {},
     "output_type": "display_data"
    },
    {
     "name": "stdout",
     "output_type": "stream",
     "text": [
      "Cluster Comparison\n",
      "\n",
      "- Match Events:\n",
      "      0     1     2\n",
      "0    17     3  3150\n",
      "1     5  3668    36\n",
      "2  3276     4    15 \n",
      "\n",
      "- Agreement Scores:\n",
      "          0         1         2\n",
      "0  0.002628  0.000435  0.967148\n",
      "1  0.000710  0.965263  0.005192\n",
      "2  0.988235  0.000571  0.002308 \n",
      "\n",
      "- Cluster Change: 80\n",
      "- Least Change: 32\n",
      "- Convergence Epochs: [4/5]\n",
      "- Time: 0.0186 seconds\n",
      "\n",
      "Classification\n",
      "- Epoch: [29][0/160]\tTime: 0.036 (0.036)\tData: 0.026 (0.026)\tLoss: 3.0819 (3.0819)\n",
      "- Epoch: [29][50/160]\tTime: 0.027 (0.029)\tData: 0.019 (0.021)\tLoss: 0.5036 (1.0221)\n",
      "- Epoch: [29][100/160]\tTime: 0.026 (0.029)\tData: 0.017 (0.020)\tLoss: 0.2541 (0.6850)\n",
      "- Epoch: [29][150/160]\tTime: 0.027 (0.027)\tData: 0.017 (0.019)\tLoss: 0.1180 (0.5191)\n",
      "\n",
      "\n",
      "Epoch 30\n",
      "Feature Extraction\n"
     ]
    },
    {
     "name": "stderr",
     "output_type": "stream",
     "text": [
      "Extracting Features: 100%|██████████| 160/160 [00:03<00:00, 51.61it/s]\n",
      "Fitting K-means estimator...\n",
      "Running initialization...\n"
     ]
    },
    {
     "name": "stdout",
     "output_type": "stream",
     "text": [
      "Clustering\n"
     ]
    },
    {
     "data": {
      "application/vnd.jupyter.widget-view+json": {
       "model_id": "1c08114093464e0b863d67e990c2b2b5",
       "version_major": 2,
       "version_minor": 0
      },
      "text/plain": [
       "Training: -1it [00:00, ?it/s]"
      ]
     },
     "metadata": {},
     "output_type": "display_data"
    },
    {
     "data": {
      "application/vnd.jupyter.widget-view+json": {
       "model_id": "df6a50c100f14d139ce7836eaeb02b36",
       "version_major": 2,
       "version_minor": 0
      },
      "text/plain": [
       "Training: -1it [00:00, ?it/s]"
      ]
     },
     "metadata": {},
     "output_type": "display_data"
    },
    {
     "name": "stderr",
     "output_type": "stream",
     "text": [
      "Fitting K-Means...\n"
     ]
    },
    {
     "data": {
      "application/vnd.jupyter.widget-view+json": {
       "model_id": "a31cbdcf46ba4a0aa7dabcfe0e979056",
       "version_major": 2,
       "version_minor": 0
      },
      "text/plain": [
       "Training: -1it [00:00, ?it/s]"
      ]
     },
     "metadata": {},
     "output_type": "display_data"
    },
    {
     "name": "stderr",
     "output_type": "stream",
     "text": [
      "Running initialization...\n"
     ]
    },
    {
     "data": {
      "application/vnd.jupyter.widget-view+json": {
       "model_id": "9d5c130edd834c2fb637527e76214975",
       "version_major": 2,
       "version_minor": 0
      },
      "text/plain": [
       "Training: -1it [00:00, ?it/s]"
      ]
     },
     "metadata": {},
     "output_type": "display_data"
    },
    {
     "name": "stderr",
     "output_type": "stream",
     "text": [
      "Fitting Gaussian mixture...\n"
     ]
    },
    {
     "data": {
      "application/vnd.jupyter.widget-view+json": {
       "model_id": "2616f80d3ddd4961b8a836238f827b6e",
       "version_major": 2,
       "version_minor": 0
      },
      "text/plain": [
       "Training: -1it [00:00, ?it/s]"
      ]
     },
     "metadata": {},
     "output_type": "display_data"
    },
    {
     "data": {
      "application/vnd.jupyter.widget-view+json": {
       "model_id": "6cd9d3dc6b194fa7b26a9915df27aa51",
       "version_major": 2,
       "version_minor": 0
      },
      "text/plain": [
       "Predicting: 0it [00:00, ?it/s]"
      ]
     },
     "metadata": {},
     "output_type": "display_data"
    },
    {
     "name": "stdout",
     "output_type": "stream",
     "text": [
      "Cluster Comparison\n",
      "\n",
      "- Match Events:\n",
      "      0     1     2\n",
      "0     6  3283    11\n",
      "1  3668     1     5\n",
      "2    20    15  3163 \n",
      "\n",
      "- Agreement Scores:\n",
      "          0         1         2\n",
      "0  0.000854  0.991843  0.001696\n",
      "1  0.968833  0.000143  0.000723\n",
      "2  0.002884  0.002308  0.971437 \n",
      "\n",
      "- Cluster Change: 58\n",
      "- Least Change: 32\n",
      "- Convergence Epochs: [4/5]\n",
      "- Time: 0.0177 seconds\n",
      "\n",
      "Classification\n",
      "- Epoch: [30][0/160]\tTime: 0.032 (0.032)\tData: 0.022 (0.022)\tLoss: 4.7415 (4.7415)\n",
      "- Epoch: [30][50/160]\tTime: 0.028 (0.029)\tData: 0.019 (0.020)\tLoss: 0.2419 (1.2545)\n",
      "- Epoch: [30][100/160]\tTime: 0.024 (0.028)\tData: 0.015 (0.019)\tLoss: 0.1110 (0.7387)\n",
      "- Epoch: [30][150/160]\tTime: 0.030 (0.027)\tData: 0.021 (0.018)\tLoss: 0.0746 (0.5346)\n",
      "\n",
      "\n",
      "Epoch 31\n",
      "Feature Extraction\n"
     ]
    },
    {
     "name": "stderr",
     "output_type": "stream",
     "text": [
      "Extracting Features: 100%|██████████| 160/160 [00:03<00:00, 43.01it/s]\n",
      "Fitting K-means estimator...\n",
      "Running initialization...\n"
     ]
    },
    {
     "name": "stdout",
     "output_type": "stream",
     "text": [
      "Clustering\n"
     ]
    },
    {
     "data": {
      "application/vnd.jupyter.widget-view+json": {
       "model_id": "c502a235654648279b43a592472ef6ec",
       "version_major": 2,
       "version_minor": 0
      },
      "text/plain": [
       "Training: -1it [00:00, ?it/s]"
      ]
     },
     "metadata": {},
     "output_type": "display_data"
    },
    {
     "data": {
      "application/vnd.jupyter.widget-view+json": {
       "model_id": "ff422ebad3e644b79da4d42c047848f1",
       "version_major": 2,
       "version_minor": 0
      },
      "text/plain": [
       "Training: -1it [00:00, ?it/s]"
      ]
     },
     "metadata": {},
     "output_type": "display_data"
    },
    {
     "name": "stderr",
     "output_type": "stream",
     "text": [
      "Fitting K-Means...\n"
     ]
    },
    {
     "data": {
      "application/vnd.jupyter.widget-view+json": {
       "model_id": "d9de006f079749439e56790d00c49a25",
       "version_major": 2,
       "version_minor": 0
      },
      "text/plain": [
       "Training: -1it [00:00, ?it/s]"
      ]
     },
     "metadata": {},
     "output_type": "display_data"
    },
    {
     "name": "stderr",
     "output_type": "stream",
     "text": [
      "Running initialization...\n"
     ]
    },
    {
     "data": {
      "application/vnd.jupyter.widget-view+json": {
       "model_id": "deae9ef479984b25b7518f4008a758af",
       "version_major": 2,
       "version_minor": 0
      },
      "text/plain": [
       "Training: -1it [00:00, ?it/s]"
      ]
     },
     "metadata": {},
     "output_type": "display_data"
    },
    {
     "name": "stderr",
     "output_type": "stream",
     "text": [
      "Fitting Gaussian mixture...\n"
     ]
    },
    {
     "data": {
      "application/vnd.jupyter.widget-view+json": {
       "model_id": "6a48f7647a2048acbd2294ffa3445941",
       "version_major": 2,
       "version_minor": 0
      },
      "text/plain": [
       "Training: -1it [00:00, ?it/s]"
      ]
     },
     "metadata": {},
     "output_type": "display_data"
    },
    {
     "data": {
      "application/vnd.jupyter.widget-view+json": {
       "model_id": "005e68725fb74822a2f09960d543bfbd",
       "version_major": 2,
       "version_minor": 0
      },
      "text/plain": [
       "Predicting: 0it [00:00, ?it/s]"
      ]
     },
     "metadata": {},
     "output_type": "display_data"
    },
    {
     "name": "stdout",
     "output_type": "stream",
     "text": [
      "Cluster Comparison\n",
      "\n",
      "- Match Events:\n",
      "      0     1     2\n",
      "0    33  3655     4\n",
      "1    19     1  3276\n",
      "2  3168     6    13 \n",
      "\n",
      "- Agreement Scores:\n",
      "          0         1         2\n",
      "0  0.004757  0.964634  0.000569\n",
      "1  0.002919  0.000143  0.988832\n",
      "2  0.970291  0.000869  0.002006 \n",
      "\n",
      "- Cluster Change: 76\n",
      "- Least Change: 32\n",
      "- Convergence Epochs: [4/5]\n",
      "- Time: 0.2803 seconds\n",
      "\n",
      "Classification\n",
      "- Epoch: [31][0/160]\tTime: 0.038 (0.038)\tData: 0.027 (0.027)\tLoss: 7.8484 (7.8484)\n",
      "- Epoch: [31][50/160]\tTime: 0.023 (0.025)\tData: 0.015 (0.016)\tLoss: 0.5529 (1.4452)\n",
      "- Epoch: [31][100/160]\tTime: 0.023 (0.025)\tData: 0.014 (0.015)\tLoss: 0.2256 (0.8975)\n",
      "- Epoch: [31][150/160]\tTime: 0.033 (0.025)\tData: 0.021 (0.016)\tLoss: 0.0699 (0.6517)\n",
      "\n",
      "\n",
      "Epoch 32\n",
      "Feature Extraction\n"
     ]
    },
    {
     "name": "stderr",
     "output_type": "stream",
     "text": [
      "Extracting Features: 100%|██████████| 160/160 [00:03<00:00, 47.42it/s]\n",
      "Fitting K-means estimator...\n",
      "Running initialization...\n"
     ]
    },
    {
     "name": "stdout",
     "output_type": "stream",
     "text": [
      "Clustering\n"
     ]
    },
    {
     "data": {
      "application/vnd.jupyter.widget-view+json": {
       "model_id": "166d7191019b40be9fa0a1052ff052b7",
       "version_major": 2,
       "version_minor": 0
      },
      "text/plain": [
       "Training: -1it [00:00, ?it/s]"
      ]
     },
     "metadata": {},
     "output_type": "display_data"
    },
    {
     "data": {
      "application/vnd.jupyter.widget-view+json": {
       "model_id": "5babaa387b4d48bba64c68701c791965",
       "version_major": 2,
       "version_minor": 0
      },
      "text/plain": [
       "Training: -1it [00:00, ?it/s]"
      ]
     },
     "metadata": {},
     "output_type": "display_data"
    },
    {
     "name": "stderr",
     "output_type": "stream",
     "text": [
      "Fitting K-Means...\n"
     ]
    },
    {
     "data": {
      "application/vnd.jupyter.widget-view+json": {
       "model_id": "5ee2591e6b9e4d2c921d6387131203a0",
       "version_major": 2,
       "version_minor": 0
      },
      "text/plain": [
       "Training: -1it [00:00, ?it/s]"
      ]
     },
     "metadata": {},
     "output_type": "display_data"
    },
    {
     "name": "stderr",
     "output_type": "stream",
     "text": [
      "Running initialization...\n"
     ]
    },
    {
     "data": {
      "application/vnd.jupyter.widget-view+json": {
       "model_id": "0501934d7efa414db59a430bc7d1571f",
       "version_major": 2,
       "version_minor": 0
      },
      "text/plain": [
       "Training: -1it [00:00, ?it/s]"
      ]
     },
     "metadata": {},
     "output_type": "display_data"
    },
    {
     "name": "stderr",
     "output_type": "stream",
     "text": [
      "Fitting Gaussian mixture...\n"
     ]
    },
    {
     "data": {
      "application/vnd.jupyter.widget-view+json": {
       "model_id": "d9b1d039fb8e4d6b9703a8f368ae60f6",
       "version_major": 2,
       "version_minor": 0
      },
      "text/plain": [
       "Training: -1it [00:00, ?it/s]"
      ]
     },
     "metadata": {},
     "output_type": "display_data"
    },
    {
     "data": {
      "application/vnd.jupyter.widget-view+json": {
       "model_id": "a55c620114e140f3ba1e015302df5bef",
       "version_major": 2,
       "version_minor": 0
      },
      "text/plain": [
       "Predicting: 0it [00:00, ?it/s]"
      ]
     },
     "metadata": {},
     "output_type": "display_data"
    },
    {
     "name": "stdout",
     "output_type": "stream",
     "text": [
      "Cluster Comparison\n",
      "\n",
      "- Match Events:\n",
      "      0     1     2\n",
      "0    10     7  3193\n",
      "1  3623     1    37\n",
      "2     1  3272    22 \n",
      "\n",
      "- Agreement Scores:\n",
      "          0         1         2\n",
      "0  0.001449  0.001076  0.963198\n",
      "1  0.962540  0.000143  0.005328\n",
      "2  0.000143  0.991816  0.003361 \n",
      "\n",
      "- Cluster Change: 78\n",
      "- Least Change: 32\n",
      "- Convergence Epochs: [4/5]\n",
      "- Time: 0.1040 seconds\n",
      "\n",
      "Classification\n",
      "- Epoch: [32][0/160]\tTime: 0.042 (0.042)\tData: 0.027 (0.027)\tLoss: 5.8263 (5.8263)\n",
      "- Epoch: [32][50/160]\tTime: 0.023 (0.024)\tData: 0.014 (0.015)\tLoss: 0.3628 (1.1672)\n",
      "- Epoch: [32][100/160]\tTime: 0.038 (0.030)\tData: 0.026 (0.019)\tLoss: 0.1287 (0.7245)\n",
      "- Epoch: [32][150/160]\tTime: 0.038 (0.032)\tData: 0.025 (0.021)\tLoss: 0.0758 (0.5232)\n",
      "\n",
      "\n",
      "Epoch 33\n",
      "Feature Extraction\n"
     ]
    },
    {
     "name": "stderr",
     "output_type": "stream",
     "text": [
      "Extracting Features: 100%|██████████| 160/160 [00:02<00:00, 54.81it/s]\n",
      "Fitting K-means estimator...\n",
      "Running initialization...\n"
     ]
    },
    {
     "name": "stdout",
     "output_type": "stream",
     "text": [
      "Clustering\n"
     ]
    },
    {
     "data": {
      "application/vnd.jupyter.widget-view+json": {
       "model_id": "ba2f3f2645a24752b59c531eb3508109",
       "version_major": 2,
       "version_minor": 0
      },
      "text/plain": [
       "Training: -1it [00:00, ?it/s]"
      ]
     },
     "metadata": {},
     "output_type": "display_data"
    },
    {
     "data": {
      "application/vnd.jupyter.widget-view+json": {
       "model_id": "6a23687ed21c442fbd691cd0faa826e9",
       "version_major": 2,
       "version_minor": 0
      },
      "text/plain": [
       "Training: -1it [00:00, ?it/s]"
      ]
     },
     "metadata": {},
     "output_type": "display_data"
    },
    {
     "name": "stderr",
     "output_type": "stream",
     "text": [
      "Fitting K-Means...\n"
     ]
    },
    {
     "data": {
      "application/vnd.jupyter.widget-view+json": {
       "model_id": "b4f8c416def9473ea3863c8272b2c0b6",
       "version_major": 2,
       "version_minor": 0
      },
      "text/plain": [
       "Training: -1it [00:00, ?it/s]"
      ]
     },
     "metadata": {},
     "output_type": "display_data"
    },
    {
     "name": "stderr",
     "output_type": "stream",
     "text": [
      "Running initialization...\n"
     ]
    },
    {
     "data": {
      "application/vnd.jupyter.widget-view+json": {
       "model_id": "0fd7f8a754c648ba907b34588f6e0a08",
       "version_major": 2,
       "version_minor": 0
      },
      "text/plain": [
       "Training: -1it [00:00, ?it/s]"
      ]
     },
     "metadata": {},
     "output_type": "display_data"
    },
    {
     "name": "stderr",
     "output_type": "stream",
     "text": [
      "Fitting Gaussian mixture...\n"
     ]
    },
    {
     "data": {
      "application/vnd.jupyter.widget-view+json": {
       "model_id": "bd5d7b5e4cf54c76aee47be4af9aef41",
       "version_major": 2,
       "version_minor": 0
      },
      "text/plain": [
       "Training: -1it [00:00, ?it/s]"
      ]
     },
     "metadata": {},
     "output_type": "display_data"
    },
    {
     "data": {
      "application/vnd.jupyter.widget-view+json": {
       "model_id": "16865b55ba87472ab537b6a828d79a01",
       "version_major": 2,
       "version_minor": 0
      },
      "text/plain": [
       "Predicting: 0it [00:00, ?it/s]"
      ]
     },
     "metadata": {},
     "output_type": "display_data"
    },
    {
     "name": "stdout",
     "output_type": "stream",
     "text": [
      "Cluster Comparison\n",
      "\n",
      "- Match Events:\n",
      "      0     1     2\n",
      "0  3628     1     8\n",
      "1     3  3269     8\n",
      "2    26    26  3204 \n",
      "\n",
      "- Agreement Scores:\n",
      "          0         1         2\n",
      "0  0.966951  0.000143  0.001158\n",
      "1  0.000430  0.989706  0.001229\n",
      "2  0.003742  0.003974  0.967976 \n",
      "\n",
      "- Cluster Change: 72\n",
      "- Least Change: 32\n",
      "- Convergence Epochs: [4/5]\n",
      "- Time: 0.0181 seconds\n",
      "\n",
      "Classification\n",
      "- Epoch: [33][0/160]\tTime: 0.037 (0.037)\tData: 0.023 (0.023)\tLoss: 0.1070 (0.1070)\n",
      "- Epoch: [33][50/160]\tTime: 0.028 (0.028)\tData: 0.019 (0.019)\tLoss: 0.0628 (0.0820)\n",
      "- Epoch: [33][100/160]\tTime: 0.024 (0.030)\tData: 0.015 (0.019)\tLoss: 0.0459 (0.0718)\n",
      "- Epoch: [33][150/160]\tTime: 0.036 (0.030)\tData: 0.021 (0.019)\tLoss: 0.0165 (0.0633)\n",
      "\n",
      "\n",
      "Epoch 34\n",
      "Feature Extraction\n"
     ]
    },
    {
     "name": "stderr",
     "output_type": "stream",
     "text": [
      "Extracting Features: 100%|██████████| 160/160 [00:02<00:00, 60.94it/s]\n",
      "Fitting K-means estimator...\n",
      "Running initialization...\n"
     ]
    },
    {
     "name": "stdout",
     "output_type": "stream",
     "text": [
      "Clustering\n"
     ]
    },
    {
     "data": {
      "application/vnd.jupyter.widget-view+json": {
       "model_id": "0eeeebb0bbf54e7e9659e9f83f325e94",
       "version_major": 2,
       "version_minor": 0
      },
      "text/plain": [
       "Training: -1it [00:00, ?it/s]"
      ]
     },
     "metadata": {},
     "output_type": "display_data"
    },
    {
     "data": {
      "application/vnd.jupyter.widget-view+json": {
       "model_id": "fb334dfbd91046938abb726f379419b9",
       "version_major": 2,
       "version_minor": 0
      },
      "text/plain": [
       "Training: -1it [00:00, ?it/s]"
      ]
     },
     "metadata": {},
     "output_type": "display_data"
    },
    {
     "name": "stderr",
     "output_type": "stream",
     "text": [
      "Fitting K-Means...\n"
     ]
    },
    {
     "data": {
      "application/vnd.jupyter.widget-view+json": {
       "model_id": "1d3235ef21fd427f8e37674a9ea97122",
       "version_major": 2,
       "version_minor": 0
      },
      "text/plain": [
       "Training: -1it [00:00, ?it/s]"
      ]
     },
     "metadata": {},
     "output_type": "display_data"
    },
    {
     "name": "stderr",
     "output_type": "stream",
     "text": [
      "Running initialization...\n"
     ]
    },
    {
     "data": {
      "application/vnd.jupyter.widget-view+json": {
       "model_id": "014d803525e245d6ab8fe3aa8d59b0f9",
       "version_major": 2,
       "version_minor": 0
      },
      "text/plain": [
       "Training: -1it [00:00, ?it/s]"
      ]
     },
     "metadata": {},
     "output_type": "display_data"
    },
    {
     "name": "stderr",
     "output_type": "stream",
     "text": [
      "Fitting Gaussian mixture...\n"
     ]
    },
    {
     "data": {
      "application/vnd.jupyter.widget-view+json": {
       "model_id": "b9379c9ab0e844a5b14a2d591f6a89ca",
       "version_major": 2,
       "version_minor": 0
      },
      "text/plain": [
       "Training: -1it [00:00, ?it/s]"
      ]
     },
     "metadata": {},
     "output_type": "display_data"
    },
    {
     "data": {
      "application/vnd.jupyter.widget-view+json": {
       "model_id": "7faa25dca75e42de8472b0fd6ae7786c",
       "version_major": 2,
       "version_minor": 0
      },
      "text/plain": [
       "Predicting: 0it [00:00, ?it/s]"
      ]
     },
     "metadata": {},
     "output_type": "display_data"
    },
    {
     "name": "stdout",
     "output_type": "stream",
     "text": [
      "Cluster Comparison\n",
      "\n",
      "- Match Events:\n",
      "      0     1     2\n",
      "0     1  3638    20\n",
      "1  3282     1    12\n",
      "2     3     1  3215 \n",
      "\n",
      "- Agreement Scores:\n",
      "          0         1         2\n",
      "0  0.000143  0.971948  0.002879\n",
      "1  0.995450  0.000143  0.001832\n",
      "2  0.000460  0.000145  0.976907 \n",
      "\n",
      "- Cluster Change: 38\n",
      "- Least Change: 32\n",
      "- Convergence Epochs: [4/5]\n",
      "- Time: 0.2357 seconds\n",
      "\n",
      "Classification\n",
      "- Epoch: [34][0/160]\tTime: 0.044 (0.044)\tData: 0.032 (0.032)\tLoss: 4.4596 (4.4596)\n",
      "- Epoch: [34][50/160]\tTime: 0.034 (0.033)\tData: 0.025 (0.024)\tLoss: 0.2877 (1.1347)\n",
      "- Epoch: [34][100/160]\tTime: 0.024 (0.030)\tData: 0.015 (0.021)\tLoss: 0.1259 (0.6695)\n",
      "- Epoch: [34][150/160]\tTime: 0.031 (0.028)\tData: 0.018 (0.019)\tLoss: 0.0829 (0.4834)\n",
      "\n",
      "\n",
      "Epoch 35\n",
      "Feature Extraction\n"
     ]
    },
    {
     "name": "stderr",
     "output_type": "stream",
     "text": [
      "Extracting Features: 100%|██████████| 160/160 [00:04<00:00, 39.85it/s]\n",
      "Fitting K-means estimator...\n",
      "Running initialization...\n"
     ]
    },
    {
     "name": "stdout",
     "output_type": "stream",
     "text": [
      "Clustering\n"
     ]
    },
    {
     "data": {
      "application/vnd.jupyter.widget-view+json": {
       "model_id": "50adf17220fa4837b9383e6ccd14d495",
       "version_major": 2,
       "version_minor": 0
      },
      "text/plain": [
       "Training: -1it [00:00, ?it/s]"
      ]
     },
     "metadata": {},
     "output_type": "display_data"
    },
    {
     "data": {
      "application/vnd.jupyter.widget-view+json": {
       "model_id": "27d909e2a6714b04a98625e36a0f8b2c",
       "version_major": 2,
       "version_minor": 0
      },
      "text/plain": [
       "Training: -1it [00:00, ?it/s]"
      ]
     },
     "metadata": {},
     "output_type": "display_data"
    },
    {
     "name": "stderr",
     "output_type": "stream",
     "text": [
      "Fitting K-Means...\n"
     ]
    },
    {
     "data": {
      "application/vnd.jupyter.widget-view+json": {
       "model_id": "fa9073b6d5c841d9904cecadc22a4af4",
       "version_major": 2,
       "version_minor": 0
      },
      "text/plain": [
       "Training: -1it [00:00, ?it/s]"
      ]
     },
     "metadata": {},
     "output_type": "display_data"
    },
    {
     "name": "stderr",
     "output_type": "stream",
     "text": [
      "Running initialization...\n"
     ]
    },
    {
     "data": {
      "application/vnd.jupyter.widget-view+json": {
       "model_id": "3a813efa760148e4b1cd7b64d3eab6aa",
       "version_major": 2,
       "version_minor": 0
      },
      "text/plain": [
       "Training: -1it [00:00, ?it/s]"
      ]
     },
     "metadata": {},
     "output_type": "display_data"
    },
    {
     "name": "stderr",
     "output_type": "stream",
     "text": [
      "Fitting Gaussian mixture...\n"
     ]
    },
    {
     "data": {
      "application/vnd.jupyter.widget-view+json": {
       "model_id": "3ff3bdb1ce7b4c8abae23c1d24302a1e",
       "version_major": 2,
       "version_minor": 0
      },
      "text/plain": [
       "Training: -1it [00:00, ?it/s]"
      ]
     },
     "metadata": {},
     "output_type": "display_data"
    },
    {
     "data": {
      "application/vnd.jupyter.widget-view+json": {
       "model_id": "6b6cc1e85cf949da946b4fe2d7184826",
       "version_major": 2,
       "version_minor": 0
      },
      "text/plain": [
       "Predicting: 0it [00:00, ?it/s]"
      ]
     },
     "metadata": {},
     "output_type": "display_data"
    },
    {
     "name": "stdout",
     "output_type": "stream",
     "text": [
      "Cluster Comparison\n",
      "\n",
      "- Match Events:\n",
      "      0     1     2\n",
      "0     3    22  3260\n",
      "1  3616    18     1\n",
      "2     9  3236     4 \n",
      "\n",
      "- Agreement Scores:\n",
      "          0         1         2\n",
      "0  0.000431  0.003355  0.990881\n",
      "1  0.967104  0.002587  0.000144\n",
      "2  0.001298  0.973233  0.000613 \n",
      "\n",
      "- Cluster Change: 57\n",
      "- Least Change: 32\n",
      "- Convergence Epochs: [4/5]\n",
      "- Time: 0.0172 seconds\n",
      "\n",
      "Classification\n",
      "- Epoch: [35][0/160]\tTime: 0.029 (0.029)\tData: 0.019 (0.019)\tLoss: 9.4747 (9.4747)\n",
      "- Epoch: [35][50/160]\tTime: 0.027 (0.027)\tData: 0.018 (0.019)\tLoss: 0.8566 (1.9981)\n",
      "- Epoch: [35][100/160]\tTime: 0.034 (0.029)\tData: 0.025 (0.021)\tLoss: 0.1221 (1.1965)\n",
      "- Epoch: [35][150/160]\tTime: 0.033 (0.030)\tData: 0.024 (0.021)\tLoss: 0.0693 (0.8339)\n",
      "\n",
      "\n",
      "Epoch 36\n",
      "Feature Extraction\n"
     ]
    },
    {
     "name": "stderr",
     "output_type": "stream",
     "text": [
      "Extracting Features: 100%|██████████| 160/160 [00:03<00:00, 51.64it/s]\n",
      "Fitting K-means estimator...\n",
      "Running initialization...\n"
     ]
    },
    {
     "name": "stdout",
     "output_type": "stream",
     "text": [
      "Clustering\n"
     ]
    },
    {
     "data": {
      "application/vnd.jupyter.widget-view+json": {
       "model_id": "4f254c4f457140eea5f1cf79687a81a8",
       "version_major": 2,
       "version_minor": 0
      },
      "text/plain": [
       "Training: -1it [00:00, ?it/s]"
      ]
     },
     "metadata": {},
     "output_type": "display_data"
    },
    {
     "data": {
      "application/vnd.jupyter.widget-view+json": {
       "model_id": "c9c4720373be4efda4d731a06aa22492",
       "version_major": 2,
       "version_minor": 0
      },
      "text/plain": [
       "Training: -1it [00:00, ?it/s]"
      ]
     },
     "metadata": {},
     "output_type": "display_data"
    },
    {
     "name": "stderr",
     "output_type": "stream",
     "text": [
      "Fitting K-Means...\n"
     ]
    },
    {
     "data": {
      "application/vnd.jupyter.widget-view+json": {
       "model_id": "608dbb278f9242dcb1a12d9a9ee242d2",
       "version_major": 2,
       "version_minor": 0
      },
      "text/plain": [
       "Training: -1it [00:00, ?it/s]"
      ]
     },
     "metadata": {},
     "output_type": "display_data"
    },
    {
     "name": "stderr",
     "output_type": "stream",
     "text": [
      "Running initialization...\n"
     ]
    },
    {
     "data": {
      "application/vnd.jupyter.widget-view+json": {
       "model_id": "08926b8478ad4606b7b784917a0e45d1",
       "version_major": 2,
       "version_minor": 0
      },
      "text/plain": [
       "Training: -1it [00:00, ?it/s]"
      ]
     },
     "metadata": {},
     "output_type": "display_data"
    },
    {
     "name": "stderr",
     "output_type": "stream",
     "text": [
      "Fitting Gaussian mixture...\n"
     ]
    },
    {
     "data": {
      "application/vnd.jupyter.widget-view+json": {
       "model_id": "80b66afd117f47feb1db3437855f7625",
       "version_major": 2,
       "version_minor": 0
      },
      "text/plain": [
       "Training: -1it [00:00, ?it/s]"
      ]
     },
     "metadata": {},
     "output_type": "display_data"
    },
    {
     "data": {
      "application/vnd.jupyter.widget-view+json": {
       "model_id": "87132a905b1e46eb964b8ed6f63b5b10",
       "version_major": 2,
       "version_minor": 0
      },
      "text/plain": [
       "Predicting: 0it [00:00, ?it/s]"
      ]
     },
     "metadata": {},
     "output_type": "display_data"
    },
    {
     "name": "stdout",
     "output_type": "stream",
     "text": [
      "Cluster Comparison\n",
      "\n",
      "- Match Events:\n",
      "      0     1     2\n",
      "0     1  3635     3\n",
      "1  3172    61    36\n",
      "2     3     2  3262 \n",
      "\n",
      "- Agreement Scores:\n",
      "          0         1         2\n",
      "0  0.000145  0.963680  0.000430\n",
      "1  0.954559  0.008757  0.005490\n",
      "2  0.000464  0.000286  0.987886 \n",
      "\n",
      "- Cluster Change: 106\n",
      "- Least Change: 32\n",
      "- Convergence Epochs: [4/5]\n",
      "- Time: 0.0186 seconds\n",
      "\n",
      "Classification\n",
      "- Epoch: [36][0/160]\tTime: 0.035 (0.035)\tData: 0.024 (0.024)\tLoss: 8.0677 (8.0677)\n",
      "- Epoch: [36][50/160]\tTime: 0.029 (0.033)\tData: 0.020 (0.024)\tLoss: 0.6549 (1.3727)\n",
      "- Epoch: [36][100/160]\tTime: 0.023 (0.029)\tData: 0.015 (0.021)\tLoss: 0.2446 (0.9211)\n",
      "- Epoch: [36][150/160]\tTime: 0.032 (0.028)\tData: 0.023 (0.020)\tLoss: 0.0536 (0.6776)\n",
      "\n",
      "\n",
      "Epoch 37\n",
      "Feature Extraction\n"
     ]
    },
    {
     "name": "stderr",
     "output_type": "stream",
     "text": [
      "Extracting Features: 100%|██████████| 160/160 [00:02<00:00, 54.86it/s]\n",
      "Fitting K-means estimator...\n",
      "Running initialization...\n"
     ]
    },
    {
     "name": "stdout",
     "output_type": "stream",
     "text": [
      "Clustering\n"
     ]
    },
    {
     "data": {
      "application/vnd.jupyter.widget-view+json": {
       "model_id": "3368f97f94a1479489d09ef376d41260",
       "version_major": 2,
       "version_minor": 0
      },
      "text/plain": [
       "Training: -1it [00:00, ?it/s]"
      ]
     },
     "metadata": {},
     "output_type": "display_data"
    },
    {
     "data": {
      "application/vnd.jupyter.widget-view+json": {
       "model_id": "b42608fc679446f69d328172c07d1791",
       "version_major": 2,
       "version_minor": 0
      },
      "text/plain": [
       "Training: -1it [00:00, ?it/s]"
      ]
     },
     "metadata": {},
     "output_type": "display_data"
    },
    {
     "name": "stderr",
     "output_type": "stream",
     "text": [
      "Fitting K-Means...\n"
     ]
    },
    {
     "data": {
      "application/vnd.jupyter.widget-view+json": {
       "model_id": "ade5a6e3c82049deb830765ba5bb31b8",
       "version_major": 2,
       "version_minor": 0
      },
      "text/plain": [
       "Training: -1it [00:00, ?it/s]"
      ]
     },
     "metadata": {},
     "output_type": "display_data"
    },
    {
     "name": "stderr",
     "output_type": "stream",
     "text": [
      "Running initialization...\n"
     ]
    },
    {
     "data": {
      "application/vnd.jupyter.widget-view+json": {
       "model_id": "95d26dbbe4f74e908487438bae8f2dc9",
       "version_major": 2,
       "version_minor": 0
      },
      "text/plain": [
       "Training: -1it [00:00, ?it/s]"
      ]
     },
     "metadata": {},
     "output_type": "display_data"
    },
    {
     "name": "stderr",
     "output_type": "stream",
     "text": [
      "Fitting Gaussian mixture...\n"
     ]
    },
    {
     "data": {
      "application/vnd.jupyter.widget-view+json": {
       "model_id": "3cea1331a2b748a39827ede52a859ff0",
       "version_major": 2,
       "version_minor": 0
      },
      "text/plain": [
       "Training: -1it [00:00, ?it/s]"
      ]
     },
     "metadata": {},
     "output_type": "display_data"
    },
    {
     "data": {
      "application/vnd.jupyter.widget-view+json": {
       "model_id": "ba59a63184ae49cdb6d8aa7a6853fa7e",
       "version_major": 2,
       "version_minor": 0
      },
      "text/plain": [
       "Predicting: 0it [00:00, ?it/s]"
      ]
     },
     "metadata": {},
     "output_type": "display_data"
    },
    {
     "name": "stdout",
     "output_type": "stream",
     "text": [
      "Cluster Comparison\n",
      "\n",
      "- Match Events:\n",
      "      0     1     2\n",
      "0  3153     6    21\n",
      "1     7     3  3679\n",
      "2    18  3280     4 \n",
      "\n",
      "- Agreement Scores:\n",
      "          0         1         2\n",
      "0  0.971050  0.000926  0.003031\n",
      "1  0.001011  0.000428  0.967649\n",
      "2  0.002778  0.992436  0.000568 \n",
      "\n",
      "- Cluster Change: 59\n",
      "- Least Change: 32\n",
      "- Convergence Epochs: [4/5]\n",
      "- Time: 0.3241 seconds\n",
      "\n",
      "Classification\n",
      "- Epoch: [37][0/160]\tTime: 0.046 (0.046)\tData: 0.034 (0.034)\tLoss: 3.2284 (3.2284)\n",
      "- Epoch: [37][50/160]\tTime: 0.027 (0.028)\tData: 0.018 (0.019)\tLoss: 0.5298 (1.1454)\n",
      "- Epoch: [37][100/160]\tTime: 0.027 (0.028)\tData: 0.018 (0.019)\tLoss: 0.2808 (0.7685)\n",
      "- Epoch: [37][150/160]\tTime: 0.029 (0.028)\tData: 0.021 (0.019)\tLoss: 0.2112 (0.5903)\n",
      "\n",
      "\n",
      "Epoch 38\n",
      "Feature Extraction\n"
     ]
    },
    {
     "name": "stderr",
     "output_type": "stream",
     "text": [
      "Extracting Features: 100%|██████████| 160/160 [00:03<00:00, 43.92it/s]\n",
      "Fitting K-means estimator...\n",
      "Running initialization...\n"
     ]
    },
    {
     "name": "stdout",
     "output_type": "stream",
     "text": [
      "Clustering\n"
     ]
    },
    {
     "data": {
      "application/vnd.jupyter.widget-view+json": {
       "model_id": "e3052451798940af993c305eb334931c",
       "version_major": 2,
       "version_minor": 0
      },
      "text/plain": [
       "Training: -1it [00:00, ?it/s]"
      ]
     },
     "metadata": {},
     "output_type": "display_data"
    },
    {
     "data": {
      "application/vnd.jupyter.widget-view+json": {
       "model_id": "a07f4254735743e4bf63f34c713b16e0",
       "version_major": 2,
       "version_minor": 0
      },
      "text/plain": [
       "Training: -1it [00:00, ?it/s]"
      ]
     },
     "metadata": {},
     "output_type": "display_data"
    },
    {
     "name": "stderr",
     "output_type": "stream",
     "text": [
      "Fitting K-Means...\n"
     ]
    },
    {
     "data": {
      "application/vnd.jupyter.widget-view+json": {
       "model_id": "2f3d39c2dc40480ab8ac97564496884e",
       "version_major": 2,
       "version_minor": 0
      },
      "text/plain": [
       "Training: -1it [00:00, ?it/s]"
      ]
     },
     "metadata": {},
     "output_type": "display_data"
    },
    {
     "name": "stderr",
     "output_type": "stream",
     "text": [
      "Running initialization...\n"
     ]
    },
    {
     "data": {
      "application/vnd.jupyter.widget-view+json": {
       "model_id": "f5167586391048d895c0c00ed5e657b1",
       "version_major": 2,
       "version_minor": 0
      },
      "text/plain": [
       "Training: -1it [00:00, ?it/s]"
      ]
     },
     "metadata": {},
     "output_type": "display_data"
    },
    {
     "name": "stderr",
     "output_type": "stream",
     "text": [
      "Fitting Gaussian mixture...\n"
     ]
    },
    {
     "data": {
      "application/vnd.jupyter.widget-view+json": {
       "model_id": "b2f10688cf2d44aa9064d9d5ff33bc05",
       "version_major": 2,
       "version_minor": 0
      },
      "text/plain": [
       "Training: -1it [00:00, ?it/s]"
      ]
     },
     "metadata": {},
     "output_type": "display_data"
    },
    {
     "data": {
      "application/vnd.jupyter.widget-view+json": {
       "model_id": "688ee31fa8d3475a9cb38eeae61c4c86",
       "version_major": 2,
       "version_minor": 0
      },
      "text/plain": [
       "Predicting: 0it [00:00, ?it/s]"
      ]
     },
     "metadata": {},
     "output_type": "display_data"
    },
    {
     "name": "stdout",
     "output_type": "stream",
     "text": [
      "Cluster Comparison\n",
      "\n",
      "- Match Events:\n",
      "      0     1     2\n",
      "0  3169     3    11\n",
      "1    14     1  3271\n",
      "2    32  3672     3 \n",
      "\n",
      "- Agreement Scores:\n",
      "          0         1         2\n",
      "0  0.971788  0.000434  0.001699\n",
      "1  0.002153  0.000143  0.991212\n",
      "2  0.004606  0.968099  0.000427 \n",
      "\n",
      "- Cluster Change: 64\n",
      "- Least Change: 32\n",
      "- Convergence Epochs: [4/5]\n",
      "- Time: 0.0180 seconds\n",
      "\n",
      "Classification\n",
      "- Epoch: [38][0/160]\tTime: 0.032 (0.032)\tData: 0.022 (0.022)\tLoss: 2.4362 (2.4362)\n",
      "- Epoch: [38][50/160]\tTime: 0.032 (0.034)\tData: 0.024 (0.025)\tLoss: 0.3678 (0.7876)\n",
      "- Epoch: [38][100/160]\tTime: 0.036 (0.031)\tData: 0.024 (0.022)\tLoss: 0.1390 (0.5458)\n",
      "- Epoch: [38][150/160]\tTime: 0.040 (0.032)\tData: 0.028 (0.022)\tLoss: 0.0313 (0.4124)\n",
      "\n",
      "\n",
      "Epoch 39\n",
      "Feature Extraction\n"
     ]
    },
    {
     "name": "stderr",
     "output_type": "stream",
     "text": [
      "Extracting Features: 100%|██████████| 160/160 [00:03<00:00, 41.81it/s]\n",
      "Fitting K-means estimator...\n",
      "Running initialization...\n"
     ]
    },
    {
     "name": "stdout",
     "output_type": "stream",
     "text": [
      "Clustering\n"
     ]
    },
    {
     "data": {
      "application/vnd.jupyter.widget-view+json": {
       "model_id": "a2a662f5aa1e46bf9bd6d92ceb785409",
       "version_major": 2,
       "version_minor": 0
      },
      "text/plain": [
       "Training: -1it [00:00, ?it/s]"
      ]
     },
     "metadata": {},
     "output_type": "display_data"
    },
    {
     "data": {
      "application/vnd.jupyter.widget-view+json": {
       "model_id": "a15fec72345c42a1bfb06eaa34b55ba7",
       "version_major": 2,
       "version_minor": 0
      },
      "text/plain": [
       "Training: -1it [00:00, ?it/s]"
      ]
     },
     "metadata": {},
     "output_type": "display_data"
    },
    {
     "name": "stderr",
     "output_type": "stream",
     "text": [
      "Fitting K-Means...\n"
     ]
    },
    {
     "data": {
      "application/vnd.jupyter.widget-view+json": {
       "model_id": "a95c381f333f4e1b850f230ae8ff06d6",
       "version_major": 2,
       "version_minor": 0
      },
      "text/plain": [
       "Training: -1it [00:00, ?it/s]"
      ]
     },
     "metadata": {},
     "output_type": "display_data"
    },
    {
     "name": "stderr",
     "output_type": "stream",
     "text": [
      "Running initialization...\n"
     ]
    },
    {
     "data": {
      "application/vnd.jupyter.widget-view+json": {
       "model_id": "93fbca9e5b6a4798b79a0734147d8059",
       "version_major": 2,
       "version_minor": 0
      },
      "text/plain": [
       "Training: -1it [00:00, ?it/s]"
      ]
     },
     "metadata": {},
     "output_type": "display_data"
    },
    {
     "name": "stderr",
     "output_type": "stream",
     "text": [
      "Fitting Gaussian mixture...\n"
     ]
    },
    {
     "data": {
      "application/vnd.jupyter.widget-view+json": {
       "model_id": "dece4228677e45d2ab85557065252d4b",
       "version_major": 2,
       "version_minor": 0
      },
      "text/plain": [
       "Training: -1it [00:00, ?it/s]"
      ]
     },
     "metadata": {},
     "output_type": "display_data"
    },
    {
     "data": {
      "application/vnd.jupyter.widget-view+json": {
       "model_id": "d498b94e3f8849588f75e4f41260e540",
       "version_major": 2,
       "version_minor": 0
      },
      "text/plain": [
       "Predicting: 0it [00:00, ?it/s]"
      ]
     },
     "metadata": {},
     "output_type": "display_data"
    },
    {
     "name": "stdout",
     "output_type": "stream",
     "text": [
      "Cluster Comparison\n",
      "\n",
      "- Match Events:\n",
      "      0     1     2\n",
      "0  3172    21    16\n",
      "1     9  3661     1\n",
      "2     9     2  3273 \n",
      "\n",
      "- Agreement Scores:\n",
      "          0         1         2\n",
      "0  0.969734  0.003026  0.002459\n",
      "1  0.001301  0.966984  0.000143\n",
      "2  0.001387  0.000285  0.990917 \n",
      "\n",
      "- Cluster Change: 58\n",
      "- Least Change: 32\n",
      "- Convergence Epochs: [4/5]\n",
      "- Time: 0.0182 seconds\n",
      "\n",
      "Classification\n",
      "- Epoch: [39][0/160]\tTime: 0.040 (0.040)\tData: 0.023 (0.023)\tLoss: 0.0619 (0.0619)\n",
      "- Epoch: [39][50/160]\tTime: 0.030 (0.028)\tData: 0.022 (0.019)\tLoss: 0.0417 (0.0712)\n",
      "- Epoch: [39][100/160]\tTime: 0.033 (0.031)\tData: 0.023 (0.022)\tLoss: 0.0199 (0.0624)\n",
      "- Epoch: [39][150/160]\tTime: 0.025 (0.031)\tData: 0.016 (0.021)\tLoss: 0.0141 (0.0562)\n",
      "\n",
      "\n",
      "Epoch 40\n",
      "Feature Extraction\n"
     ]
    },
    {
     "name": "stderr",
     "output_type": "stream",
     "text": [
      "Extracting Features: 100%|██████████| 160/160 [00:03<00:00, 46.30it/s]\n",
      "Fitting K-means estimator...\n",
      "Running initialization...\n"
     ]
    },
    {
     "name": "stdout",
     "output_type": "stream",
     "text": [
      "Clustering\n"
     ]
    },
    {
     "data": {
      "application/vnd.jupyter.widget-view+json": {
       "model_id": "d8c389790c8244dcbca1fca4ffec788f",
       "version_major": 2,
       "version_minor": 0
      },
      "text/plain": [
       "Training: -1it [00:00, ?it/s]"
      ]
     },
     "metadata": {},
     "output_type": "display_data"
    },
    {
     "data": {
      "application/vnd.jupyter.widget-view+json": {
       "model_id": "b6b2938540204d8d8951308f6149ba0b",
       "version_major": 2,
       "version_minor": 0
      },
      "text/plain": [
       "Training: -1it [00:00, ?it/s]"
      ]
     },
     "metadata": {},
     "output_type": "display_data"
    },
    {
     "name": "stderr",
     "output_type": "stream",
     "text": [
      "Fitting K-Means...\n"
     ]
    },
    {
     "data": {
      "application/vnd.jupyter.widget-view+json": {
       "model_id": "d5122d8473a24a67b42839e4b1a98d1b",
       "version_major": 2,
       "version_minor": 0
      },
      "text/plain": [
       "Training: -1it [00:00, ?it/s]"
      ]
     },
     "metadata": {},
     "output_type": "display_data"
    },
    {
     "name": "stderr",
     "output_type": "stream",
     "text": [
      "Running initialization...\n"
     ]
    },
    {
     "data": {
      "application/vnd.jupyter.widget-view+json": {
       "model_id": "304f41f69c894ff7b92bd1ca4fd9e09f",
       "version_major": 2,
       "version_minor": 0
      },
      "text/plain": [
       "Training: -1it [00:00, ?it/s]"
      ]
     },
     "metadata": {},
     "output_type": "display_data"
    },
    {
     "name": "stderr",
     "output_type": "stream",
     "text": [
      "Fitting Gaussian mixture...\n"
     ]
    },
    {
     "data": {
      "application/vnd.jupyter.widget-view+json": {
       "model_id": "93b3feb7579e4829b04be86fa3b4be14",
       "version_major": 2,
       "version_minor": 0
      },
      "text/plain": [
       "Training: -1it [00:00, ?it/s]"
      ]
     },
     "metadata": {},
     "output_type": "display_data"
    },
    {
     "data": {
      "application/vnd.jupyter.widget-view+json": {
       "model_id": "bf2e80cc673a4b7596b6672141609988",
       "version_major": 2,
       "version_minor": 0
      },
      "text/plain": [
       "Predicting: 0it [00:00, ?it/s]"
      ]
     },
     "metadata": {},
     "output_type": "display_data"
    },
    {
     "name": "stdout",
     "output_type": "stream",
     "text": [
      "Cluster Comparison\n",
      "\n",
      "- Match Events:\n",
      "      0     1     2\n",
      "0  3188     3     3\n",
      "1     6  3674     1\n",
      "2     7     1  3286 \n",
      "\n",
      "- Agreement Scores:\n",
      "          0         1         2\n",
      "0  0.983040  0.000433  0.000462\n",
      "1  0.000864  0.971187  0.000143\n",
      "2  0.001076  0.000143  0.998177 \n",
      "\n",
      "- Cluster Change: 21\n",
      "- Least Change: 21\n",
      "- Convergence Epochs: [5/5]\n",
      "- Time: 0.2172 seconds\n",
      "\n",
      "Total Time: 567.0351 seconds\n"
     ]
    },
    {
     "data": {
      "application/vnd.jupyter.widget-view+json": {
       "model_id": "3d001a86185b4b318e5f32e4d757c386",
       "version_major": 2,
       "version_minor": 0
      },
      "image/png": "[encoded data removed]",
      "text/html": [
       "\n",
       "            <div style=\"display: inline-block;\">\n",
       "                <div class=\"jupyter-widgets widget-label\" style=\"text-align: center;\">\n",
       "                    Figure\n",
       "                </div>\n",
       "                <img src='data:image/png;base64,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' width=2000.0/>\n",
       "            </div>\n",
       "        "
      ],
      "text/plain": [
       "Canvas(toolbar=Toolbar(toolitems=[('Home', 'Reset original view', 'home', 'home'), ('Back', 'Back to previous …"
      ]
     },
     "metadata": {},
     "output_type": "display_data"
    },
    {
     "data": {
      "application/vnd.jupyter.widget-view+json": {
       "model_id": "92ae27be4d83487c81e59759aef80330",
       "version_major": 2,
       "version_minor": 0
      },
      "image/png": "[encoded data removed]",
      "text/html": [
       "\n",
       "            <div style=\"display: inline-block;\">\n",
       "                <div class=\"jupyter-widgets widget-label\" style=\"text-align: center;\">\n",
       "                    Figure\n",
       "                </div>\n",
       "                <img src='data:image/png;base64,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' width=640.0/>\n",
       "            </div>\n",
       "        "
      ],
      "text/plain": [
       "Canvas(toolbar=Toolbar(toolitems=[('Home', 'Reset original view', 'home', 'home'), ('Back', 'Back to previous …"
      ]
     },
     "metadata": {},
     "output_type": "display_data"
    }
   ],
   "source": [
    "cluster_labels = deepcluster.train_deepcluster(\n",
    "    peaks_dataset, peaks_dataloader,\n",
    "    deepcluster_model, \n",
    "    gmm, \n",
    "    num_classes,\n",
    "    deepcluster_kwargs\n",
    ")"
   ]
  },
  {
   "cell_type": "markdown",
   "metadata": {},
   "source": [
    "## 5. Compare DeepSpikeSort output"
   ]
  },
  {
   "cell_type": "code",
   "execution_count": 43,
   "metadata": {
    "tags": []
   },
   "outputs": [],
   "source": [
    "peak_times = deepcluster.get_peak_times(peaks_dataset.image_paths)"
   ]
  },
  {
   "cell_type": "code",
   "execution_count": 46,
   "metadata": {
    "tags": []
   },
   "outputs": [
    {
     "data": {
      "text/plain": [
       "NumpySorting: 3 units - 1 segments - 30.0kHz"
      ]
     },
     "execution_count": 46,
     "metadata": {},
     "output_type": "execute_result"
    }
   ],
   "source": [
    "# Create custom NumpySorting object\n",
    "sorting_dss = deepcluster.create_numpy_sorting(peak_times, cluster_labels, 30000)\n",
    "sorting_dss"
   ]
  },
  {
   "cell_type": "code",
   "execution_count": 35,
   "metadata": {
    "tags": []
   },
   "outputs": [
    {
     "data": {
      "text/plain": [
       "UnitsSelectionSorting: 3 units - 1 segments - 30.0kHz"
      ]
     },
     "execution_count": 35,
     "metadata": {},
     "output_type": "execute_result"
    }
   ],
   "source": [
    "sorting_selected = sorting_nwb.select_units(unit_ids=selected_units)\n",
    "sorting_selected"
   ]
  },
  {
   "cell_type": "code",
   "execution_count": 36,
   "metadata": {
    "tags": []
   },
   "outputs": [],
   "source": [
    "# Run the comparison\n",
    "cmp_nwb_dss = si.compare_two_sorters(\n",
    "    sorting1=sorting_dss,\n",
    "    sorting2=sorting_selected,\n",
    "    sorting1_name='DeepSpikeSort',\n",
    "    sorting2_name='NWB',\n",
    ")"
   ]
  },
  {
   "cell_type": "code",
   "execution_count": 37,
   "metadata": {
    "tags": []
   },
   "outputs": [
    {
     "data": {
      "text/plain": [
       "<spikeinterface.widgets._legacy_mpl_widgets.agreementmatrix.AgreementMatrixWidget at 0x7f35568e3a90>"
      ]
     },
     "execution_count": 37,
     "metadata": {},
     "output_type": "execute_result"
    },
    {
     "data": {
      "application/vnd.jupyter.widget-view+json": {
       "model_id": "eaa8b62ccd1c4a79aff630d0c0a903d1",
       "version_major": 2,
       "version_minor": 0
      },
      "image/png": "[encoded data removed]",
      "text/html": [
       "\n",
       "            <div style=\"display: inline-block;\">\n",
       "                <div class=\"jupyter-widgets widget-label\" style=\"text-align: center;\">\n",
       "                    Figure\n",
       "                </div>\n",
       "                <img src='data:image/png;base64,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' width=640.0/>\n",
       "            </div>\n",
       "        "
      ],
      "text/plain": [
       "Canvas(toolbar=Toolbar(toolitems=[('Home', 'Reset original view', 'home', 'home'), ('Back', 'Back to previous …"
      ]
     },
     "metadata": {},
     "output_type": "display_data"
    }
   ],
   "source": [
    "# We can check the agreement matrix to inspect the matching.\n",
    "si.plot_agreement_matrix(cmp_nwb_dss)"
   ]
  },
  {
   "cell_type": "code",
   "execution_count": 38,
   "metadata": {
    "tags": []
   },
   "outputs": [
    {
     "data": {
      "text/html": [
       "<div>\n",
       "<style scoped>\n",
       "    .dataframe tbody tr th:only-of-type {\n",
       "        vertical-align: middle;\n",
       "    }\n",
       "\n",
       "    .dataframe tbody tr th {\n",
       "        vertical-align: top;\n",
       "    }\n",
       "\n",
       "    .dataframe thead th {\n",
       "        text-align: right;\n",
       "    }\n",
       "</style>\n",
       "<table border=\"1\" class=\"dataframe\">\n",
       "  <thead>\n",
       "    <tr style=\"text-align: right;\">\n",
       "      <th></th>\n",
       "      <th>305</th>\n",
       "      <th>116</th>\n",
       "      <th>310</th>\n",
       "    </tr>\n",
       "  </thead>\n",
       "  <tbody>\n",
       "    <tr>\n",
       "      <th>0</th>\n",
       "      <td>3059</td>\n",
       "      <td>55</td>\n",
       "      <td>70</td>\n",
       "    </tr>\n",
       "    <tr>\n",
       "      <th>1</th>\n",
       "      <td>1</td>\n",
       "      <td>7</td>\n",
       "      <td>3646</td>\n",
       "    </tr>\n",
       "    <tr>\n",
       "      <th>2</th>\n",
       "      <td>4</td>\n",
       "      <td>3274</td>\n",
       "      <td>7</td>\n",
       "    </tr>\n",
       "  </tbody>\n",
       "</table>\n",
       "</div>"
      ],
      "text/plain": [
       "    305   116   310\n",
       "0  3059    55    70\n",
       "1     1     7  3646\n",
       "2     4  3274     7"
      ]
     },
     "metadata": {},
     "output_type": "display_data"
    },
    {
     "data": {
      "text/html": [
       "<div>\n",
       "<style scoped>\n",
       "    .dataframe tbody tr th:only-of-type {\n",
       "        vertical-align: middle;\n",
       "    }\n",
       "\n",
       "    .dataframe tbody tr th {\n",
       "        vertical-align: top;\n",
       "    }\n",
       "\n",
       "    .dataframe thead th {\n",
       "        text-align: right;\n",
       "    }\n",
       "</style>\n",
       "<table border=\"1\" class=\"dataframe\">\n",
       "  <thead>\n",
       "    <tr style=\"text-align: right;\">\n",
       "      <th></th>\n",
       "      <th>305</th>\n",
       "      <th>116</th>\n",
       "      <th>310</th>\n",
       "    </tr>\n",
       "  </thead>\n",
       "  <tbody>\n",
       "    <tr>\n",
       "      <th>0</th>\n",
       "      <td>0.946766</td>\n",
       "      <td>0.008382</td>\n",
       "      <td>0.008656</td>\n",
       "    </tr>\n",
       "    <tr>\n",
       "      <th>1</th>\n",
       "      <td>0.000147</td>\n",
       "      <td>0.000983</td>\n",
       "      <td>0.726440</td>\n",
       "    </tr>\n",
       "    <tr>\n",
       "      <th>2</th>\n",
       "      <td>0.000630</td>\n",
       "      <td>0.959836</td>\n",
       "      <td>0.000852</td>\n",
       "    </tr>\n",
       "  </tbody>\n",
       "</table>\n",
       "</div>"
      ],
      "text/plain": [
       "        305       116       310\n",
       "0  0.946766  0.008382  0.008656\n",
       "1  0.000147  0.000983  0.726440\n",
       "2  0.000630  0.959836  0.000852"
      ]
     },
     "metadata": {},
     "output_type": "display_data"
    }
   ],
   "source": [
    "# Some useful internal dataframes help to check the match and count\n",
    "#  like **match_event_count** or **agreement_scores**\n",
    "display(cmp_nwb_dss.match_event_count)\n",
    "display(cmp_nwb_dss.agreement_scores)"
   ]
  },
  {
   "cell_type": "code",
   "execution_count": 39,
   "metadata": {},
   "outputs": [
    {
     "data": {
      "text/plain": [
       "0    305.0\n",
       "1    310.0\n",
       "2    116.0\n",
       "dtype: float64"
      ]
     },
     "metadata": {},
     "output_type": "display_data"
    }
   ],
   "source": [
    "# In order to check which units were matched, the `get_matching` method can be used.\n",
    "# If units are not matched they are listed as -1.\n",
    "dss_to_nwb, _ = cmp_nwb_dss.get_matching()\n",
    "display(dss_to_nwb)"
   ]
  },
  {
   "cell_type": "code",
   "execution_count": null,
   "metadata": {},
   "outputs": [],
   "source": []
  }
 ],
 "metadata": {
  "kernelspec": {
   "display_name": "DeepSpikeSort",
   "language": "python",
   "name": "deep_spike_sort"
  },
  "language_info": {
   "codemirror_mode": {
    "name": "ipython",
    "version": 3
   },
   "file_extension": ".py",
   "mimetype": "text/x-python",
   "name": "python",
   "nbconvert_exporter": "python",
   "pygments_lexer": "ipython3",
   "version": "3.11.5"
  },
  "widgets": {
   "application/vnd.jupyter.widget-state+json": {
    "state": {
     "025e200be8744c8c99be5c5fadfcaed6": {
      "model_module": "@jupyter-widgets/controls",
      "model_module_version": "1.5.0",
      "model_name": "DescriptionStyleModel",
      "state": {
       "description_width": ""
      }
     },
     "06b74d374b264ab78e8868efa1997da4": {
      "model_module": "@jupyter-widgets/controls",
      "model_module_version": "1.5.0",
      "model_name": "DescriptionStyleModel",
      "state": {
       "description_width": ""
      }
     },
     "16382ad09068474786ca5e612510e136": {
      "model_module": "@jupyter-widgets/base",
      "model_module_version": "1.2.0",
      "model_name": "LayoutModel",
      "state": {
       "display": "inline-flex",
       "flex_flow": "row wrap",
       "width": "100%"
      }
     },
     "16e6eefcd15e429ab5bf6fb773e6efa8": {
      "model_module": "@jupyter-widgets/controls",
      "model_module_version": "1.5.0",
      "model_name": "HTMLModel",
      "state": {
       "layout": "IPY_MODEL_2da43649f1834473a4bd1f56dea2ba73",
       "style": "IPY_MODEL_025e200be8744c8c99be5c5fadfcaed6",
       "value": "Epoch 198: 100%"
      }
     },
     "17a7eb0c43194aabaaceae264c87d357": {
      "model_module": "@jupyter-widgets/controls",
      "model_module_version": "1.5.0",
      "model_name": "HTMLModel",
      "state": {
       "layout": "IPY_MODEL_582719d0e21f491cbaa73ce9e486fcb3",
       "style": "IPY_MODEL_477baa69459b40449fb1d8e4179e9fc7",
       "value": "Epoch 271: 100%"
      }
     },
     "1b5a1017149e497e9eec4d2ad794c76b": {
      "model_module": "@jupyter-widgets/base",
      "model_module_version": "1.2.0",
      "model_name": "LayoutModel",
      "state": {
       "flex": "2"
      }
     },
     "2da43649f1834473a4bd1f56dea2ba73": {
      "model_module": "@jupyter-widgets/base",
      "model_module_version": "1.2.0",
      "model_name": "LayoutModel",
      "state": {}
     },
     "2eb60f9b09fb47f9b3a2e5a0e3fe7655": {
      "model_module": "@jupyter-widgets/base",
      "model_module_version": "1.2.0",
      "model_name": "LayoutModel",
      "state": {}
     },
     "3698421009cf43c994885d242294dfd5": {
      "model_module": "@jupyter-widgets/controls",
      "model_module_version": "1.5.0",
      "model_name": "FloatProgressModel",
      "state": {
       "layout": "IPY_MODEL_62ef8de2dd1e416b8b18a14dea60a233",
       "max": 1,
       "style": "IPY_MODEL_fe9194b4f41c449ea0190fe805a96e24"
      }
     },
     "402060110f1f4b6d85291d10b7191a8b": {
      "model_module": "@jupyter-widgets/controls",
      "model_module_version": "1.5.0",
      "model_name": "HTMLModel",
      "state": {
       "layout": "IPY_MODEL_76154f3321454557ba373b5367ccfd58",
       "style": "IPY_MODEL_ed5e423bb8ca4c50bd0e568363a2e394",
       "value": " 1/1 [00:00&lt;00:00, 369.51it/s]"
      }
     },
     "477baa69459b40449fb1d8e4179e9fc7": {
      "model_module": "@jupyter-widgets/controls",
      "model_module_version": "1.5.0",
      "model_name": "DescriptionStyleModel",
      "state": {
       "description_width": ""
      }
     },
     "4e86a7902d574dc4bb6da5e97ef73ffb": {
      "model_module": "@jupyter-widgets/base",
      "model_module_version": "1.2.0",
      "model_name": "LayoutModel",
      "state": {
       "display": "inline-flex",
       "flex_flow": "row wrap",
       "width": "100%"
      }
     },
     "542fafa4e8604f4bb601dbe06bf1743d": {
      "model_module": "@jupyter-widgets/controls",
      "model_module_version": "1.5.0",
      "model_name": "FloatProgressModel",
      "state": {
       "bar_style": "success",
       "layout": "IPY_MODEL_abb5745b4ea1435fb532a86048b4f084",
       "max": 1,
       "style": "IPY_MODEL_7419b02064764d86bea0866cac9b4357",
       "value": 1
      }
     },
     "582719d0e21f491cbaa73ce9e486fcb3": {
      "model_module": "@jupyter-widgets/base",
      "model_module_version": "1.2.0",
      "model_name": "LayoutModel",
      "state": {}
     },
     "62ef8de2dd1e416b8b18a14dea60a233": {
      "model_module": "@jupyter-widgets/base",
      "model_module_version": "1.2.0",
      "model_name": "LayoutModel",
      "state": {
       "flex": "2"
      }
     },
     "7419b02064764d86bea0866cac9b4357": {
      "model_module": "@jupyter-widgets/controls",
      "model_module_version": "1.5.0",
      "model_name": "ProgressStyleModel",
      "state": {
       "description_width": ""
      }
     },
     "76154f3321454557ba373b5367ccfd58": {
      "model_module": "@jupyter-widgets/base",
      "model_module_version": "1.2.0",
      "model_name": "LayoutModel",
      "state": {}
     },
     "841100d26c4a42bcbe065667891da100": {
      "model_module": "@jupyter-widgets/base",
      "model_module_version": "1.2.0",
      "model_name": "LayoutModel",
      "state": {
       "display": "inline-flex",
       "flex_flow": "row wrap",
       "width": "100%"
      }
     },
     "85c9c24d2b954f9195e61de6062dcca4": {
      "model_module": "@jupyter-widgets/controls",
      "model_module_version": "1.5.0",
      "model_name": "HBoxModel",
      "state": {
       "children": [
        "IPY_MODEL_17a7eb0c43194aabaaceae264c87d357",
        "IPY_MODEL_3698421009cf43c994885d242294dfd5",
        "IPY_MODEL_f8ac28ce078a438b8ff614b2276edf94"
       ],
       "layout": "IPY_MODEL_841100d26c4a42bcbe065667891da100"
      }
     },
     "8e3dc99307da4291b1f0b9997b09cad5": {
      "model_module": "@jupyter-widgets/controls",
      "model_module_version": "1.5.0",
      "model_name": "HBoxModel",
      "state": {
       "children": [
        "IPY_MODEL_16e6eefcd15e429ab5bf6fb773e6efa8",
        "IPY_MODEL_542fafa4e8604f4bb601dbe06bf1743d",
        "IPY_MODEL_bf6df6bc1b7142fc9dd0725064484e23"
       ],
       "layout": "IPY_MODEL_16382ad09068474786ca5e612510e136"
      }
     },
     "abb5745b4ea1435fb532a86048b4f084": {
      "model_module": "@jupyter-widgets/base",
      "model_module_version": "1.2.0",
      "model_name": "LayoutModel",
      "state": {
       "flex": "2"
      }
     },
     "b19e0334e6d74adbab84cd11a610d3e7": {
      "model_module": "@jupyter-widgets/controls",
      "model_module_version": "1.5.0",
      "model_name": "FloatProgressModel",
      "state": {
       "bar_style": "success",
       "layout": "IPY_MODEL_1b5a1017149e497e9eec4d2ad794c76b",
       "max": 1,
       "style": "IPY_MODEL_c2117759204343358ae209e1317d0a99",
       "value": 1
      }
     },
     "b88e1f7bff8c41928a2a2b3fb7aa10c7": {
      "model_module": "@jupyter-widgets/controls",
      "model_module_version": "1.5.0",
      "model_name": "HBoxModel",
      "state": {
       "children": [
        "IPY_MODEL_ed415406f57944c5ac9f251720ff8c2f",
        "IPY_MODEL_b19e0334e6d74adbab84cd11a610d3e7",
        "IPY_MODEL_402060110f1f4b6d85291d10b7191a8b"
       ],
       "layout": "IPY_MODEL_4e86a7902d574dc4bb6da5e97ef73ffb"
      }
     },
     "bf6df6bc1b7142fc9dd0725064484e23": {
      "model_module": "@jupyter-widgets/controls",
      "model_module_version": "1.5.0",
      "model_name": "HTMLModel",
      "state": {
       "layout": "IPY_MODEL_2eb60f9b09fb47f9b3a2e5a0e3fe7655",
       "style": "IPY_MODEL_ec55266d32c4441583a672bbebf5623f",
       "value": " 1/1 [00:00&lt;00:00, 347.61it/s]"
      }
     },
     "c2117759204343358ae209e1317d0a99": {
      "model_module": "@jupyter-widgets/controls",
      "model_module_version": "1.5.0",
      "model_name": "ProgressStyleModel",
      "state": {
       "description_width": ""
      }
     },
     "d66bb56722904ffb8c01702c98be63e9": {
      "model_module": "@jupyter-widgets/controls",
      "model_module_version": "1.5.0",
      "model_name": "DescriptionStyleModel",
      "state": {
       "description_width": ""
      }
     },
     "dd022a8af0904d5fb0adc56391f10dea": {
      "model_module": "@jupyter-widgets/base",
      "model_module_version": "1.2.0",
      "model_name": "LayoutModel",
      "state": {}
     },
     "ebd8138c72414741b9a68594dd26a7fb": {
      "model_module": "@jupyter-widgets/base",
      "model_module_version": "1.2.0",
      "model_name": "LayoutModel",
      "state": {}
     },
     "ec55266d32c4441583a672bbebf5623f": {
      "model_module": "@jupyter-widgets/controls",
      "model_module_version": "1.5.0",
      "model_name": "DescriptionStyleModel",
      "state": {
       "description_width": ""
      }
     },
     "ed415406f57944c5ac9f251720ff8c2f": {
      "model_module": "@jupyter-widgets/controls",
      "model_module_version": "1.5.0",
      "model_name": "HTMLModel",
      "state": {
       "layout": "IPY_MODEL_ebd8138c72414741b9a68594dd26a7fb",
       "style": "IPY_MODEL_06b74d374b264ab78e8868efa1997da4",
       "value": "Epoch 299: 100%"
      }
     },
     "ed5e423bb8ca4c50bd0e568363a2e394": {
      "model_module": "@jupyter-widgets/controls",
      "model_module_version": "1.5.0",
      "model_name": "DescriptionStyleModel",
      "state": {
       "description_width": ""
      }
     },
     "f8ac28ce078a438b8ff614b2276edf94": {
      "model_module": "@jupyter-widgets/controls",
      "model_module_version": "1.5.0",
      "model_name": "HTMLModel",
      "state": {
       "layout": "IPY_MODEL_dd022a8af0904d5fb0adc56391f10dea",
       "style": "IPY_MODEL_d66bb56722904ffb8c01702c98be63e9",
       "value": " 1/1 [00:00&lt;00:00, 313.16it/s, inertia=0.902]"
      }
     },
     "fe9194b4f41c449ea0190fe805a96e24": {
      "model_module": "@jupyter-widgets/controls",
      "model_module_version": "1.5.0",
      "model_name": "ProgressStyleModel",
      "state": {
       "description_width": ""
      }
     }
    },
    "version_major": 2,
    "version_minor": 0
   }
  }
 },
 "nbformat": 4,
 "nbformat_minor": 4
}
