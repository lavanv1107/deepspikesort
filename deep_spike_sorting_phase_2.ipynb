{
 "cells": [
  {
   "cell_type": "markdown",
   "metadata": {},
   "source": [
    "# Phase 2: Implementing DeepCluster"
   ]
  },
  {
   "cell_type": "markdown",
   "metadata": {},
   "source": [
    "---"
   ]
  },
  {
   "cell_type": "markdown",
   "metadata": {},
   "source": [
    "## 1. Extract the data in an NWB file"
   ]
  },
  {
   "cell_type": "markdown",
   "metadata": {},
   "source": [
    "### Import required modules"
   ]
  },
  {
   "cell_type": "code",
   "execution_count": null,
   "metadata": {
    "tags": []
   },
   "outputs": [],
   "source": [
    "import matplotlib.pyplot as plt\n",
    "\n",
    "import numpy as np\n",
    "import pandas as pd\n",
    "\n",
    "from pathlib import Path\n",
    "import os\n",
    "import re\n",
    "import pickle\n",
    "\n",
    "import torch\n",
    "import torch.nn as nn\n",
    "from torchinfo import summary\n",
    "\n",
    "from torch.utils.data import DataLoader\n",
    "from collections import Counter\n",
    "\n",
    "from pycave.bayes import GaussianMixture\n",
    "import warnings\n",
    "warnings.simplefilter(\"ignore\")\n",
    "\n",
    "%matplotlib widget"
   ]
  },
  {
   "cell_type": "code",
   "execution_count": null,
   "metadata": {
    "tags": []
   },
   "outputs": [],
   "source": [
    "import spikeinterface.full as si\n",
    "from spikeinterface.sortingcomponents.peak_detection import detect_peaks"
   ]
  },
  {
   "cell_type": "code",
   "execution_count": null,
   "metadata": {
    "tags": []
   },
   "outputs": [],
   "source": [
    "print(f\"SpikeInterface version: {si.__version__}\")"
   ]
  },
  {
   "cell_type": "code",
   "execution_count": null,
   "metadata": {
    "tags": []
   },
   "outputs": [],
   "source": [
    "import preprocessing\n",
    "import process_peaks\n",
    "import dataset\n",
    "import model\n",
    "import deepcluster"
   ]
  },
  {
   "cell_type": "markdown",
   "metadata": {},
   "source": [
    "### Read the NWB file"
   ]
  },
  {
   "cell_type": "code",
   "execution_count": null,
   "metadata": {
    "tags": []
   },
   "outputs": [],
   "source": [
    "base_folder = Path(\".\")\n",
    "nwb_file = \"sub-CSHL049_ses-c99d53e6-c317-4c53-99ba-070b26673ac4_behavior+ecephys+image.nwb\""
   ]
  },
  {
   "cell_type": "code",
   "execution_count": null,
   "metadata": {
    "tags": []
   },
   "outputs": [],
   "source": [
    "recording_nwb = si.read_nwb(nwb_file, electrical_series_name='ElectricalSeriesAp')\n",
    "recording_nwb"
   ]
  },
  {
   "cell_type": "code",
   "execution_count": null,
   "metadata": {
    "tags": []
   },
   "outputs": [],
   "source": [
    "recording_nwb.annotate(is_filtered=False)"
   ]
  },
  {
   "cell_type": "markdown",
   "metadata": {},
   "source": [
    "### Preprocess the recording"
   ]
  },
  {
   "cell_type": "code",
   "execution_count": null,
   "metadata": {
    "tags": []
   },
   "outputs": [],
   "source": [
    "recording_f = si.bandpass_filter(recording_nwb, freq_min=300, freq_max=6000)\n",
    "recording_f"
   ]
  },
  {
   "cell_type": "code",
   "execution_count": null,
   "metadata": {
    "tags": []
   },
   "outputs": [],
   "source": [
    "recording_cmr = si.common_reference(recording_f, reference='global', operator='median')\n",
    "recording_cmr"
   ]
  },
  {
   "cell_type": "markdown",
   "metadata": {},
   "source": [
    "### Extract channels and spikes information"
   ]
  },
  {
   "cell_type": "code",
   "execution_count": null,
   "metadata": {
    "tags": []
   },
   "outputs": [],
   "source": [
    "recording_slice = preprocessing.channel_slice_electricalseriesap(recording_cmr)\n",
    "recording_slice"
   ]
  },
  {
   "cell_type": "code",
   "execution_count": null,
   "metadata": {
    "tags": []
   },
   "outputs": [],
   "source": [
    "channels_table = preprocessing.extract_channels(recording_slice)\n",
    "display(channels_table)"
   ]
  },
  {
   "cell_type": "code",
   "execution_count": null,
   "metadata": {},
   "outputs": [],
   "source": [
    "channels_table['channel_loc_x'].unique()"
   ]
  },
  {
   "cell_type": "code",
   "execution_count": null,
   "metadata": {
    "tags": []
   },
   "outputs": [],
   "source": [
    "sorting_nwb = si.read_nwb_sorting(file_path=nwb_file, electrical_series_name='ElectricalSeriesAp')\n",
    "sorting_nwb"
   ]
  },
  {
   "cell_type": "code",
   "execution_count": null,
   "metadata": {
    "tags": []
   },
   "outputs": [],
   "source": [
    "waveform_folder = 'waveform'\n",
    "\n",
    "job_kwargs = dict(n_jobs=10, chunk_duration=\"1s\", progress_bar=True)"
   ]
  },
  {
   "cell_type": "code",
   "execution_count": null,
   "metadata": {
    "scrolled": true,
    "tags": []
   },
   "outputs": [],
   "source": [
    "if (base_folder / waveform_folder).is_dir():\n",
    "    waveform_nwb = si.load_waveforms(base_folder / waveform_folder, with_recording=False)\n",
    "else:\n",
    "    waveform_nwb = si.extract_waveforms(\n",
    "        recording_slice,\n",
    "        sorting_nwb,\n",
    "        waveform_folder,\n",
    "        ms_before=1.5,\n",
    "        ms_after=2.,\n",
    "        max_spikes_per_unit=None,\n",
    "        overwrite=True,\n",
    "        **job_kwargs\n",
    "    )"
   ]
  },
  {
   "cell_type": "code",
   "execution_count": null,
   "metadata": {
    "tags": []
   },
   "outputs": [],
   "source": [
    "waveform_nwb"
   ]
  },
  {
   "cell_type": "code",
   "execution_count": null,
   "metadata": {
    "tags": []
   },
   "outputs": [],
   "source": [
    "spikes_table = preprocessing.extract_spikes(sorting_nwb, waveform_nwb)\n",
    "display(spikes_table)"
   ]
  },
  {
   "cell_type": "code",
   "execution_count": null,
   "metadata": {
    "tags": []
   },
   "outputs": [],
   "source": [
    "peaks_folder = 'peaks'\n",
    "\n",
    "job_kwargs = dict(chunk_duration='1s', n_jobs=8, progress_bar=True)"
   ]
  },
  {
   "cell_type": "code",
   "execution_count": null,
   "metadata": {
    "scrolled": true,
    "tags": []
   },
   "outputs": [],
   "source": [
    "if (base_folder / peaks_folder).is_dir():\n",
    "    peaks = process_peaks.load_peaks(base_folder / peaks_folder)\n",
    "else:\n",
    "    peaks = detect_peaks(\n",
    "        recording_slice,\n",
    "        method='locally_exclusive',\n",
    "        peak_sign='neg',\n",
    "        detect_threshold=6,\n",
    "        **job_kwargs\n",
    "    )\n",
    "    \n",
    "    process_peaks.save_peaks(peaks, base_folder / peaks_folder)"
   ]
  },
  {
   "cell_type": "code",
   "execution_count": null,
   "metadata": {
    "tags": []
   },
   "outputs": [],
   "source": [
    "peaks_table = process_peaks.extract_peaks(recording_slice, peaks)\n",
    "display(peaks_table)"
   ]
  },
  {
   "cell_type": "markdown",
   "metadata": {},
   "source": [
    "---"
   ]
  },
  {
   "cell_type": "markdown",
   "metadata": {},
   "source": [
    "## 2. Match peaks to spikes"
   ]
  },
  {
   "cell_type": "code",
   "execution_count": null,
   "metadata": {
    "tags": []
   },
   "outputs": [],
   "source": [
    "peaks_matched_table_file = os.path.join(peaks_folder, \"peaks_matched_table.pkl\")\n",
    "\n",
    "if os.path.exists(peaks_matched_table_file):\n",
    "    peaks_matched_table = pd.read_pickle(peaks_matched_table_file)\n",
    "else:\n",
    "    peaks_matched_table = process_peaks.match_peaks(peaks_table, spikes_table, channels_table)\n",
    "    peaks_matched_table.to_pickle(peaks_matched_table_file)\n",
    "    \n",
    "display(peaks_matched_table)"
   ]
  },
  {
   "cell_type": "markdown",
   "metadata": {},
   "source": [
    "## 3. Create a dataset from matched peaks"
   ]
  },
  {
   "cell_type": "code",
   "execution_count": null,
   "metadata": {
    "tags": []
   },
   "outputs": [],
   "source": [
    "peaks_dataset_folder = os.path.join(peaks_folder, 'peaks_dataset')\n",
    "\n",
    "if not os.path.exists(peaks_dataset_folder):\n",
    "    os.mkdir(peaks_dataset_folder)"
   ]
  },
  {
   "cell_type": "code",
   "execution_count": null,
   "metadata": {
    "tags": []
   },
   "outputs": [],
   "source": [
    "unit_counts = peaks_matched_table['unit_id'].value_counts()\n",
    "filtered_units = unit_counts[(unit_counts >= 3000) & (unit_counts <= 4000)]\n",
    "selected_units = filtered_units.sample(n=3, random_state=1).index.to_list()\n",
    "\n",
    "print(selected_units)"
   ]
  },
  {
   "cell_type": "code",
   "execution_count": null,
   "metadata": {
    "tags": []
   },
   "outputs": [],
   "source": [
    "peaks_dataset = dataset.UnsupervisedDataset(peaks_dataset_folder, selected_units, shuffle=True, seed=0)\n",
    "print('Dataset:', len(peaks_dataset))"
   ]
  },
  {
   "cell_type": "code",
   "execution_count": null,
   "metadata": {
    "tags": []
   },
   "outputs": [],
   "source": [
    "classes = peaks_dataset.get_labels()\n",
    "print(Counter(classes))"
   ]
  },
  {
   "cell_type": "code",
   "execution_count": null,
   "metadata": {},
   "outputs": [],
   "source": [
    "peaks_dataloader = DataLoader(\n",
    "        peaks_dataset,\n",
    "        batch_size=64\n",
    ")"
   ]
  },
  {
   "cell_type": "markdown",
   "metadata": {},
   "source": [
    "---"
   ]
  },
  {
   "cell_type": "markdown",
   "metadata": {},
   "source": [
    "## 4. Implementing DeepCluster"
   ]
  },
  {
   "cell_type": "code",
   "execution_count": null,
   "metadata": {
    "tags": []
   },
   "outputs": [],
   "source": [
    "import importlib\n",
    "\n",
    "preprocessing = importlib.reload(preprocessing)\n",
    "process_peaks = importlib.reload(process_peaks)\n",
    "dataset = importlib.reload(dataset)\n",
    "model = importlib.reload(model)\n",
    "deepcluster = importlib.reload(deepcluster)"
   ]
  },
  {
   "cell_type": "code",
   "execution_count": null,
   "metadata": {
    "tags": []
   },
   "outputs": [],
   "source": [
    "!nvidia-smi"
   ]
  },
  {
   "cell_type": "code",
   "execution_count": null,
   "metadata": {
    "tags": []
   },
   "outputs": [],
   "source": [
    "num_classes=3\n",
    "deepcluster_model = model.DeepCluster(num_classes)\n",
    "gmm = GaussianMixture(num_classes, covariance_type=\"full\", init_strategy='kmeans', trainer_params=dict(gpus=[0]))"
   ]
  },
  {
   "cell_type": "code",
   "execution_count": null,
   "metadata": {
    "tags": []
   },
   "outputs": [],
   "source": [
    "device=torch.device(\"cuda:0\")\n",
    "device_ids=[0]"
   ]
  },
  {
   "cell_type": "code",
   "execution_count": null,
   "metadata": {
    "tags": []
   },
   "outputs": [],
   "source": [
    "deepcluster_kwargs = dict(\n",
    "    device=torch.device(\"cuda:0\"), \n",
    "    device_ids=[0], \n",
    "    loss_fn=nn.CrossEntropyLoss(), \n",
    "    optimizer=torch.optim.Adam(deepcluster_model.parameters(), lr=0.0001),\n",
    "    sampling_frequency = 30000,\n",
    "    epochs=200\n",
    ")"
   ]
  },
  {
   "cell_type": "code",
   "execution_count": null,
   "metadata": {
    "tags": []
   },
   "outputs": [],
   "source": [
    "cluster_labels = deepcluster.train_deepcluster(\n",
    "    peaks_dataset, peaks_dataloader,\n",
    "    deepcluster_model, \n",
    "    gmm, \n",
    "    num_classes,\n",
    "    deepcluster_kwargs\n",
    ")"
   ]
  },
  {
   "cell_type": "markdown",
   "metadata": {},
   "source": [
    "## 5. Compare DeepSpikeSort output"
   ]
  },
  {
   "cell_type": "code",
   "execution_count": null,
   "metadata": {
    "tags": []
   },
   "outputs": [],
   "source": [
    "peak_times = deepcluster.get_peak_times(peaks_dataset.image_paths)"
   ]
  },
  {
   "cell_type": "code",
   "execution_count": null,
   "metadata": {
    "tags": []
   },
   "outputs": [],
   "source": [
    "# Create custom NumpySorting object\n",
    "sorting_dss = deepcluster.create_numpy_sorting(peak_times, cluster_labels, 30000)\n",
    "sorting_dss"
   ]
  },
  {
   "cell_type": "code",
   "execution_count": null,
   "metadata": {
    "tags": []
   },
   "outputs": [],
   "source": [
    "sorting_selected = sorting_nwb.select_units(unit_ids=selected_units)\n",
    "sorting_selected"
   ]
  },
  {
   "cell_type": "code",
   "execution_count": null,
   "metadata": {
    "tags": []
   },
   "outputs": [],
   "source": [
    "# Run the comparison\n",
    "cmp_nwb_dss = si.compare_two_sorters(\n",
    "    sorting1=sorting_dss,\n",
    "    sorting2=sorting_selected,\n",
    "    sorting1_name='DeepSpikeSort',\n",
    "    sorting2_name='NWB',\n",
    ")"
   ]
  },
  {
   "cell_type": "code",
   "execution_count": null,
   "metadata": {
    "tags": []
   },
   "outputs": [],
   "source": [
    "# We can check the agreement matrix to inspect the matching.\n",
    "si.plot_agreement_matrix(cmp_nwb_dss)"
   ]
  },
  {
   "cell_type": "code",
   "execution_count": null,
   "metadata": {
    "tags": []
   },
   "outputs": [],
   "source": [
    "# Some useful internal dataframes help to check the match and count\n",
    "#  like **match_event_count** or **agreement_scores**\n",
    "display(cmp_nwb_dss.match_event_count)\n",
    "display(cmp_nwb_dss.agreement_scores)"
   ]
  },
  {
   "cell_type": "code",
   "execution_count": null,
   "metadata": {},
   "outputs": [],
   "source": [
    "# In order to check which units were matched, the `get_matching` method can be used.\n",
    "# If units are not matched they are listed as -1.\n",
    "dss_to_nwb, _ = cmp_nwb_dss.get_matching()\n",
    "display(dss_to_nwb)"
   ]
  },
  {
   "cell_type": "code",
   "execution_count": null,
   "metadata": {},
   "outputs": [],
   "source": []
  }
 ],
 "metadata": {
  "kernelspec": {
   "display_name": "DeepSpikeSort",
   "language": "python",
   "name": "deep_spike_sort"
  },
  "language_info": {
   "codemirror_mode": {
    "name": "ipython",
    "version": 3
   },
   "file_extension": ".py",
   "mimetype": "text/x-python",
   "name": "python",
   "nbconvert_exporter": "python",
   "pygments_lexer": "ipython3",
   "version": "3.11.5"
  },
  "widgets": {
   "application/vnd.jupyter.widget-state+json": {
    "state": {
     "025e200be8744c8c99be5c5fadfcaed6": {
      "model_module": "@jupyter-widgets/controls",
      "model_module_version": "1.5.0",
      "model_name": "DescriptionStyleModel",
      "state": {
       "description_width": ""
      }
     },
     "06b74d374b264ab78e8868efa1997da4": {
      "model_module": "@jupyter-widgets/controls",
      "model_module_version": "1.5.0",
      "model_name": "DescriptionStyleModel",
      "state": {
       "description_width": ""
      }
     },
     "16382ad09068474786ca5e612510e136": {
      "model_module": "@jupyter-widgets/base",
      "model_module_version": "1.2.0",
      "model_name": "LayoutModel",
      "state": {
       "display": "inline-flex",
       "flex_flow": "row wrap",
       "width": "100%"
      }
     },
     "16e6eefcd15e429ab5bf6fb773e6efa8": {
      "model_module": "@jupyter-widgets/controls",
      "model_module_version": "1.5.0",
      "model_name": "HTMLModel",
      "state": {
       "layout": "IPY_MODEL_2da43649f1834473a4bd1f56dea2ba73",
       "style": "IPY_MODEL_025e200be8744c8c99be5c5fadfcaed6",
       "value": "Epoch 198: 100%"
      }
     },
     "17a7eb0c43194aabaaceae264c87d357": {
      "model_module": "@jupyter-widgets/controls",
      "model_module_version": "1.5.0",
      "model_name": "HTMLModel",
      "state": {
       "layout": "IPY_MODEL_582719d0e21f491cbaa73ce9e486fcb3",
       "style": "IPY_MODEL_477baa69459b40449fb1d8e4179e9fc7",
       "value": "Epoch 271: 100%"
      }
     },
     "1b5a1017149e497e9eec4d2ad794c76b": {
      "model_module": "@jupyter-widgets/base",
      "model_module_version": "1.2.0",
      "model_name": "LayoutModel",
      "state": {
       "flex": "2"
      }
     },
     "2da43649f1834473a4bd1f56dea2ba73": {
      "model_module": "@jupyter-widgets/base",
      "model_module_version": "1.2.0",
      "model_name": "LayoutModel",
      "state": {}
     },
     "2eb60f9b09fb47f9b3a2e5a0e3fe7655": {
      "model_module": "@jupyter-widgets/base",
      "model_module_version": "1.2.0",
      "model_name": "LayoutModel",
      "state": {}
     },
     "3698421009cf43c994885d242294dfd5": {
      "model_module": "@jupyter-widgets/controls",
      "model_module_version": "1.5.0",
      "model_name": "FloatProgressModel",
      "state": {
       "layout": "IPY_MODEL_62ef8de2dd1e416b8b18a14dea60a233",
       "max": 1,
       "style": "IPY_MODEL_fe9194b4f41c449ea0190fe805a96e24"
      }
     },
     "402060110f1f4b6d85291d10b7191a8b": {
      "model_module": "@jupyter-widgets/controls",
      "model_module_version": "1.5.0",
      "model_name": "HTMLModel",
      "state": {
       "layout": "IPY_MODEL_76154f3321454557ba373b5367ccfd58",
       "style": "IPY_MODEL_ed5e423bb8ca4c50bd0e568363a2e394",
       "value": " 1/1 [00:00&lt;00:00, 369.51it/s]"
      }
     },
     "477baa69459b40449fb1d8e4179e9fc7": {
      "model_module": "@jupyter-widgets/controls",
      "model_module_version": "1.5.0",
      "model_name": "DescriptionStyleModel",
      "state": {
       "description_width": ""
      }
     },
     "4e86a7902d574dc4bb6da5e97ef73ffb": {
      "model_module": "@jupyter-widgets/base",
      "model_module_version": "1.2.0",
      "model_name": "LayoutModel",
      "state": {
       "display": "inline-flex",
       "flex_flow": "row wrap",
       "width": "100%"
      }
     },
     "542fafa4e8604f4bb601dbe06bf1743d": {
      "model_module": "@jupyter-widgets/controls",
      "model_module_version": "1.5.0",
      "model_name": "FloatProgressModel",
      "state": {
       "bar_style": "success",
       "layout": "IPY_MODEL_abb5745b4ea1435fb532a86048b4f084",
       "max": 1,
       "style": "IPY_MODEL_7419b02064764d86bea0866cac9b4357",
       "value": 1
      }
     },
     "582719d0e21f491cbaa73ce9e486fcb3": {
      "model_module": "@jupyter-widgets/base",
      "model_module_version": "1.2.0",
      "model_name": "LayoutModel",
      "state": {}
     },
     "62ef8de2dd1e416b8b18a14dea60a233": {
      "model_module": "@jupyter-widgets/base",
      "model_module_version": "1.2.0",
      "model_name": "LayoutModel",
      "state": {
       "flex": "2"
      }
     },
     "7419b02064764d86bea0866cac9b4357": {
      "model_module": "@jupyter-widgets/controls",
      "model_module_version": "1.5.0",
      "model_name": "ProgressStyleModel",
      "state": {
       "description_width": ""
      }
     },
     "76154f3321454557ba373b5367ccfd58": {
      "model_module": "@jupyter-widgets/base",
      "model_module_version": "1.2.0",
      "model_name": "LayoutModel",
      "state": {}
     },
     "841100d26c4a42bcbe065667891da100": {
      "model_module": "@jupyter-widgets/base",
      "model_module_version": "1.2.0",
      "model_name": "LayoutModel",
      "state": {
       "display": "inline-flex",
       "flex_flow": "row wrap",
       "width": "100%"
      }
     },
     "85c9c24d2b954f9195e61de6062dcca4": {
      "model_module": "@jupyter-widgets/controls",
      "model_module_version": "1.5.0",
      "model_name": "HBoxModel",
      "state": {
       "children": [
        "IPY_MODEL_17a7eb0c43194aabaaceae264c87d357",
        "IPY_MODEL_3698421009cf43c994885d242294dfd5",
        "IPY_MODEL_f8ac28ce078a438b8ff614b2276edf94"
       ],
       "layout": "IPY_MODEL_841100d26c4a42bcbe065667891da100"
      }
     },
     "8e3dc99307da4291b1f0b9997b09cad5": {
      "model_module": "@jupyter-widgets/controls",
      "model_module_version": "1.5.0",
      "model_name": "HBoxModel",
      "state": {
       "children": [
        "IPY_MODEL_16e6eefcd15e429ab5bf6fb773e6efa8",
        "IPY_MODEL_542fafa4e8604f4bb601dbe06bf1743d",
        "IPY_MODEL_bf6df6bc1b7142fc9dd0725064484e23"
       ],
       "layout": "IPY_MODEL_16382ad09068474786ca5e612510e136"
      }
     },
     "abb5745b4ea1435fb532a86048b4f084": {
      "model_module": "@jupyter-widgets/base",
      "model_module_version": "1.2.0",
      "model_name": "LayoutModel",
      "state": {
       "flex": "2"
      }
     },
     "b19e0334e6d74adbab84cd11a610d3e7": {
      "model_module": "@jupyter-widgets/controls",
      "model_module_version": "1.5.0",
      "model_name": "FloatProgressModel",
      "state": {
       "bar_style": "success",
       "layout": "IPY_MODEL_1b5a1017149e497e9eec4d2ad794c76b",
       "max": 1,
       "style": "IPY_MODEL_c2117759204343358ae209e1317d0a99",
       "value": 1
      }
     },
     "b88e1f7bff8c41928a2a2b3fb7aa10c7": {
      "model_module": "@jupyter-widgets/controls",
      "model_module_version": "1.5.0",
      "model_name": "HBoxModel",
      "state": {
       "children": [
        "IPY_MODEL_ed415406f57944c5ac9f251720ff8c2f",
        "IPY_MODEL_b19e0334e6d74adbab84cd11a610d3e7",
        "IPY_MODEL_402060110f1f4b6d85291d10b7191a8b"
       ],
       "layout": "IPY_MODEL_4e86a7902d574dc4bb6da5e97ef73ffb"
      }
     },
     "bf6df6bc1b7142fc9dd0725064484e23": {
      "model_module": "@jupyter-widgets/controls",
      "model_module_version": "1.5.0",
      "model_name": "HTMLModel",
      "state": {
       "layout": "IPY_MODEL_2eb60f9b09fb47f9b3a2e5a0e3fe7655",
       "style": "IPY_MODEL_ec55266d32c4441583a672bbebf5623f",
       "value": " 1/1 [00:00&lt;00:00, 347.61it/s]"
      }
     },
     "c2117759204343358ae209e1317d0a99": {
      "model_module": "@jupyter-widgets/controls",
      "model_module_version": "1.5.0",
      "model_name": "ProgressStyleModel",
      "state": {
       "description_width": ""
      }
     },
     "d66bb56722904ffb8c01702c98be63e9": {
      "model_module": "@jupyter-widgets/controls",
      "model_module_version": "1.5.0",
      "model_name": "DescriptionStyleModel",
      "state": {
       "description_width": ""
      }
     },
     "dd022a8af0904d5fb0adc56391f10dea": {
      "model_module": "@jupyter-widgets/base",
      "model_module_version": "1.2.0",
      "model_name": "LayoutModel",
      "state": {}
     },
     "ebd8138c72414741b9a68594dd26a7fb": {
      "model_module": "@jupyter-widgets/base",
      "model_module_version": "1.2.0",
      "model_name": "LayoutModel",
      "state": {}
     },
     "ec55266d32c4441583a672bbebf5623f": {
      "model_module": "@jupyter-widgets/controls",
      "model_module_version": "1.5.0",
      "model_name": "DescriptionStyleModel",
      "state": {
       "description_width": ""
      }
     },
     "ed415406f57944c5ac9f251720ff8c2f": {
      "model_module": "@jupyter-widgets/controls",
      "model_module_version": "1.5.0",
      "model_name": "HTMLModel",
      "state": {
       "layout": "IPY_MODEL_ebd8138c72414741b9a68594dd26a7fb",
       "style": "IPY_MODEL_06b74d374b264ab78e8868efa1997da4",
       "value": "Epoch 299: 100%"
      }
     },
     "ed5e423bb8ca4c50bd0e568363a2e394": {
      "model_module": "@jupyter-widgets/controls",
      "model_module_version": "1.5.0",
      "model_name": "DescriptionStyleModel",
      "state": {
       "description_width": ""
      }
     },
     "f8ac28ce078a438b8ff614b2276edf94": {
      "model_module": "@jupyter-widgets/controls",
      "model_module_version": "1.5.0",
      "model_name": "HTMLModel",
      "state": {
       "layout": "IPY_MODEL_dd022a8af0904d5fb0adc56391f10dea",
       "style": "IPY_MODEL_d66bb56722904ffb8c01702c98be63e9",
       "value": " 1/1 [00:00&lt;00:00, 313.16it/s, inertia=0.902]"
      }
     },
     "fe9194b4f41c449ea0190fe805a96e24": {
      "model_module": "@jupyter-widgets/controls",
      "model_module_version": "1.5.0",
      "model_name": "ProgressStyleModel",
      "state": {
       "description_width": ""
      }
     }
    },
    "version_major": 2,
    "version_minor": 0
   }
  }
 },
 "nbformat": 4,
 "nbformat_minor": 4
}
