{
 "cells": [
  {
   "cell_type": "markdown",
   "id": "d81a5455-f12c-4a22-8168-58c6b8e517f3",
   "metadata": {},
   "source": [
    "This notebook creates the data necessary for both evaluation and selection of waveforms to sort in the current version of DeepSpikeSort (ultimately, it will be used only for evaluation)."
   ]
  },
  {
   "cell_type": "code",
   "execution_count": 1,
   "id": "d121081a-59b3-4d25-850c-2da3b55c8d8e",
   "metadata": {},
   "outputs": [],
   "source": [
    "from one.api import ONE\n",
    "\n",
    "one = ONE(\n",
    "    base_url=\"https://openalyx.internationalbrainlab.org\",\n",
    "    username=\"intbrainlab\",  \n",
    "    password=\"international\",\n",
    "    silent=True\n",
    ")\n",
    "\n",
    "eid = \"c99d53e6-c317-4c53-99ba-070b26673ac4\"\n",
    "pids, _ = one.eid2pid(eid)\n",
    "pid = pids[0]"
   ]
  },
  {
   "cell_type": "code",
   "execution_count": null,
   "id": "8136845b-961d-457a-9c75-fcac9cb2f7cb",
   "metadata": {},
   "outputs": [
    {
     "name": "stderr",
     "output_type": "stream",
     "text": [
      "(S3) /global/homes/r/rly/Downloads/ONE/openalyx.internationalbrainlab.org/churchlandlab/Subjects/CSHL049/2020-01-09/001/raw_ephys_data/probe00/_spikeglx_ephysData_g0_t0.imec.ap.ch: 100%|██████████| 129k/129k [00:00<00:00, 285kB/s]\n",
      "(S3) /global/homes/r/rly/Downloads/ONE/openalyx.internationalbrainlab.org/churchlandlab/Subjects/CSHL049/2020-01-09/001/raw_ephys_data/probe00/_spikeglx_ephysData_g0_t0.imec.ap.meta: 100%|██████████| 16.8k/16.8k [00:00<00:00, 67.7kB/s]\n",
      "/global/common/software/m3513/deepspikesort/lib/python3.12/site-packages/one/util.py:406: ALFWarning: No default revision for dataset alf/probe00/pykilosort/spikes.amps.npy; using most recent\n",
      "  warnings.warn(\n",
      "/global/common/software/m3513/deepspikesort/lib/python3.12/site-packages/one/util.py:406: ALFWarning: No default revision for dataset alf/probe00/pykilosort/spikes.clusters.npy; using most recent\n",
      "  warnings.warn(\n",
      "/global/common/software/m3513/deepspikesort/lib/python3.12/site-packages/one/util.py:406: ALFWarning: No default revision for dataset alf/probe00/pykilosort/spikes.depths.npy; using most recent\n",
      "  warnings.warn(\n",
      "/global/common/software/m3513/deepspikesort/lib/python3.12/site-packages/one/util.py:406: ALFWarning: No default revision for dataset alf/probe00/pykilosort/spikes.samples.npy; using most recent\n",
      "  warnings.warn(\n",
      "/global/common/software/m3513/deepspikesort/lib/python3.12/site-packages/one/util.py:406: ALFWarning: No default revision for dataset alf/probe00/pykilosort/#2024-05-06#/spikes.times.npy; using most recent\n",
      "  warnings.warn(\n",
      "(S3) /global/homes/r/rly/Downloads/ONE/openalyx.internationalbrainlab.org/churchlandlab/Subjects/CSHL049/2020-01-09/001/alf/probe00/pykilosort/#2024-05-06#/spikes.amps.npy: 100%|██████████| 175M/175M [00:01<00:00, 100MB/s]  \n",
      "(S3) /global/homes/r/rly/Downloads/ONE/openalyx.internationalbrainlab.org/churchlandlab/Subjects/CSHL049/2020-01-09/001/alf/probe00/pykilosort/#2024-05-06#/spikes.clusters.npy:   0%|          | 0.00/87.7M [00:00<?, ?B/s]"
     ]
    }
   ],
   "source": [
    "import os\n",
    "import spikeinterface.full as si\n",
    "\n",
    "data_folder = \"../data/sub-CSHL049\"\n",
    "extractors_folder = os.path.join(data_folder, \"extractors\")\n",
    "sorting_folder = os.path.join(extractors_folder, \"sorting\")\n",
    "if not os.path.exists(sorting_folder):  \n",
    "    sorting = si.read_ibl_sorting(pid)        \n",
    "    sorting.save(folder=sorting_folder)\n",
    "else:\n",
    "    sorting = si.load_extractor(sorting_folder)\n",
    "\n",
    "sorting"
   ]
  },
  {
   "cell_type": "code",
   "execution_count": null,
   "id": "5a337aa8-c323-41e8-a183-3d823cf1dd90",
   "metadata": {},
   "outputs": [],
   "source": [
    "analyzer_folder = os.path.join(extractors_folder, \"analyzer\")\n",
    "if not os.path.exists(analyzer_folder):\n",
    "    analyzer = si.create_sorting_analyzer(\n",
    "        sorting=sorting,\n",
    "        recording=recording_cmr,\n",
    "        format=\"memory\"\n",
    "    )\n",
    "    \n",
    "    # Compute extensions\n",
    "    job_kwargs = dict(n_jobs=10, chunk_duration=\"1s\", progress_bar=True)\n",
    "    compute_dict = {\n",
    "        'random_spikes': {'method': 'uniform'},\n",
    "        'waveforms': {'ms_before': 1.0, 'ms_after': 2.0},\n",
    "        'templates': {'operators': [\"average\", \"median\", \"std\"]}\n",
    "    }\n",
    "    analyzer.compute(compute_dict, **job_kwargs)\n",
    "    \n",
    "    # Save the sorting analyzer to disk\n",
    "    analyzer.save_as(folder=analyzer_folder, format=\"binary_folder\")\n",
    "else:\n",
    "    analyzer = si.load_sorting_analyzer(analyzer_folder)\n",
    "    \n",
    "analyzer"
   ]
  },
  {
   "cell_type": "code",
   "execution_count": null,
   "id": "fd86ea92-70da-42ca-8a2f-659dbfe85984",
   "metadata": {},
   "outputs": [],
   "source": [
    "channel_locations_file = os.path.join(extractors_folder, \"channel_locations.npy\")\n",
    "channel_locations= np.load(channel_locations_file)"
   ]
  },
  {
   "cell_type": "code",
   "execution_count": null,
   "id": "082245e4-50ab-4768-aa85-ea254ea76a18",
   "metadata": {},
   "outputs": [],
   "source": [
    "spikes_folder = os.path.join(data_folder, \"spikes\")\n",
    "os.makedirs(spikes_folder, exist_ok=True)\n",
    "\n",
    "spikes_file = os.path.join(spikes_folder, \"spikes.npy\")\n",
    "if not os.path.exists(spikes_file):\n",
    "    spikes = preprocessing.extract_spikes(sorting, analyzer, channel_locations)\n",
    "    np.save(spikes_file, spikes)\n",
    "else:\n",
    "    spikes = np.load(spikes_file)\n",
    "    \n",
    "display(pd.DataFrame(spikes))"
   ]
  }
 ],
 "metadata": {
  "kernelspec": {
   "display_name": "dss",
   "language": "python",
   "name": "dss"
  },
  "language_info": {
   "codemirror_mode": {
    "name": "ipython",
    "version": 3
   },
   "file_extension": ".py",
   "mimetype": "text/x-python",
   "name": "python",
   "nbconvert_exporter": "python",
   "pygments_lexer": "ipython3",
   "version": "3.12.9"
  }
 },
 "nbformat": 4,
 "nbformat_minor": 5
}
